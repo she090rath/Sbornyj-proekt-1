{
 "cells": [
  {
   "cell_type": "markdown",
   "metadata": {},
   "source": [
    "# Исследование рынка видеоигр"
   ]
  },
  {
   "cell_type": "markdown",
   "metadata": {},
   "source": [
    "В нашем распоряжении данные из открытых источников о продажах игр, оценки пользователей и экспертов, жанры и платформы до 2016 года. Нам нужно провести исследование для международного магазина видеоигр: на исторических данных выявить определяющие успешность игры закономерности. Это позволит сделать ставку на потенциально популярный продукт и спланировать рекламные кампании."
   ]
  },
  {
   "cell_type": "markdown",
   "metadata": {},
   "source": [
    "Необходимо подготовить данные к анализу, выснять популярность жанров и платформ у пользователей, посмотреть на влияние оценки критиков и пользователей на продажи.\n",
    "А так же проверить гипотезы."
   ]
  },
  {
   "cell_type": "markdown",
   "metadata": {},
   "source": [
    "### Шаг 1. Откройте файл с данными и изучите общую информацию:\n",
    "- Путь к файлу: /datasets/games.csv."
   ]
  },
  {
   "cell_type": "markdown",
   "metadata": {},
   "source": [
    "**Описание данных:**\n",
    "- Name — название игры\n",
    "- Platform — платформа\n",
    "- Year_of_Release — год выхода\n",
    "- Genre — жанр игры\n",
    "- NA_sales — продажи в Северной Америке (миллионы проданных копий)\n",
    "- EU_sales — продажи в Европе (миллионы проданных копий)\n",
    "- JP_sales — продажи в Японии (миллионы проданных копий)\n",
    "- Other_sales — продажи в других странах (миллионы проданных копий)\n",
    "- Critic_Score — оценка критиков (максимум 10)\n",
    "- User_Score — оценка пользователей (максимум 10)\n",
    "- Rating — рейтинг от организации ESRB (англ. Entertainment Software Rating Board). Эта ассоциация определяет рейтинг компьютерных игр и присваивает им подходящую возрастную категорию."
   ]
  },
  {
   "cell_type": "code",
   "execution_count": 1,
   "metadata": {},
   "outputs": [],
   "source": [
    "import pandas as pd\n",
    "import numpy as np \n",
    "import matplotlib.pyplot as plt\n",
    "import seaborn\n",
    "from scipy import stats as st\n",
    "from statistics import mean"
   ]
  },
  {
   "cell_type": "code",
   "execution_count": 2,
   "metadata": {},
   "outputs": [],
   "source": [
    "games = pd.read_csv('/datasets/games.csv')"
   ]
  },
  {
   "cell_type": "code",
   "execution_count": 3,
   "metadata": {},
   "outputs": [
    {
     "data": {
      "text/html": [
       "<div>\n",
       "<style scoped>\n",
       "    .dataframe tbody tr th:only-of-type {\n",
       "        vertical-align: middle;\n",
       "    }\n",
       "\n",
       "    .dataframe tbody tr th {\n",
       "        vertical-align: top;\n",
       "    }\n",
       "\n",
       "    .dataframe thead th {\n",
       "        text-align: right;\n",
       "    }\n",
       "</style>\n",
       "<table border=\"1\" class=\"dataframe\">\n",
       "  <thead>\n",
       "    <tr style=\"text-align: right;\">\n",
       "      <th></th>\n",
       "      <th>Name</th>\n",
       "      <th>Platform</th>\n",
       "      <th>Year_of_Release</th>\n",
       "      <th>Genre</th>\n",
       "      <th>NA_sales</th>\n",
       "      <th>EU_sales</th>\n",
       "      <th>JP_sales</th>\n",
       "      <th>Other_sales</th>\n",
       "      <th>Critic_Score</th>\n",
       "      <th>User_Score</th>\n",
       "      <th>Rating</th>\n",
       "    </tr>\n",
       "  </thead>\n",
       "  <tbody>\n",
       "    <tr>\n",
       "      <th>0</th>\n",
       "      <td>Wii Sports</td>\n",
       "      <td>Wii</td>\n",
       "      <td>2006.0</td>\n",
       "      <td>Sports</td>\n",
       "      <td>41.36</td>\n",
       "      <td>28.96</td>\n",
       "      <td>3.77</td>\n",
       "      <td>8.45</td>\n",
       "      <td>76.0</td>\n",
       "      <td>8</td>\n",
       "      <td>E</td>\n",
       "    </tr>\n",
       "    <tr>\n",
       "      <th>1</th>\n",
       "      <td>Super Mario Bros.</td>\n",
       "      <td>NES</td>\n",
       "      <td>1985.0</td>\n",
       "      <td>Platform</td>\n",
       "      <td>29.08</td>\n",
       "      <td>3.58</td>\n",
       "      <td>6.81</td>\n",
       "      <td>0.77</td>\n",
       "      <td>NaN</td>\n",
       "      <td>NaN</td>\n",
       "      <td>NaN</td>\n",
       "    </tr>\n",
       "    <tr>\n",
       "      <th>2</th>\n",
       "      <td>Mario Kart Wii</td>\n",
       "      <td>Wii</td>\n",
       "      <td>2008.0</td>\n",
       "      <td>Racing</td>\n",
       "      <td>15.68</td>\n",
       "      <td>12.76</td>\n",
       "      <td>3.79</td>\n",
       "      <td>3.29</td>\n",
       "      <td>82.0</td>\n",
       "      <td>8.3</td>\n",
       "      <td>E</td>\n",
       "    </tr>\n",
       "    <tr>\n",
       "      <th>3</th>\n",
       "      <td>Wii Sports Resort</td>\n",
       "      <td>Wii</td>\n",
       "      <td>2009.0</td>\n",
       "      <td>Sports</td>\n",
       "      <td>15.61</td>\n",
       "      <td>10.93</td>\n",
       "      <td>3.28</td>\n",
       "      <td>2.95</td>\n",
       "      <td>80.0</td>\n",
       "      <td>8</td>\n",
       "      <td>E</td>\n",
       "    </tr>\n",
       "    <tr>\n",
       "      <th>4</th>\n",
       "      <td>Pokemon Red/Pokemon Blue</td>\n",
       "      <td>GB</td>\n",
       "      <td>1996.0</td>\n",
       "      <td>Role-Playing</td>\n",
       "      <td>11.27</td>\n",
       "      <td>8.89</td>\n",
       "      <td>10.22</td>\n",
       "      <td>1.00</td>\n",
       "      <td>NaN</td>\n",
       "      <td>NaN</td>\n",
       "      <td>NaN</td>\n",
       "    </tr>\n",
       "  </tbody>\n",
       "</table>\n",
       "</div>"
      ],
      "text/plain": [
       "                       Name Platform  Year_of_Release         Genre  NA_sales  \\\n",
       "0                Wii Sports      Wii           2006.0        Sports     41.36   \n",
       "1         Super Mario Bros.      NES           1985.0      Platform     29.08   \n",
       "2            Mario Kart Wii      Wii           2008.0        Racing     15.68   \n",
       "3         Wii Sports Resort      Wii           2009.0        Sports     15.61   \n",
       "4  Pokemon Red/Pokemon Blue       GB           1996.0  Role-Playing     11.27   \n",
       "\n",
       "   EU_sales  JP_sales  Other_sales  Critic_Score User_Score Rating  \n",
       "0     28.96      3.77         8.45          76.0          8      E  \n",
       "1      3.58      6.81         0.77           NaN        NaN    NaN  \n",
       "2     12.76      3.79         3.29          82.0        8.3      E  \n",
       "3     10.93      3.28         2.95          80.0          8      E  \n",
       "4      8.89     10.22         1.00           NaN        NaN    NaN  "
      ]
     },
     "metadata": {},
     "output_type": "display_data"
    },
    {
     "name": "stdout",
     "output_type": "stream",
     "text": [
      "<class 'pandas.core.frame.DataFrame'>\n",
      "RangeIndex: 16715 entries, 0 to 16714\n",
      "Data columns (total 11 columns):\n",
      " #   Column           Non-Null Count  Dtype  \n",
      "---  ------           --------------  -----  \n",
      " 0   Name             16713 non-null  object \n",
      " 1   Platform         16715 non-null  object \n",
      " 2   Year_of_Release  16446 non-null  float64\n",
      " 3   Genre            16713 non-null  object \n",
      " 4   NA_sales         16715 non-null  float64\n",
      " 5   EU_sales         16715 non-null  float64\n",
      " 6   JP_sales         16715 non-null  float64\n",
      " 7   Other_sales      16715 non-null  float64\n",
      " 8   Critic_Score     8137 non-null   float64\n",
      " 9   User_Score       10014 non-null  object \n",
      " 10  Rating           9949 non-null   object \n",
      "dtypes: float64(6), object(5)\n",
      "memory usage: 1.4+ MB\n"
     ]
    },
    {
     "data": {
      "text/html": [
       "<div>\n",
       "<style scoped>\n",
       "    .dataframe tbody tr th:only-of-type {\n",
       "        vertical-align: middle;\n",
       "    }\n",
       "\n",
       "    .dataframe tbody tr th {\n",
       "        vertical-align: top;\n",
       "    }\n",
       "\n",
       "    .dataframe thead th {\n",
       "        text-align: right;\n",
       "    }\n",
       "</style>\n",
       "<table border=\"1\" class=\"dataframe\">\n",
       "  <thead>\n",
       "    <tr style=\"text-align: right;\">\n",
       "      <th></th>\n",
       "      <th>Year_of_Release</th>\n",
       "      <th>NA_sales</th>\n",
       "      <th>EU_sales</th>\n",
       "      <th>JP_sales</th>\n",
       "      <th>Other_sales</th>\n",
       "      <th>Critic_Score</th>\n",
       "    </tr>\n",
       "  </thead>\n",
       "  <tbody>\n",
       "    <tr>\n",
       "      <th>count</th>\n",
       "      <td>16446.000000</td>\n",
       "      <td>16715.000000</td>\n",
       "      <td>16715.000000</td>\n",
       "      <td>16715.000000</td>\n",
       "      <td>16715.000000</td>\n",
       "      <td>8137.000000</td>\n",
       "    </tr>\n",
       "    <tr>\n",
       "      <th>mean</th>\n",
       "      <td>2006.484616</td>\n",
       "      <td>0.263377</td>\n",
       "      <td>0.145060</td>\n",
       "      <td>0.077617</td>\n",
       "      <td>0.047342</td>\n",
       "      <td>68.967679</td>\n",
       "    </tr>\n",
       "    <tr>\n",
       "      <th>std</th>\n",
       "      <td>5.877050</td>\n",
       "      <td>0.813604</td>\n",
       "      <td>0.503339</td>\n",
       "      <td>0.308853</td>\n",
       "      <td>0.186731</td>\n",
       "      <td>13.938165</td>\n",
       "    </tr>\n",
       "    <tr>\n",
       "      <th>min</th>\n",
       "      <td>1980.000000</td>\n",
       "      <td>0.000000</td>\n",
       "      <td>0.000000</td>\n",
       "      <td>0.000000</td>\n",
       "      <td>0.000000</td>\n",
       "      <td>13.000000</td>\n",
       "    </tr>\n",
       "    <tr>\n",
       "      <th>25%</th>\n",
       "      <td>2003.000000</td>\n",
       "      <td>0.000000</td>\n",
       "      <td>0.000000</td>\n",
       "      <td>0.000000</td>\n",
       "      <td>0.000000</td>\n",
       "      <td>60.000000</td>\n",
       "    </tr>\n",
       "    <tr>\n",
       "      <th>50%</th>\n",
       "      <td>2007.000000</td>\n",
       "      <td>0.080000</td>\n",
       "      <td>0.020000</td>\n",
       "      <td>0.000000</td>\n",
       "      <td>0.010000</td>\n",
       "      <td>71.000000</td>\n",
       "    </tr>\n",
       "    <tr>\n",
       "      <th>75%</th>\n",
       "      <td>2010.000000</td>\n",
       "      <td>0.240000</td>\n",
       "      <td>0.110000</td>\n",
       "      <td>0.040000</td>\n",
       "      <td>0.030000</td>\n",
       "      <td>79.000000</td>\n",
       "    </tr>\n",
       "    <tr>\n",
       "      <th>max</th>\n",
       "      <td>2016.000000</td>\n",
       "      <td>41.360000</td>\n",
       "      <td>28.960000</td>\n",
       "      <td>10.220000</td>\n",
       "      <td>10.570000</td>\n",
       "      <td>98.000000</td>\n",
       "    </tr>\n",
       "  </tbody>\n",
       "</table>\n",
       "</div>"
      ],
      "text/plain": [
       "       Year_of_Release      NA_sales      EU_sales      JP_sales  \\\n",
       "count     16446.000000  16715.000000  16715.000000  16715.000000   \n",
       "mean       2006.484616      0.263377      0.145060      0.077617   \n",
       "std           5.877050      0.813604      0.503339      0.308853   \n",
       "min        1980.000000      0.000000      0.000000      0.000000   \n",
       "25%        2003.000000      0.000000      0.000000      0.000000   \n",
       "50%        2007.000000      0.080000      0.020000      0.000000   \n",
       "75%        2010.000000      0.240000      0.110000      0.040000   \n",
       "max        2016.000000     41.360000     28.960000     10.220000   \n",
       "\n",
       "        Other_sales  Critic_Score  \n",
       "count  16715.000000   8137.000000  \n",
       "mean       0.047342     68.967679  \n",
       "std        0.186731     13.938165  \n",
       "min        0.000000     13.000000  \n",
       "25%        0.000000     60.000000  \n",
       "50%        0.010000     71.000000  \n",
       "75%        0.030000     79.000000  \n",
       "max       10.570000     98.000000  "
      ]
     },
     "execution_count": 3,
     "metadata": {},
     "output_type": "execute_result"
    }
   ],
   "source": [
    "display(games.head())\n",
    "games.info()\n",
    "games.describe()"
   ]
  },
  {
   "cell_type": "markdown",
   "metadata": {},
   "source": [
    "### Шаг 2. Подготовьте данные:\n",
    "- Замените названия столбцов (приведите к нижнему регистру);\n",
    "- Преобразуйте данные в нужные типы. Опишите, в каких столбцах заменили тип данных и почему;\n",
    "- Обработайте пропуски при необходимости:\n",
    "    - Объясните, почему заполнили пропуски определённым образом или почему не стали это делать;\n",
    "    - Опишите причины, которые могли привести к пропускам;\n",
    "    - Обратите внимание на аббревиатуру 'tbd' в столбце с оценкой пользователей. Отдельно разберите это значение и опишите, как его обработать;\n",
    "- Посчитайте суммарные продажи во всех регионах и запишите их в отдельный столбец."
   ]
  },
  {
   "cell_type": "code",
   "execution_count": 4,
   "metadata": {
    "scrolled": true
   },
   "outputs": [
    {
     "data": {
      "text/html": [
       "<div>\n",
       "<style scoped>\n",
       "    .dataframe tbody tr th:only-of-type {\n",
       "        vertical-align: middle;\n",
       "    }\n",
       "\n",
       "    .dataframe tbody tr th {\n",
       "        vertical-align: top;\n",
       "    }\n",
       "\n",
       "    .dataframe thead th {\n",
       "        text-align: right;\n",
       "    }\n",
       "</style>\n",
       "<table border=\"1\" class=\"dataframe\">\n",
       "  <thead>\n",
       "    <tr style=\"text-align: right;\">\n",
       "      <th></th>\n",
       "      <th>name</th>\n",
       "      <th>platform</th>\n",
       "      <th>year_of_release</th>\n",
       "      <th>genre</th>\n",
       "      <th>na_sales</th>\n",
       "      <th>eu_sales</th>\n",
       "      <th>jp_sales</th>\n",
       "      <th>other_sales</th>\n",
       "      <th>critic_score</th>\n",
       "      <th>user_score</th>\n",
       "      <th>rating</th>\n",
       "    </tr>\n",
       "  </thead>\n",
       "  <tbody>\n",
       "    <tr>\n",
       "      <th>0</th>\n",
       "      <td>Wii Sports</td>\n",
       "      <td>Wii</td>\n",
       "      <td>2006.0</td>\n",
       "      <td>Sports</td>\n",
       "      <td>41.36</td>\n",
       "      <td>28.96</td>\n",
       "      <td>3.77</td>\n",
       "      <td>8.45</td>\n",
       "      <td>76.0</td>\n",
       "      <td>8</td>\n",
       "      <td>E</td>\n",
       "    </tr>\n",
       "    <tr>\n",
       "      <th>1</th>\n",
       "      <td>Super Mario Bros.</td>\n",
       "      <td>NES</td>\n",
       "      <td>1985.0</td>\n",
       "      <td>Platform</td>\n",
       "      <td>29.08</td>\n",
       "      <td>3.58</td>\n",
       "      <td>6.81</td>\n",
       "      <td>0.77</td>\n",
       "      <td>NaN</td>\n",
       "      <td>NaN</td>\n",
       "      <td>NaN</td>\n",
       "    </tr>\n",
       "    <tr>\n",
       "      <th>2</th>\n",
       "      <td>Mario Kart Wii</td>\n",
       "      <td>Wii</td>\n",
       "      <td>2008.0</td>\n",
       "      <td>Racing</td>\n",
       "      <td>15.68</td>\n",
       "      <td>12.76</td>\n",
       "      <td>3.79</td>\n",
       "      <td>3.29</td>\n",
       "      <td>82.0</td>\n",
       "      <td>8.3</td>\n",
       "      <td>E</td>\n",
       "    </tr>\n",
       "    <tr>\n",
       "      <th>3</th>\n",
       "      <td>Wii Sports Resort</td>\n",
       "      <td>Wii</td>\n",
       "      <td>2009.0</td>\n",
       "      <td>Sports</td>\n",
       "      <td>15.61</td>\n",
       "      <td>10.93</td>\n",
       "      <td>3.28</td>\n",
       "      <td>2.95</td>\n",
       "      <td>80.0</td>\n",
       "      <td>8</td>\n",
       "      <td>E</td>\n",
       "    </tr>\n",
       "    <tr>\n",
       "      <th>4</th>\n",
       "      <td>Pokemon Red/Pokemon Blue</td>\n",
       "      <td>GB</td>\n",
       "      <td>1996.0</td>\n",
       "      <td>Role-Playing</td>\n",
       "      <td>11.27</td>\n",
       "      <td>8.89</td>\n",
       "      <td>10.22</td>\n",
       "      <td>1.00</td>\n",
       "      <td>NaN</td>\n",
       "      <td>NaN</td>\n",
       "      <td>NaN</td>\n",
       "    </tr>\n",
       "    <tr>\n",
       "      <th>...</th>\n",
       "      <td>...</td>\n",
       "      <td>...</td>\n",
       "      <td>...</td>\n",
       "      <td>...</td>\n",
       "      <td>...</td>\n",
       "      <td>...</td>\n",
       "      <td>...</td>\n",
       "      <td>...</td>\n",
       "      <td>...</td>\n",
       "      <td>...</td>\n",
       "      <td>...</td>\n",
       "    </tr>\n",
       "    <tr>\n",
       "      <th>16710</th>\n",
       "      <td>Samurai Warriors: Sanada Maru</td>\n",
       "      <td>PS3</td>\n",
       "      <td>2016.0</td>\n",
       "      <td>Action</td>\n",
       "      <td>0.00</td>\n",
       "      <td>0.00</td>\n",
       "      <td>0.01</td>\n",
       "      <td>0.00</td>\n",
       "      <td>NaN</td>\n",
       "      <td>NaN</td>\n",
       "      <td>NaN</td>\n",
       "    </tr>\n",
       "    <tr>\n",
       "      <th>16711</th>\n",
       "      <td>LMA Manager 2007</td>\n",
       "      <td>X360</td>\n",
       "      <td>2006.0</td>\n",
       "      <td>Sports</td>\n",
       "      <td>0.00</td>\n",
       "      <td>0.01</td>\n",
       "      <td>0.00</td>\n",
       "      <td>0.00</td>\n",
       "      <td>NaN</td>\n",
       "      <td>NaN</td>\n",
       "      <td>NaN</td>\n",
       "    </tr>\n",
       "    <tr>\n",
       "      <th>16712</th>\n",
       "      <td>Haitaka no Psychedelica</td>\n",
       "      <td>PSV</td>\n",
       "      <td>2016.0</td>\n",
       "      <td>Adventure</td>\n",
       "      <td>0.00</td>\n",
       "      <td>0.00</td>\n",
       "      <td>0.01</td>\n",
       "      <td>0.00</td>\n",
       "      <td>NaN</td>\n",
       "      <td>NaN</td>\n",
       "      <td>NaN</td>\n",
       "    </tr>\n",
       "    <tr>\n",
       "      <th>16713</th>\n",
       "      <td>Spirits &amp; Spells</td>\n",
       "      <td>GBA</td>\n",
       "      <td>2003.0</td>\n",
       "      <td>Platform</td>\n",
       "      <td>0.01</td>\n",
       "      <td>0.00</td>\n",
       "      <td>0.00</td>\n",
       "      <td>0.00</td>\n",
       "      <td>NaN</td>\n",
       "      <td>NaN</td>\n",
       "      <td>NaN</td>\n",
       "    </tr>\n",
       "    <tr>\n",
       "      <th>16714</th>\n",
       "      <td>Winning Post 8 2016</td>\n",
       "      <td>PSV</td>\n",
       "      <td>2016.0</td>\n",
       "      <td>Simulation</td>\n",
       "      <td>0.00</td>\n",
       "      <td>0.00</td>\n",
       "      <td>0.01</td>\n",
       "      <td>0.00</td>\n",
       "      <td>NaN</td>\n",
       "      <td>NaN</td>\n",
       "      <td>NaN</td>\n",
       "    </tr>\n",
       "  </tbody>\n",
       "</table>\n",
       "<p>16715 rows × 11 columns</p>\n",
       "</div>"
      ],
      "text/plain": [
       "                                name platform  year_of_release         genre  \\\n",
       "0                         Wii Sports      Wii           2006.0        Sports   \n",
       "1                  Super Mario Bros.      NES           1985.0      Platform   \n",
       "2                     Mario Kart Wii      Wii           2008.0        Racing   \n",
       "3                  Wii Sports Resort      Wii           2009.0        Sports   \n",
       "4           Pokemon Red/Pokemon Blue       GB           1996.0  Role-Playing   \n",
       "...                              ...      ...              ...           ...   \n",
       "16710  Samurai Warriors: Sanada Maru      PS3           2016.0        Action   \n",
       "16711               LMA Manager 2007     X360           2006.0        Sports   \n",
       "16712        Haitaka no Psychedelica      PSV           2016.0     Adventure   \n",
       "16713               Spirits & Spells      GBA           2003.0      Platform   \n",
       "16714            Winning Post 8 2016      PSV           2016.0    Simulation   \n",
       "\n",
       "       na_sales  eu_sales  jp_sales  other_sales  critic_score user_score  \\\n",
       "0         41.36     28.96      3.77         8.45          76.0          8   \n",
       "1         29.08      3.58      6.81         0.77           NaN        NaN   \n",
       "2         15.68     12.76      3.79         3.29          82.0        8.3   \n",
       "3         15.61     10.93      3.28         2.95          80.0          8   \n",
       "4         11.27      8.89     10.22         1.00           NaN        NaN   \n",
       "...         ...       ...       ...          ...           ...        ...   \n",
       "16710      0.00      0.00      0.01         0.00           NaN        NaN   \n",
       "16711      0.00      0.01      0.00         0.00           NaN        NaN   \n",
       "16712      0.00      0.00      0.01         0.00           NaN        NaN   \n",
       "16713      0.01      0.00      0.00         0.00           NaN        NaN   \n",
       "16714      0.00      0.00      0.01         0.00           NaN        NaN   \n",
       "\n",
       "      rating  \n",
       "0          E  \n",
       "1        NaN  \n",
       "2          E  \n",
       "3          E  \n",
       "4        NaN  \n",
       "...      ...  \n",
       "16710    NaN  \n",
       "16711    NaN  \n",
       "16712    NaN  \n",
       "16713    NaN  \n",
       "16714    NaN  \n",
       "\n",
       "[16715 rows x 11 columns]"
      ]
     },
     "metadata": {},
     "output_type": "display_data"
    }
   ],
   "source": [
    "# приведем названия столбцов к нижнему регистру\n",
    "games.columns = games.columns.str.lower()\n",
    "display(games)"
   ]
  },
  {
   "cell_type": "code",
   "execution_count": 5,
   "metadata": {},
   "outputs": [
    {
     "data": {
      "text/plain": [
       "0"
      ]
     },
     "execution_count": 5,
     "metadata": {},
     "output_type": "execute_result"
    }
   ],
   "source": [
    "# проверим количество дубликатов в датасете\n",
    "games.duplicated().sum()"
   ]
  },
  {
   "cell_type": "code",
   "execution_count": 6,
   "metadata": {},
   "outputs": [
    {
     "data": {
      "text/html": [
       "<div>\n",
       "<style scoped>\n",
       "    .dataframe tbody tr th:only-of-type {\n",
       "        vertical-align: middle;\n",
       "    }\n",
       "\n",
       "    .dataframe tbody tr th {\n",
       "        vertical-align: top;\n",
       "    }\n",
       "\n",
       "    .dataframe thead th {\n",
       "        text-align: right;\n",
       "    }\n",
       "</style>\n",
       "<table border=\"1\" class=\"dataframe\">\n",
       "  <thead>\n",
       "    <tr style=\"text-align: right;\">\n",
       "      <th></th>\n",
       "      <th>name</th>\n",
       "      <th>platform</th>\n",
       "      <th>year_of_release</th>\n",
       "      <th>genre</th>\n",
       "      <th>na_sales</th>\n",
       "      <th>eu_sales</th>\n",
       "      <th>jp_sales</th>\n",
       "      <th>other_sales</th>\n",
       "      <th>critic_score</th>\n",
       "      <th>user_score</th>\n",
       "      <th>rating</th>\n",
       "    </tr>\n",
       "  </thead>\n",
       "  <tbody>\n",
       "    <tr>\n",
       "      <th>659</th>\n",
       "      <td>NaN</td>\n",
       "      <td>GEN</td>\n",
       "      <td>1993.0</td>\n",
       "      <td>NaN</td>\n",
       "      <td>1.78</td>\n",
       "      <td>0.53</td>\n",
       "      <td>0.00</td>\n",
       "      <td>0.08</td>\n",
       "      <td>NaN</td>\n",
       "      <td>NaN</td>\n",
       "      <td>NaN</td>\n",
       "    </tr>\n",
       "    <tr>\n",
       "      <th>14244</th>\n",
       "      <td>NaN</td>\n",
       "      <td>GEN</td>\n",
       "      <td>1993.0</td>\n",
       "      <td>NaN</td>\n",
       "      <td>0.00</td>\n",
       "      <td>0.00</td>\n",
       "      <td>0.03</td>\n",
       "      <td>0.00</td>\n",
       "      <td>NaN</td>\n",
       "      <td>NaN</td>\n",
       "      <td>NaN</td>\n",
       "    </tr>\n",
       "  </tbody>\n",
       "</table>\n",
       "</div>"
      ],
      "text/plain": [
       "      name platform  year_of_release genre  na_sales  eu_sales  jp_sales  \\\n",
       "659    NaN      GEN           1993.0   NaN      1.78      0.53      0.00   \n",
       "14244  NaN      GEN           1993.0   NaN      0.00      0.00      0.03   \n",
       "\n",
       "       other_sales  critic_score user_score rating  \n",
       "659           0.08           NaN        NaN    NaN  \n",
       "14244         0.00           NaN        NaN    NaN  "
      ]
     },
     "execution_count": 6,
     "metadata": {},
     "output_type": "execute_result"
    }
   ],
   "source": [
    "# пропуски в столбце name\n",
    "games[games['name'].isnull()]"
   ]
  },
  {
   "cell_type": "markdown",
   "metadata": {},
   "source": [
    "**Считаю лучше их удалить**"
   ]
  },
  {
   "cell_type": "code",
   "execution_count": 7,
   "metadata": {},
   "outputs": [
    {
     "data": {
      "text/html": [
       "<div>\n",
       "<style scoped>\n",
       "    .dataframe tbody tr th:only-of-type {\n",
       "        vertical-align: middle;\n",
       "    }\n",
       "\n",
       "    .dataframe tbody tr th {\n",
       "        vertical-align: top;\n",
       "    }\n",
       "\n",
       "    .dataframe thead th {\n",
       "        text-align: right;\n",
       "    }\n",
       "</style>\n",
       "<table border=\"1\" class=\"dataframe\">\n",
       "  <thead>\n",
       "    <tr style=\"text-align: right;\">\n",
       "      <th></th>\n",
       "      <th>name</th>\n",
       "      <th>platform</th>\n",
       "      <th>year_of_release</th>\n",
       "      <th>genre</th>\n",
       "      <th>na_sales</th>\n",
       "      <th>eu_sales</th>\n",
       "      <th>jp_sales</th>\n",
       "      <th>other_sales</th>\n",
       "      <th>critic_score</th>\n",
       "      <th>user_score</th>\n",
       "      <th>rating</th>\n",
       "    </tr>\n",
       "  </thead>\n",
       "  <tbody>\n",
       "  </tbody>\n",
       "</table>\n",
       "</div>"
      ],
      "text/plain": [
       "Empty DataFrame\n",
       "Columns: [name, platform, year_of_release, genre, na_sales, eu_sales, jp_sales, other_sales, critic_score, user_score, rating]\n",
       "Index: []"
      ]
     },
     "execution_count": 7,
     "metadata": {},
     "output_type": "execute_result"
    }
   ],
   "source": [
    "games = games.dropna(subset = ['name'])\n",
    "# проверим\n",
    "games[games['name'].isnull()]"
   ]
  },
  {
   "cell_type": "code",
   "execution_count": 8,
   "metadata": {},
   "outputs": [
    {
     "data": {
      "text/html": [
       "<div>\n",
       "<style scoped>\n",
       "    .dataframe tbody tr th:only-of-type {\n",
       "        vertical-align: middle;\n",
       "    }\n",
       "\n",
       "    .dataframe tbody tr th {\n",
       "        vertical-align: top;\n",
       "    }\n",
       "\n",
       "    .dataframe thead th {\n",
       "        text-align: right;\n",
       "    }\n",
       "</style>\n",
       "<table border=\"1\" class=\"dataframe\">\n",
       "  <thead>\n",
       "    <tr style=\"text-align: right;\">\n",
       "      <th></th>\n",
       "      <th>name</th>\n",
       "      <th>platform</th>\n",
       "      <th>year_of_release</th>\n",
       "      <th>genre</th>\n",
       "      <th>na_sales</th>\n",
       "      <th>eu_sales</th>\n",
       "      <th>jp_sales</th>\n",
       "      <th>other_sales</th>\n",
       "      <th>critic_score</th>\n",
       "      <th>user_score</th>\n",
       "      <th>rating</th>\n",
       "    </tr>\n",
       "  </thead>\n",
       "  <tbody>\n",
       "    <tr>\n",
       "      <th>183</th>\n",
       "      <td>Madden NFL 2004</td>\n",
       "      <td>PS2</td>\n",
       "      <td>NaN</td>\n",
       "      <td>Sports</td>\n",
       "      <td>4.26</td>\n",
       "      <td>0.26</td>\n",
       "      <td>0.01</td>\n",
       "      <td>0.71</td>\n",
       "      <td>94.0</td>\n",
       "      <td>8.5</td>\n",
       "      <td>E</td>\n",
       "    </tr>\n",
       "    <tr>\n",
       "      <th>377</th>\n",
       "      <td>FIFA Soccer 2004</td>\n",
       "      <td>PS2</td>\n",
       "      <td>NaN</td>\n",
       "      <td>Sports</td>\n",
       "      <td>0.59</td>\n",
       "      <td>2.36</td>\n",
       "      <td>0.04</td>\n",
       "      <td>0.51</td>\n",
       "      <td>84.0</td>\n",
       "      <td>6.4</td>\n",
       "      <td>E</td>\n",
       "    </tr>\n",
       "    <tr>\n",
       "      <th>456</th>\n",
       "      <td>LEGO Batman: The Videogame</td>\n",
       "      <td>Wii</td>\n",
       "      <td>NaN</td>\n",
       "      <td>Action</td>\n",
       "      <td>1.80</td>\n",
       "      <td>0.97</td>\n",
       "      <td>0.00</td>\n",
       "      <td>0.29</td>\n",
       "      <td>74.0</td>\n",
       "      <td>7.9</td>\n",
       "      <td>E10+</td>\n",
       "    </tr>\n",
       "    <tr>\n",
       "      <th>475</th>\n",
       "      <td>wwe Smackdown vs. Raw 2006</td>\n",
       "      <td>PS2</td>\n",
       "      <td>NaN</td>\n",
       "      <td>Fighting</td>\n",
       "      <td>1.57</td>\n",
       "      <td>1.02</td>\n",
       "      <td>0.00</td>\n",
       "      <td>0.41</td>\n",
       "      <td>NaN</td>\n",
       "      <td>NaN</td>\n",
       "      <td>NaN</td>\n",
       "    </tr>\n",
       "    <tr>\n",
       "      <th>609</th>\n",
       "      <td>Space Invaders</td>\n",
       "      <td>2600</td>\n",
       "      <td>NaN</td>\n",
       "      <td>Shooter</td>\n",
       "      <td>2.36</td>\n",
       "      <td>0.14</td>\n",
       "      <td>0.00</td>\n",
       "      <td>0.03</td>\n",
       "      <td>NaN</td>\n",
       "      <td>NaN</td>\n",
       "      <td>NaN</td>\n",
       "    </tr>\n",
       "    <tr>\n",
       "      <th>...</th>\n",
       "      <td>...</td>\n",
       "      <td>...</td>\n",
       "      <td>...</td>\n",
       "      <td>...</td>\n",
       "      <td>...</td>\n",
       "      <td>...</td>\n",
       "      <td>...</td>\n",
       "      <td>...</td>\n",
       "      <td>...</td>\n",
       "      <td>...</td>\n",
       "      <td>...</td>\n",
       "    </tr>\n",
       "    <tr>\n",
       "      <th>16373</th>\n",
       "      <td>PDC World Championship Darts 2008</td>\n",
       "      <td>PSP</td>\n",
       "      <td>NaN</td>\n",
       "      <td>Sports</td>\n",
       "      <td>0.01</td>\n",
       "      <td>0.00</td>\n",
       "      <td>0.00</td>\n",
       "      <td>0.00</td>\n",
       "      <td>43.0</td>\n",
       "      <td>tbd</td>\n",
       "      <td>E10+</td>\n",
       "    </tr>\n",
       "    <tr>\n",
       "      <th>16405</th>\n",
       "      <td>Freaky Flyers</td>\n",
       "      <td>GC</td>\n",
       "      <td>NaN</td>\n",
       "      <td>Racing</td>\n",
       "      <td>0.01</td>\n",
       "      <td>0.00</td>\n",
       "      <td>0.00</td>\n",
       "      <td>0.00</td>\n",
       "      <td>69.0</td>\n",
       "      <td>6.5</td>\n",
       "      <td>T</td>\n",
       "    </tr>\n",
       "    <tr>\n",
       "      <th>16448</th>\n",
       "      <td>Inversion</td>\n",
       "      <td>PC</td>\n",
       "      <td>NaN</td>\n",
       "      <td>Shooter</td>\n",
       "      <td>0.01</td>\n",
       "      <td>0.00</td>\n",
       "      <td>0.00</td>\n",
       "      <td>0.00</td>\n",
       "      <td>59.0</td>\n",
       "      <td>6.7</td>\n",
       "      <td>M</td>\n",
       "    </tr>\n",
       "    <tr>\n",
       "      <th>16458</th>\n",
       "      <td>Hakuouki: Shinsengumi Kitan</td>\n",
       "      <td>PS3</td>\n",
       "      <td>NaN</td>\n",
       "      <td>Adventure</td>\n",
       "      <td>0.01</td>\n",
       "      <td>0.00</td>\n",
       "      <td>0.00</td>\n",
       "      <td>0.00</td>\n",
       "      <td>NaN</td>\n",
       "      <td>NaN</td>\n",
       "      <td>NaN</td>\n",
       "    </tr>\n",
       "    <tr>\n",
       "      <th>16522</th>\n",
       "      <td>Virtua Quest</td>\n",
       "      <td>GC</td>\n",
       "      <td>NaN</td>\n",
       "      <td>Role-Playing</td>\n",
       "      <td>0.01</td>\n",
       "      <td>0.00</td>\n",
       "      <td>0.00</td>\n",
       "      <td>0.00</td>\n",
       "      <td>55.0</td>\n",
       "      <td>5.5</td>\n",
       "      <td>T</td>\n",
       "    </tr>\n",
       "  </tbody>\n",
       "</table>\n",
       "<p>269 rows × 11 columns</p>\n",
       "</div>"
      ],
      "text/plain": [
       "                                    name platform  year_of_release  \\\n",
       "183                      Madden NFL 2004      PS2              NaN   \n",
       "377                     FIFA Soccer 2004      PS2              NaN   \n",
       "456           LEGO Batman: The Videogame      Wii              NaN   \n",
       "475           wwe Smackdown vs. Raw 2006      PS2              NaN   \n",
       "609                       Space Invaders     2600              NaN   \n",
       "...                                  ...      ...              ...   \n",
       "16373  PDC World Championship Darts 2008      PSP              NaN   \n",
       "16405                      Freaky Flyers       GC              NaN   \n",
       "16448                          Inversion       PC              NaN   \n",
       "16458        Hakuouki: Shinsengumi Kitan      PS3              NaN   \n",
       "16522                       Virtua Quest       GC              NaN   \n",
       "\n",
       "              genre  na_sales  eu_sales  jp_sales  other_sales  critic_score  \\\n",
       "183          Sports      4.26      0.26      0.01         0.71          94.0   \n",
       "377          Sports      0.59      2.36      0.04         0.51          84.0   \n",
       "456          Action      1.80      0.97      0.00         0.29          74.0   \n",
       "475        Fighting      1.57      1.02      0.00         0.41           NaN   \n",
       "609         Shooter      2.36      0.14      0.00         0.03           NaN   \n",
       "...             ...       ...       ...       ...          ...           ...   \n",
       "16373        Sports      0.01      0.00      0.00         0.00          43.0   \n",
       "16405        Racing      0.01      0.00      0.00         0.00          69.0   \n",
       "16448       Shooter      0.01      0.00      0.00         0.00          59.0   \n",
       "16458     Adventure      0.01      0.00      0.00         0.00           NaN   \n",
       "16522  Role-Playing      0.01      0.00      0.00         0.00          55.0   \n",
       "\n",
       "      user_score rating  \n",
       "183          8.5      E  \n",
       "377          6.4      E  \n",
       "456          7.9   E10+  \n",
       "475          NaN    NaN  \n",
       "609          NaN    NaN  \n",
       "...          ...    ...  \n",
       "16373        tbd   E10+  \n",
       "16405        6.5      T  \n",
       "16448        6.7      M  \n",
       "16458        NaN    NaN  \n",
       "16522        5.5      T  \n",
       "\n",
       "[269 rows x 11 columns]"
      ]
     },
     "execution_count": 8,
     "metadata": {},
     "output_type": "execute_result"
    }
   ],
   "source": [
    "# пропуски в столбце year_of_release\n",
    "games[games['year_of_release'].isnull()]"
   ]
  },
  {
   "cell_type": "markdown",
   "metadata": {},
   "source": [
    "**Пропусков всего 1.61%, считаю их лучше удалить**"
   ]
  },
  {
   "cell_type": "code",
   "execution_count": 9,
   "metadata": {},
   "outputs": [
    {
     "data": {
      "text/html": [
       "<div>\n",
       "<style scoped>\n",
       "    .dataframe tbody tr th:only-of-type {\n",
       "        vertical-align: middle;\n",
       "    }\n",
       "\n",
       "    .dataframe tbody tr th {\n",
       "        vertical-align: top;\n",
       "    }\n",
       "\n",
       "    .dataframe thead th {\n",
       "        text-align: right;\n",
       "    }\n",
       "</style>\n",
       "<table border=\"1\" class=\"dataframe\">\n",
       "  <thead>\n",
       "    <tr style=\"text-align: right;\">\n",
       "      <th></th>\n",
       "      <th>name</th>\n",
       "      <th>platform</th>\n",
       "      <th>year_of_release</th>\n",
       "      <th>genre</th>\n",
       "      <th>na_sales</th>\n",
       "      <th>eu_sales</th>\n",
       "      <th>jp_sales</th>\n",
       "      <th>other_sales</th>\n",
       "      <th>critic_score</th>\n",
       "      <th>user_score</th>\n",
       "      <th>rating</th>\n",
       "    </tr>\n",
       "  </thead>\n",
       "  <tbody>\n",
       "  </tbody>\n",
       "</table>\n",
       "</div>"
      ],
      "text/plain": [
       "Empty DataFrame\n",
       "Columns: [name, platform, year_of_release, genre, na_sales, eu_sales, jp_sales, other_sales, critic_score, user_score, rating]\n",
       "Index: []"
      ]
     },
     "execution_count": 9,
     "metadata": {},
     "output_type": "execute_result"
    }
   ],
   "source": [
    "games = games.dropna(subset = ['year_of_release'])\n",
    "# проверка\n",
    "games[games['year_of_release'].isnull()]"
   ]
  },
  {
   "cell_type": "code",
   "execution_count": 10,
   "metadata": {},
   "outputs": [
    {
     "data": {
      "text/html": [
       "<div>\n",
       "<style scoped>\n",
       "    .dataframe tbody tr th:only-of-type {\n",
       "        vertical-align: middle;\n",
       "    }\n",
       "\n",
       "    .dataframe tbody tr th {\n",
       "        vertical-align: top;\n",
       "    }\n",
       "\n",
       "    .dataframe thead th {\n",
       "        text-align: right;\n",
       "    }\n",
       "</style>\n",
       "<table border=\"1\" class=\"dataframe\">\n",
       "  <thead>\n",
       "    <tr style=\"text-align: right;\">\n",
       "      <th></th>\n",
       "      <th>name</th>\n",
       "      <th>platform</th>\n",
       "      <th>year_of_release</th>\n",
       "      <th>genre</th>\n",
       "      <th>na_sales</th>\n",
       "      <th>eu_sales</th>\n",
       "      <th>jp_sales</th>\n",
       "      <th>other_sales</th>\n",
       "      <th>critic_score</th>\n",
       "      <th>user_score</th>\n",
       "      <th>rating</th>\n",
       "    </tr>\n",
       "  </thead>\n",
       "  <tbody>\n",
       "    <tr>\n",
       "      <th>1</th>\n",
       "      <td>Super Mario Bros.</td>\n",
       "      <td>NES</td>\n",
       "      <td>1985.0</td>\n",
       "      <td>Platform</td>\n",
       "      <td>29.08</td>\n",
       "      <td>3.58</td>\n",
       "      <td>6.81</td>\n",
       "      <td>0.77</td>\n",
       "      <td>NaN</td>\n",
       "      <td>NaN</td>\n",
       "      <td>NaN</td>\n",
       "    </tr>\n",
       "    <tr>\n",
       "      <th>4</th>\n",
       "      <td>Pokemon Red/Pokemon Blue</td>\n",
       "      <td>GB</td>\n",
       "      <td>1996.0</td>\n",
       "      <td>Role-Playing</td>\n",
       "      <td>11.27</td>\n",
       "      <td>8.89</td>\n",
       "      <td>10.22</td>\n",
       "      <td>1.00</td>\n",
       "      <td>NaN</td>\n",
       "      <td>NaN</td>\n",
       "      <td>NaN</td>\n",
       "    </tr>\n",
       "    <tr>\n",
       "      <th>5</th>\n",
       "      <td>Tetris</td>\n",
       "      <td>GB</td>\n",
       "      <td>1989.0</td>\n",
       "      <td>Puzzle</td>\n",
       "      <td>23.20</td>\n",
       "      <td>2.26</td>\n",
       "      <td>4.22</td>\n",
       "      <td>0.58</td>\n",
       "      <td>NaN</td>\n",
       "      <td>NaN</td>\n",
       "      <td>NaN</td>\n",
       "    </tr>\n",
       "    <tr>\n",
       "      <th>9</th>\n",
       "      <td>Duck Hunt</td>\n",
       "      <td>NES</td>\n",
       "      <td>1984.0</td>\n",
       "      <td>Shooter</td>\n",
       "      <td>26.93</td>\n",
       "      <td>0.63</td>\n",
       "      <td>0.28</td>\n",
       "      <td>0.47</td>\n",
       "      <td>NaN</td>\n",
       "      <td>NaN</td>\n",
       "      <td>NaN</td>\n",
       "    </tr>\n",
       "    <tr>\n",
       "      <th>10</th>\n",
       "      <td>Nintendogs</td>\n",
       "      <td>DS</td>\n",
       "      <td>2005.0</td>\n",
       "      <td>Simulation</td>\n",
       "      <td>9.05</td>\n",
       "      <td>10.95</td>\n",
       "      <td>1.93</td>\n",
       "      <td>2.74</td>\n",
       "      <td>NaN</td>\n",
       "      <td>NaN</td>\n",
       "      <td>NaN</td>\n",
       "    </tr>\n",
       "    <tr>\n",
       "      <th>...</th>\n",
       "      <td>...</td>\n",
       "      <td>...</td>\n",
       "      <td>...</td>\n",
       "      <td>...</td>\n",
       "      <td>...</td>\n",
       "      <td>...</td>\n",
       "      <td>...</td>\n",
       "      <td>...</td>\n",
       "      <td>...</td>\n",
       "      <td>...</td>\n",
       "      <td>...</td>\n",
       "    </tr>\n",
       "    <tr>\n",
       "      <th>16710</th>\n",
       "      <td>Samurai Warriors: Sanada Maru</td>\n",
       "      <td>PS3</td>\n",
       "      <td>2016.0</td>\n",
       "      <td>Action</td>\n",
       "      <td>0.00</td>\n",
       "      <td>0.00</td>\n",
       "      <td>0.01</td>\n",
       "      <td>0.00</td>\n",
       "      <td>NaN</td>\n",
       "      <td>NaN</td>\n",
       "      <td>NaN</td>\n",
       "    </tr>\n",
       "    <tr>\n",
       "      <th>16711</th>\n",
       "      <td>LMA Manager 2007</td>\n",
       "      <td>X360</td>\n",
       "      <td>2006.0</td>\n",
       "      <td>Sports</td>\n",
       "      <td>0.00</td>\n",
       "      <td>0.01</td>\n",
       "      <td>0.00</td>\n",
       "      <td>0.00</td>\n",
       "      <td>NaN</td>\n",
       "      <td>NaN</td>\n",
       "      <td>NaN</td>\n",
       "    </tr>\n",
       "    <tr>\n",
       "      <th>16712</th>\n",
       "      <td>Haitaka no Psychedelica</td>\n",
       "      <td>PSV</td>\n",
       "      <td>2016.0</td>\n",
       "      <td>Adventure</td>\n",
       "      <td>0.00</td>\n",
       "      <td>0.00</td>\n",
       "      <td>0.01</td>\n",
       "      <td>0.00</td>\n",
       "      <td>NaN</td>\n",
       "      <td>NaN</td>\n",
       "      <td>NaN</td>\n",
       "    </tr>\n",
       "    <tr>\n",
       "      <th>16713</th>\n",
       "      <td>Spirits &amp; Spells</td>\n",
       "      <td>GBA</td>\n",
       "      <td>2003.0</td>\n",
       "      <td>Platform</td>\n",
       "      <td>0.01</td>\n",
       "      <td>0.00</td>\n",
       "      <td>0.00</td>\n",
       "      <td>0.00</td>\n",
       "      <td>NaN</td>\n",
       "      <td>NaN</td>\n",
       "      <td>NaN</td>\n",
       "    </tr>\n",
       "    <tr>\n",
       "      <th>16714</th>\n",
       "      <td>Winning Post 8 2016</td>\n",
       "      <td>PSV</td>\n",
       "      <td>2016.0</td>\n",
       "      <td>Simulation</td>\n",
       "      <td>0.00</td>\n",
       "      <td>0.00</td>\n",
       "      <td>0.01</td>\n",
       "      <td>0.00</td>\n",
       "      <td>NaN</td>\n",
       "      <td>NaN</td>\n",
       "      <td>NaN</td>\n",
       "    </tr>\n",
       "  </tbody>\n",
       "</table>\n",
       "<p>6676 rows × 11 columns</p>\n",
       "</div>"
      ],
      "text/plain": [
       "                                name platform  year_of_release         genre  \\\n",
       "1                  Super Mario Bros.      NES           1985.0      Platform   \n",
       "4           Pokemon Red/Pokemon Blue       GB           1996.0  Role-Playing   \n",
       "5                             Tetris       GB           1989.0        Puzzle   \n",
       "9                          Duck Hunt      NES           1984.0       Shooter   \n",
       "10                        Nintendogs       DS           2005.0    Simulation   \n",
       "...                              ...      ...              ...           ...   \n",
       "16710  Samurai Warriors: Sanada Maru      PS3           2016.0        Action   \n",
       "16711               LMA Manager 2007     X360           2006.0        Sports   \n",
       "16712        Haitaka no Psychedelica      PSV           2016.0     Adventure   \n",
       "16713               Spirits & Spells      GBA           2003.0      Platform   \n",
       "16714            Winning Post 8 2016      PSV           2016.0    Simulation   \n",
       "\n",
       "       na_sales  eu_sales  jp_sales  other_sales  critic_score user_score  \\\n",
       "1         29.08      3.58      6.81         0.77           NaN        NaN   \n",
       "4         11.27      8.89     10.22         1.00           NaN        NaN   \n",
       "5         23.20      2.26      4.22         0.58           NaN        NaN   \n",
       "9         26.93      0.63      0.28         0.47           NaN        NaN   \n",
       "10         9.05     10.95      1.93         2.74           NaN        NaN   \n",
       "...         ...       ...       ...          ...           ...        ...   \n",
       "16710      0.00      0.00      0.01         0.00           NaN        NaN   \n",
       "16711      0.00      0.01      0.00         0.00           NaN        NaN   \n",
       "16712      0.00      0.00      0.01         0.00           NaN        NaN   \n",
       "16713      0.01      0.00      0.00         0.00           NaN        NaN   \n",
       "16714      0.00      0.00      0.01         0.00           NaN        NaN   \n",
       "\n",
       "      rating  \n",
       "1        NaN  \n",
       "4        NaN  \n",
       "5        NaN  \n",
       "9        NaN  \n",
       "10       NaN  \n",
       "...      ...  \n",
       "16710    NaN  \n",
       "16711    NaN  \n",
       "16712    NaN  \n",
       "16713    NaN  \n",
       "16714    NaN  \n",
       "\n",
       "[6676 rows x 11 columns]"
      ]
     },
     "execution_count": 10,
     "metadata": {},
     "output_type": "execute_result"
    }
   ],
   "source": [
    "# пропуски в столбце rating\n",
    "games[games['rating'].isnull()]"
   ]
  },
  {
   "cell_type": "markdown",
   "metadata": {},
   "source": [
    "**В большинстве, пропущены одновременно и рейтинг, оценка критиков и оценка пользователей. Удалять пропуски нельзя.**\n",
    "\n",
    "Возможно из за того что игры новые, рейинг ещё не успел сформироваться для них, в случае старых игр думаю что на момет их выхода было сложно оценивать и сохранять их рейтинг.\n"
   ]
  },
  {
   "cell_type": "code",
   "execution_count": 11,
   "metadata": {},
   "outputs": [],
   "source": [
    "# заменим пропуски на 'неизвестно'"
   ]
  },
  {
   "cell_type": "code",
   "execution_count": 12,
   "metadata": {},
   "outputs": [
    {
     "data": {
      "text/plain": [
       "Unknown    6676\n",
       "E          3921\n",
       "T          2905\n",
       "M          1536\n",
       "E10+       1393\n",
       "EC            8\n",
       "K-A           3\n",
       "AO            1\n",
       "RP            1\n",
       "Name: rating, dtype: int64"
      ]
     },
     "execution_count": 12,
     "metadata": {},
     "output_type": "execute_result"
    }
   ],
   "source": [
    "games['rating'] = games['rating'].fillna('Unknown')\n",
    "games['rating'].value_counts()"
   ]
  },
  {
   "cell_type": "markdown",
   "metadata": {},
   "source": [
    "**Заменим рейтинг RP (Rating Pending) на неизвестрно**\n",
    "\n",
    "**Так же EC и K-A на Е**\n",
    "\n",
    "**Рейтинг AO заменим на M, т.к. разница возраста у этих рейтингов составляет 1 год**"
   ]
  },
  {
   "cell_type": "code",
   "execution_count": 13,
   "metadata": {},
   "outputs": [],
   "source": [
    "games.loc[games['rating'] == 'AO', 'rating'] = 'M'\n",
    "games.loc[games['rating'] == 'RP', 'rating'] = 'Unknown'\n",
    "games.loc[games['rating'].isin(['EC', 'K-A']), 'rating'] = 'E'"
   ]
  },
  {
   "cell_type": "code",
   "execution_count": 14,
   "metadata": {},
   "outputs": [
    {
     "data": {
      "text/plain": [
       "Unknown    6677\n",
       "E          3932\n",
       "T          2905\n",
       "M          1537\n",
       "E10+       1393\n",
       "Name: rating, dtype: int64"
      ]
     },
     "execution_count": 14,
     "metadata": {},
     "output_type": "execute_result"
    }
   ],
   "source": [
    "games['rating'].value_counts()"
   ]
  },
  {
   "cell_type": "code",
   "execution_count": 15,
   "metadata": {},
   "outputs": [
    {
     "data": {
      "text/html": [
       "<div>\n",
       "<style scoped>\n",
       "    .dataframe tbody tr th:only-of-type {\n",
       "        vertical-align: middle;\n",
       "    }\n",
       "\n",
       "    .dataframe tbody tr th {\n",
       "        vertical-align: top;\n",
       "    }\n",
       "\n",
       "    .dataframe thead th {\n",
       "        text-align: right;\n",
       "    }\n",
       "</style>\n",
       "<table border=\"1\" class=\"dataframe\">\n",
       "  <thead>\n",
       "    <tr style=\"text-align: right;\">\n",
       "      <th></th>\n",
       "      <th>name</th>\n",
       "      <th>platform</th>\n",
       "      <th>year_of_release</th>\n",
       "      <th>genre</th>\n",
       "      <th>na_sales</th>\n",
       "      <th>eu_sales</th>\n",
       "      <th>jp_sales</th>\n",
       "      <th>other_sales</th>\n",
       "      <th>critic_score</th>\n",
       "      <th>user_score</th>\n",
       "      <th>rating</th>\n",
       "    </tr>\n",
       "  </thead>\n",
       "  <tbody>\n",
       "    <tr>\n",
       "      <th>1</th>\n",
       "      <td>Super Mario Bros.</td>\n",
       "      <td>NES</td>\n",
       "      <td>1985.0</td>\n",
       "      <td>Platform</td>\n",
       "      <td>29.08</td>\n",
       "      <td>3.58</td>\n",
       "      <td>6.81</td>\n",
       "      <td>0.77</td>\n",
       "      <td>NaN</td>\n",
       "      <td>NaN</td>\n",
       "      <td>Unknown</td>\n",
       "    </tr>\n",
       "    <tr>\n",
       "      <th>4</th>\n",
       "      <td>Pokemon Red/Pokemon Blue</td>\n",
       "      <td>GB</td>\n",
       "      <td>1996.0</td>\n",
       "      <td>Role-Playing</td>\n",
       "      <td>11.27</td>\n",
       "      <td>8.89</td>\n",
       "      <td>10.22</td>\n",
       "      <td>1.00</td>\n",
       "      <td>NaN</td>\n",
       "      <td>NaN</td>\n",
       "      <td>Unknown</td>\n",
       "    </tr>\n",
       "    <tr>\n",
       "      <th>5</th>\n",
       "      <td>Tetris</td>\n",
       "      <td>GB</td>\n",
       "      <td>1989.0</td>\n",
       "      <td>Puzzle</td>\n",
       "      <td>23.20</td>\n",
       "      <td>2.26</td>\n",
       "      <td>4.22</td>\n",
       "      <td>0.58</td>\n",
       "      <td>NaN</td>\n",
       "      <td>NaN</td>\n",
       "      <td>Unknown</td>\n",
       "    </tr>\n",
       "    <tr>\n",
       "      <th>9</th>\n",
       "      <td>Duck Hunt</td>\n",
       "      <td>NES</td>\n",
       "      <td>1984.0</td>\n",
       "      <td>Shooter</td>\n",
       "      <td>26.93</td>\n",
       "      <td>0.63</td>\n",
       "      <td>0.28</td>\n",
       "      <td>0.47</td>\n",
       "      <td>NaN</td>\n",
       "      <td>NaN</td>\n",
       "      <td>Unknown</td>\n",
       "    </tr>\n",
       "    <tr>\n",
       "      <th>10</th>\n",
       "      <td>Nintendogs</td>\n",
       "      <td>DS</td>\n",
       "      <td>2005.0</td>\n",
       "      <td>Simulation</td>\n",
       "      <td>9.05</td>\n",
       "      <td>10.95</td>\n",
       "      <td>1.93</td>\n",
       "      <td>2.74</td>\n",
       "      <td>NaN</td>\n",
       "      <td>NaN</td>\n",
       "      <td>Unknown</td>\n",
       "    </tr>\n",
       "    <tr>\n",
       "      <th>...</th>\n",
       "      <td>...</td>\n",
       "      <td>...</td>\n",
       "      <td>...</td>\n",
       "      <td>...</td>\n",
       "      <td>...</td>\n",
       "      <td>...</td>\n",
       "      <td>...</td>\n",
       "      <td>...</td>\n",
       "      <td>...</td>\n",
       "      <td>...</td>\n",
       "      <td>...</td>\n",
       "    </tr>\n",
       "    <tr>\n",
       "      <th>16710</th>\n",
       "      <td>Samurai Warriors: Sanada Maru</td>\n",
       "      <td>PS3</td>\n",
       "      <td>2016.0</td>\n",
       "      <td>Action</td>\n",
       "      <td>0.00</td>\n",
       "      <td>0.00</td>\n",
       "      <td>0.01</td>\n",
       "      <td>0.00</td>\n",
       "      <td>NaN</td>\n",
       "      <td>NaN</td>\n",
       "      <td>Unknown</td>\n",
       "    </tr>\n",
       "    <tr>\n",
       "      <th>16711</th>\n",
       "      <td>LMA Manager 2007</td>\n",
       "      <td>X360</td>\n",
       "      <td>2006.0</td>\n",
       "      <td>Sports</td>\n",
       "      <td>0.00</td>\n",
       "      <td>0.01</td>\n",
       "      <td>0.00</td>\n",
       "      <td>0.00</td>\n",
       "      <td>NaN</td>\n",
       "      <td>NaN</td>\n",
       "      <td>Unknown</td>\n",
       "    </tr>\n",
       "    <tr>\n",
       "      <th>16712</th>\n",
       "      <td>Haitaka no Psychedelica</td>\n",
       "      <td>PSV</td>\n",
       "      <td>2016.0</td>\n",
       "      <td>Adventure</td>\n",
       "      <td>0.00</td>\n",
       "      <td>0.00</td>\n",
       "      <td>0.01</td>\n",
       "      <td>0.00</td>\n",
       "      <td>NaN</td>\n",
       "      <td>NaN</td>\n",
       "      <td>Unknown</td>\n",
       "    </tr>\n",
       "    <tr>\n",
       "      <th>16713</th>\n",
       "      <td>Spirits &amp; Spells</td>\n",
       "      <td>GBA</td>\n",
       "      <td>2003.0</td>\n",
       "      <td>Platform</td>\n",
       "      <td>0.01</td>\n",
       "      <td>0.00</td>\n",
       "      <td>0.00</td>\n",
       "      <td>0.00</td>\n",
       "      <td>NaN</td>\n",
       "      <td>NaN</td>\n",
       "      <td>Unknown</td>\n",
       "    </tr>\n",
       "    <tr>\n",
       "      <th>16714</th>\n",
       "      <td>Winning Post 8 2016</td>\n",
       "      <td>PSV</td>\n",
       "      <td>2016.0</td>\n",
       "      <td>Simulation</td>\n",
       "      <td>0.00</td>\n",
       "      <td>0.00</td>\n",
       "      <td>0.01</td>\n",
       "      <td>0.00</td>\n",
       "      <td>NaN</td>\n",
       "      <td>NaN</td>\n",
       "      <td>Unknown</td>\n",
       "    </tr>\n",
       "  </tbody>\n",
       "</table>\n",
       "<p>8461 rows × 11 columns</p>\n",
       "</div>"
      ],
      "text/plain": [
       "                                name platform  year_of_release         genre  \\\n",
       "1                  Super Mario Bros.      NES           1985.0      Platform   \n",
       "4           Pokemon Red/Pokemon Blue       GB           1996.0  Role-Playing   \n",
       "5                             Tetris       GB           1989.0        Puzzle   \n",
       "9                          Duck Hunt      NES           1984.0       Shooter   \n",
       "10                        Nintendogs       DS           2005.0    Simulation   \n",
       "...                              ...      ...              ...           ...   \n",
       "16710  Samurai Warriors: Sanada Maru      PS3           2016.0        Action   \n",
       "16711               LMA Manager 2007     X360           2006.0        Sports   \n",
       "16712        Haitaka no Psychedelica      PSV           2016.0     Adventure   \n",
       "16713               Spirits & Spells      GBA           2003.0      Platform   \n",
       "16714            Winning Post 8 2016      PSV           2016.0    Simulation   \n",
       "\n",
       "       na_sales  eu_sales  jp_sales  other_sales  critic_score user_score  \\\n",
       "1         29.08      3.58      6.81         0.77           NaN        NaN   \n",
       "4         11.27      8.89     10.22         1.00           NaN        NaN   \n",
       "5         23.20      2.26      4.22         0.58           NaN        NaN   \n",
       "9         26.93      0.63      0.28         0.47           NaN        NaN   \n",
       "10         9.05     10.95      1.93         2.74           NaN        NaN   \n",
       "...         ...       ...       ...          ...           ...        ...   \n",
       "16710      0.00      0.00      0.01         0.00           NaN        NaN   \n",
       "16711      0.00      0.01      0.00         0.00           NaN        NaN   \n",
       "16712      0.00      0.00      0.01         0.00           NaN        NaN   \n",
       "16713      0.01      0.00      0.00         0.00           NaN        NaN   \n",
       "16714      0.00      0.00      0.01         0.00           NaN        NaN   \n",
       "\n",
       "        rating  \n",
       "1      Unknown  \n",
       "4      Unknown  \n",
       "5      Unknown  \n",
       "9      Unknown  \n",
       "10     Unknown  \n",
       "...        ...  \n",
       "16710  Unknown  \n",
       "16711  Unknown  \n",
       "16712  Unknown  \n",
       "16713  Unknown  \n",
       "16714  Unknown  \n",
       "\n",
       "[8461 rows x 11 columns]"
      ]
     },
     "execution_count": 15,
     "metadata": {},
     "output_type": "execute_result"
    }
   ],
   "source": [
    "# пропуски в столбце critic_score\n",
    "games[games['critic_score'].isnull()]"
   ]
  },
  {
   "cell_type": "markdown",
   "metadata": {},
   "source": [
    "**Пропусков очень много, удалять не будем**"
   ]
  },
  {
   "cell_type": "code",
   "execution_count": 16,
   "metadata": {},
   "outputs": [
    {
     "data": {
      "text/plain": [
       "count    16444.000000\n",
       "mean       -17.959012\n",
       "std         85.019035\n",
       "min       -100.000000\n",
       "25%       -100.000000\n",
       "50%       -100.000000\n",
       "75%         70.000000\n",
       "max         98.000000\n",
       "Name: critic_score, dtype: float64"
      ]
     },
     "execution_count": 16,
     "metadata": {},
     "output_type": "execute_result"
    }
   ],
   "source": [
    "# заменим пропуски на максимальное отрицательное значение \n",
    "games['critic_score'] = games['critic_score'].fillna(-100)\n",
    "games['critic_score'] = games['critic_score'].astype('float')\n",
    "games['critic_score'].describe()"
   ]
  },
  {
   "cell_type": "code",
   "execution_count": 17,
   "metadata": {},
   "outputs": [
    {
     "data": {
      "text/html": [
       "<div>\n",
       "<style scoped>\n",
       "    .dataframe tbody tr th:only-of-type {\n",
       "        vertical-align: middle;\n",
       "    }\n",
       "\n",
       "    .dataframe tbody tr th {\n",
       "        vertical-align: top;\n",
       "    }\n",
       "\n",
       "    .dataframe thead th {\n",
       "        text-align: right;\n",
       "    }\n",
       "</style>\n",
       "<table border=\"1\" class=\"dataframe\">\n",
       "  <thead>\n",
       "    <tr style=\"text-align: right;\">\n",
       "      <th></th>\n",
       "      <th>name</th>\n",
       "      <th>platform</th>\n",
       "      <th>year_of_release</th>\n",
       "      <th>genre</th>\n",
       "      <th>na_sales</th>\n",
       "      <th>eu_sales</th>\n",
       "      <th>jp_sales</th>\n",
       "      <th>other_sales</th>\n",
       "      <th>critic_score</th>\n",
       "      <th>user_score</th>\n",
       "      <th>rating</th>\n",
       "    </tr>\n",
       "  </thead>\n",
       "  <tbody>\n",
       "    <tr>\n",
       "      <th>1</th>\n",
       "      <td>Super Mario Bros.</td>\n",
       "      <td>NES</td>\n",
       "      <td>1985.0</td>\n",
       "      <td>Platform</td>\n",
       "      <td>29.08</td>\n",
       "      <td>3.58</td>\n",
       "      <td>6.81</td>\n",
       "      <td>0.77</td>\n",
       "      <td>-100.0</td>\n",
       "      <td>NaN</td>\n",
       "      <td>Unknown</td>\n",
       "    </tr>\n",
       "    <tr>\n",
       "      <th>4</th>\n",
       "      <td>Pokemon Red/Pokemon Blue</td>\n",
       "      <td>GB</td>\n",
       "      <td>1996.0</td>\n",
       "      <td>Role-Playing</td>\n",
       "      <td>11.27</td>\n",
       "      <td>8.89</td>\n",
       "      <td>10.22</td>\n",
       "      <td>1.00</td>\n",
       "      <td>-100.0</td>\n",
       "      <td>NaN</td>\n",
       "      <td>Unknown</td>\n",
       "    </tr>\n",
       "    <tr>\n",
       "      <th>5</th>\n",
       "      <td>Tetris</td>\n",
       "      <td>GB</td>\n",
       "      <td>1989.0</td>\n",
       "      <td>Puzzle</td>\n",
       "      <td>23.20</td>\n",
       "      <td>2.26</td>\n",
       "      <td>4.22</td>\n",
       "      <td>0.58</td>\n",
       "      <td>-100.0</td>\n",
       "      <td>NaN</td>\n",
       "      <td>Unknown</td>\n",
       "    </tr>\n",
       "    <tr>\n",
       "      <th>9</th>\n",
       "      <td>Duck Hunt</td>\n",
       "      <td>NES</td>\n",
       "      <td>1984.0</td>\n",
       "      <td>Shooter</td>\n",
       "      <td>26.93</td>\n",
       "      <td>0.63</td>\n",
       "      <td>0.28</td>\n",
       "      <td>0.47</td>\n",
       "      <td>-100.0</td>\n",
       "      <td>NaN</td>\n",
       "      <td>Unknown</td>\n",
       "    </tr>\n",
       "    <tr>\n",
       "      <th>10</th>\n",
       "      <td>Nintendogs</td>\n",
       "      <td>DS</td>\n",
       "      <td>2005.0</td>\n",
       "      <td>Simulation</td>\n",
       "      <td>9.05</td>\n",
       "      <td>10.95</td>\n",
       "      <td>1.93</td>\n",
       "      <td>2.74</td>\n",
       "      <td>-100.0</td>\n",
       "      <td>NaN</td>\n",
       "      <td>Unknown</td>\n",
       "    </tr>\n",
       "    <tr>\n",
       "      <th>...</th>\n",
       "      <td>...</td>\n",
       "      <td>...</td>\n",
       "      <td>...</td>\n",
       "      <td>...</td>\n",
       "      <td>...</td>\n",
       "      <td>...</td>\n",
       "      <td>...</td>\n",
       "      <td>...</td>\n",
       "      <td>...</td>\n",
       "      <td>...</td>\n",
       "      <td>...</td>\n",
       "    </tr>\n",
       "    <tr>\n",
       "      <th>16710</th>\n",
       "      <td>Samurai Warriors: Sanada Maru</td>\n",
       "      <td>PS3</td>\n",
       "      <td>2016.0</td>\n",
       "      <td>Action</td>\n",
       "      <td>0.00</td>\n",
       "      <td>0.00</td>\n",
       "      <td>0.01</td>\n",
       "      <td>0.00</td>\n",
       "      <td>-100.0</td>\n",
       "      <td>NaN</td>\n",
       "      <td>Unknown</td>\n",
       "    </tr>\n",
       "    <tr>\n",
       "      <th>16711</th>\n",
       "      <td>LMA Manager 2007</td>\n",
       "      <td>X360</td>\n",
       "      <td>2006.0</td>\n",
       "      <td>Sports</td>\n",
       "      <td>0.00</td>\n",
       "      <td>0.01</td>\n",
       "      <td>0.00</td>\n",
       "      <td>0.00</td>\n",
       "      <td>-100.0</td>\n",
       "      <td>NaN</td>\n",
       "      <td>Unknown</td>\n",
       "    </tr>\n",
       "    <tr>\n",
       "      <th>16712</th>\n",
       "      <td>Haitaka no Psychedelica</td>\n",
       "      <td>PSV</td>\n",
       "      <td>2016.0</td>\n",
       "      <td>Adventure</td>\n",
       "      <td>0.00</td>\n",
       "      <td>0.00</td>\n",
       "      <td>0.01</td>\n",
       "      <td>0.00</td>\n",
       "      <td>-100.0</td>\n",
       "      <td>NaN</td>\n",
       "      <td>Unknown</td>\n",
       "    </tr>\n",
       "    <tr>\n",
       "      <th>16713</th>\n",
       "      <td>Spirits &amp; Spells</td>\n",
       "      <td>GBA</td>\n",
       "      <td>2003.0</td>\n",
       "      <td>Platform</td>\n",
       "      <td>0.01</td>\n",
       "      <td>0.00</td>\n",
       "      <td>0.00</td>\n",
       "      <td>0.00</td>\n",
       "      <td>-100.0</td>\n",
       "      <td>NaN</td>\n",
       "      <td>Unknown</td>\n",
       "    </tr>\n",
       "    <tr>\n",
       "      <th>16714</th>\n",
       "      <td>Winning Post 8 2016</td>\n",
       "      <td>PSV</td>\n",
       "      <td>2016.0</td>\n",
       "      <td>Simulation</td>\n",
       "      <td>0.00</td>\n",
       "      <td>0.00</td>\n",
       "      <td>0.01</td>\n",
       "      <td>0.00</td>\n",
       "      <td>-100.0</td>\n",
       "      <td>NaN</td>\n",
       "      <td>Unknown</td>\n",
       "    </tr>\n",
       "  </tbody>\n",
       "</table>\n",
       "<p>6605 rows × 11 columns</p>\n",
       "</div>"
      ],
      "text/plain": [
       "                                name platform  year_of_release         genre  \\\n",
       "1                  Super Mario Bros.      NES           1985.0      Platform   \n",
       "4           Pokemon Red/Pokemon Blue       GB           1996.0  Role-Playing   \n",
       "5                             Tetris       GB           1989.0        Puzzle   \n",
       "9                          Duck Hunt      NES           1984.0       Shooter   \n",
       "10                        Nintendogs       DS           2005.0    Simulation   \n",
       "...                              ...      ...              ...           ...   \n",
       "16710  Samurai Warriors: Sanada Maru      PS3           2016.0        Action   \n",
       "16711               LMA Manager 2007     X360           2006.0        Sports   \n",
       "16712        Haitaka no Psychedelica      PSV           2016.0     Adventure   \n",
       "16713               Spirits & Spells      GBA           2003.0      Platform   \n",
       "16714            Winning Post 8 2016      PSV           2016.0    Simulation   \n",
       "\n",
       "       na_sales  eu_sales  jp_sales  other_sales  critic_score user_score  \\\n",
       "1         29.08      3.58      6.81         0.77        -100.0        NaN   \n",
       "4         11.27      8.89     10.22         1.00        -100.0        NaN   \n",
       "5         23.20      2.26      4.22         0.58        -100.0        NaN   \n",
       "9         26.93      0.63      0.28         0.47        -100.0        NaN   \n",
       "10         9.05     10.95      1.93         2.74        -100.0        NaN   \n",
       "...         ...       ...       ...          ...           ...        ...   \n",
       "16710      0.00      0.00      0.01         0.00        -100.0        NaN   \n",
       "16711      0.00      0.01      0.00         0.00        -100.0        NaN   \n",
       "16712      0.00      0.00      0.01         0.00        -100.0        NaN   \n",
       "16713      0.01      0.00      0.00         0.00        -100.0        NaN   \n",
       "16714      0.00      0.00      0.01         0.00        -100.0        NaN   \n",
       "\n",
       "        rating  \n",
       "1      Unknown  \n",
       "4      Unknown  \n",
       "5      Unknown  \n",
       "9      Unknown  \n",
       "10     Unknown  \n",
       "...        ...  \n",
       "16710  Unknown  \n",
       "16711  Unknown  \n",
       "16712  Unknown  \n",
       "16713  Unknown  \n",
       "16714  Unknown  \n",
       "\n",
       "[6605 rows x 11 columns]"
      ]
     },
     "execution_count": 17,
     "metadata": {},
     "output_type": "execute_result"
    }
   ],
   "source": [
    "# пропуски в столбце user_score\n",
    "games[games['user_score'].isnull()]"
   ]
  },
  {
   "cell_type": "code",
   "execution_count": 18,
   "metadata": {},
   "outputs": [
    {
     "data": {
      "text/plain": [
       "tbd    2376\n",
       "7.8     322\n",
       "8       285\n",
       "8.2     276\n",
       "8.3     252\n",
       "       ... \n",
       "0.5       2\n",
       "1.3       2\n",
       "0.3       2\n",
       "9.7       1\n",
       "0         1\n",
       "Name: user_score, Length: 96, dtype: int64"
      ]
     },
     "metadata": {},
     "output_type": "display_data"
    },
    {
     "data": {
      "text/html": [
       "<div>\n",
       "<style scoped>\n",
       "    .dataframe tbody tr th:only-of-type {\n",
       "        vertical-align: middle;\n",
       "    }\n",
       "\n",
       "    .dataframe tbody tr th {\n",
       "        vertical-align: top;\n",
       "    }\n",
       "\n",
       "    .dataframe thead th {\n",
       "        text-align: right;\n",
       "    }\n",
       "</style>\n",
       "<table border=\"1\" class=\"dataframe\">\n",
       "  <thead>\n",
       "    <tr style=\"text-align: right;\">\n",
       "      <th></th>\n",
       "      <th>name</th>\n",
       "      <th>platform</th>\n",
       "      <th>year_of_release</th>\n",
       "      <th>genre</th>\n",
       "      <th>na_sales</th>\n",
       "      <th>eu_sales</th>\n",
       "      <th>jp_sales</th>\n",
       "      <th>other_sales</th>\n",
       "      <th>critic_score</th>\n",
       "      <th>user_score</th>\n",
       "      <th>rating</th>\n",
       "    </tr>\n",
       "  </thead>\n",
       "  <tbody>\n",
       "    <tr>\n",
       "      <th>119</th>\n",
       "      <td>Zumba Fitness</td>\n",
       "      <td>Wii</td>\n",
       "      <td>2010.0</td>\n",
       "      <td>Sports</td>\n",
       "      <td>3.45</td>\n",
       "      <td>2.59</td>\n",
       "      <td>0.0</td>\n",
       "      <td>0.66</td>\n",
       "      <td>-100.0</td>\n",
       "      <td>tbd</td>\n",
       "      <td>E</td>\n",
       "    </tr>\n",
       "    <tr>\n",
       "      <th>301</th>\n",
       "      <td>Namco Museum: 50th Anniversary</td>\n",
       "      <td>PS2</td>\n",
       "      <td>2005.0</td>\n",
       "      <td>Misc</td>\n",
       "      <td>2.08</td>\n",
       "      <td>1.35</td>\n",
       "      <td>0.0</td>\n",
       "      <td>0.54</td>\n",
       "      <td>61.0</td>\n",
       "      <td>tbd</td>\n",
       "      <td>E10+</td>\n",
       "    </tr>\n",
       "    <tr>\n",
       "      <th>520</th>\n",
       "      <td>Zumba Fitness 2</td>\n",
       "      <td>Wii</td>\n",
       "      <td>2011.0</td>\n",
       "      <td>Sports</td>\n",
       "      <td>1.51</td>\n",
       "      <td>1.03</td>\n",
       "      <td>0.0</td>\n",
       "      <td>0.27</td>\n",
       "      <td>-100.0</td>\n",
       "      <td>tbd</td>\n",
       "      <td>T</td>\n",
       "    </tr>\n",
       "    <tr>\n",
       "      <th>645</th>\n",
       "      <td>uDraw Studio</td>\n",
       "      <td>Wii</td>\n",
       "      <td>2010.0</td>\n",
       "      <td>Misc</td>\n",
       "      <td>1.65</td>\n",
       "      <td>0.57</td>\n",
       "      <td>0.0</td>\n",
       "      <td>0.20</td>\n",
       "      <td>71.0</td>\n",
       "      <td>tbd</td>\n",
       "      <td>E</td>\n",
       "    </tr>\n",
       "    <tr>\n",
       "      <th>718</th>\n",
       "      <td>Just Dance Kids</td>\n",
       "      <td>Wii</td>\n",
       "      <td>2010.0</td>\n",
       "      <td>Misc</td>\n",
       "      <td>1.52</td>\n",
       "      <td>0.54</td>\n",
       "      <td>0.0</td>\n",
       "      <td>0.18</td>\n",
       "      <td>-100.0</td>\n",
       "      <td>tbd</td>\n",
       "      <td>E</td>\n",
       "    </tr>\n",
       "    <tr>\n",
       "      <th>...</th>\n",
       "      <td>...</td>\n",
       "      <td>...</td>\n",
       "      <td>...</td>\n",
       "      <td>...</td>\n",
       "      <td>...</td>\n",
       "      <td>...</td>\n",
       "      <td>...</td>\n",
       "      <td>...</td>\n",
       "      <td>...</td>\n",
       "      <td>...</td>\n",
       "      <td>...</td>\n",
       "    </tr>\n",
       "    <tr>\n",
       "      <th>16695</th>\n",
       "      <td>Planet Monsters</td>\n",
       "      <td>GBA</td>\n",
       "      <td>2001.0</td>\n",
       "      <td>Action</td>\n",
       "      <td>0.01</td>\n",
       "      <td>0.00</td>\n",
       "      <td>0.0</td>\n",
       "      <td>0.00</td>\n",
       "      <td>67.0</td>\n",
       "      <td>tbd</td>\n",
       "      <td>E</td>\n",
       "    </tr>\n",
       "    <tr>\n",
       "      <th>16697</th>\n",
       "      <td>Bust-A-Move 3000</td>\n",
       "      <td>GC</td>\n",
       "      <td>2003.0</td>\n",
       "      <td>Puzzle</td>\n",
       "      <td>0.01</td>\n",
       "      <td>0.00</td>\n",
       "      <td>0.0</td>\n",
       "      <td>0.00</td>\n",
       "      <td>53.0</td>\n",
       "      <td>tbd</td>\n",
       "      <td>E</td>\n",
       "    </tr>\n",
       "    <tr>\n",
       "      <th>16698</th>\n",
       "      <td>Mega Brain Boost</td>\n",
       "      <td>DS</td>\n",
       "      <td>2008.0</td>\n",
       "      <td>Puzzle</td>\n",
       "      <td>0.01</td>\n",
       "      <td>0.00</td>\n",
       "      <td>0.0</td>\n",
       "      <td>0.00</td>\n",
       "      <td>48.0</td>\n",
       "      <td>tbd</td>\n",
       "      <td>E</td>\n",
       "    </tr>\n",
       "    <tr>\n",
       "      <th>16704</th>\n",
       "      <td>Plushees</td>\n",
       "      <td>DS</td>\n",
       "      <td>2008.0</td>\n",
       "      <td>Simulation</td>\n",
       "      <td>0.01</td>\n",
       "      <td>0.00</td>\n",
       "      <td>0.0</td>\n",
       "      <td>0.00</td>\n",
       "      <td>-100.0</td>\n",
       "      <td>tbd</td>\n",
       "      <td>E</td>\n",
       "    </tr>\n",
       "    <tr>\n",
       "      <th>16706</th>\n",
       "      <td>Men in Black II: Alien Escape</td>\n",
       "      <td>GC</td>\n",
       "      <td>2003.0</td>\n",
       "      <td>Shooter</td>\n",
       "      <td>0.01</td>\n",
       "      <td>0.00</td>\n",
       "      <td>0.0</td>\n",
       "      <td>0.00</td>\n",
       "      <td>-100.0</td>\n",
       "      <td>tbd</td>\n",
       "      <td>T</td>\n",
       "    </tr>\n",
       "  </tbody>\n",
       "</table>\n",
       "<p>2376 rows × 11 columns</p>\n",
       "</div>"
      ],
      "text/plain": [
       "                                 name platform  year_of_release       genre  \\\n",
       "119                     Zumba Fitness      Wii           2010.0      Sports   \n",
       "301    Namco Museum: 50th Anniversary      PS2           2005.0        Misc   \n",
       "520                   Zumba Fitness 2      Wii           2011.0      Sports   \n",
       "645                      uDraw Studio      Wii           2010.0        Misc   \n",
       "718                   Just Dance Kids      Wii           2010.0        Misc   \n",
       "...                               ...      ...              ...         ...   \n",
       "16695                 Planet Monsters      GBA           2001.0      Action   \n",
       "16697                Bust-A-Move 3000       GC           2003.0      Puzzle   \n",
       "16698                Mega Brain Boost       DS           2008.0      Puzzle   \n",
       "16704                        Plushees       DS           2008.0  Simulation   \n",
       "16706   Men in Black II: Alien Escape       GC           2003.0     Shooter   \n",
       "\n",
       "       na_sales  eu_sales  jp_sales  other_sales  critic_score user_score  \\\n",
       "119        3.45      2.59       0.0         0.66        -100.0        tbd   \n",
       "301        2.08      1.35       0.0         0.54          61.0        tbd   \n",
       "520        1.51      1.03       0.0         0.27        -100.0        tbd   \n",
       "645        1.65      0.57       0.0         0.20          71.0        tbd   \n",
       "718        1.52      0.54       0.0         0.18        -100.0        tbd   \n",
       "...         ...       ...       ...          ...           ...        ...   \n",
       "16695      0.01      0.00       0.0         0.00          67.0        tbd   \n",
       "16697      0.01      0.00       0.0         0.00          53.0        tbd   \n",
       "16698      0.01      0.00       0.0         0.00          48.0        tbd   \n",
       "16704      0.01      0.00       0.0         0.00        -100.0        tbd   \n",
       "16706      0.01      0.00       0.0         0.00        -100.0        tbd   \n",
       "\n",
       "      rating  \n",
       "119        E  \n",
       "301     E10+  \n",
       "520        T  \n",
       "645        E  \n",
       "718        E  \n",
       "...      ...  \n",
       "16695      E  \n",
       "16697      E  \n",
       "16698      E  \n",
       "16704      E  \n",
       "16706      T  \n",
       "\n",
       "[2376 rows x 11 columns]"
      ]
     },
     "execution_count": 18,
     "metadata": {},
     "output_type": "execute_result"
    }
   ],
   "source": [
    "display(games['user_score'].value_counts())\n",
    "games[games['user_score'] == 'tbd']"
   ]
  },
  {
   "cell_type": "code",
   "execution_count": 19,
   "metadata": {},
   "outputs": [
    {
     "data": {
      "text/plain": [
       "0.14449039163220628"
      ]
     },
     "execution_count": 19,
     "metadata": {},
     "output_type": "execute_result"
    }
   ],
   "source": [
    "len(games[games['user_score'] == 'tbd'])/len(games['user_score'])\n",
    "# процент абривиатуры в user_score"
   ]
  },
  {
   "cell_type": "code",
   "execution_count": 20,
   "metadata": {},
   "outputs": [
    {
     "data": {
      "text/plain": [
       "-100.0    8981\n",
       " 7.8       322\n",
       " 8.0       285\n",
       " 8.2       276\n",
       " 8.3       252\n",
       "          ... \n",
       " 0.7         2\n",
       " 1.0         2\n",
       " 0.2         2\n",
       " 9.7         1\n",
       " 0.0         1\n",
       "Name: user_score, Length: 96, dtype: int64"
      ]
     },
     "metadata": {},
     "output_type": "display_data"
    }
   ],
   "source": [
    "# абривиатура ничем не отличается от пропуска заменим их на обсольт отрицательного значения \n",
    "games['user_score'] = games['user_score'].replace('tbd', np.NaN)\n",
    "games['user_score'] = games['user_score'].replace(np.NaN, -100)\n",
    "# преобразуем данный столбец к целочисленному значению\n",
    "games['user_score'] = games['user_score'].astype('float')\n",
    "display(games['user_score'].value_counts())"
   ]
  },
  {
   "cell_type": "code",
   "execution_count": 21,
   "metadata": {},
   "outputs": [],
   "source": [
    "# изменим тип данных столбца year_of_release\n",
    "games['year_of_release'] = games['year_of_release'].astype('int')"
   ]
  },
  {
   "cell_type": "code",
   "execution_count": 22,
   "metadata": {},
   "outputs": [],
   "source": [
    "# создадим столбец с сумарными продажами \n",
    "games['total_sales'] = games[['na_sales','eu_sales','jp_sales', 'other_sales']].sum(axis = 1)"
   ]
  },
  {
   "cell_type": "code",
   "execution_count": 23,
   "metadata": {
    "scrolled": false
   },
   "outputs": [
    {
     "data": {
      "text/html": [
       "<div>\n",
       "<style scoped>\n",
       "    .dataframe tbody tr th:only-of-type {\n",
       "        vertical-align: middle;\n",
       "    }\n",
       "\n",
       "    .dataframe tbody tr th {\n",
       "        vertical-align: top;\n",
       "    }\n",
       "\n",
       "    .dataframe thead th {\n",
       "        text-align: right;\n",
       "    }\n",
       "</style>\n",
       "<table border=\"1\" class=\"dataframe\">\n",
       "  <thead>\n",
       "    <tr style=\"text-align: right;\">\n",
       "      <th></th>\n",
       "      <th>name</th>\n",
       "      <th>platform</th>\n",
       "      <th>year_of_release</th>\n",
       "      <th>genre</th>\n",
       "      <th>na_sales</th>\n",
       "      <th>eu_sales</th>\n",
       "      <th>jp_sales</th>\n",
       "      <th>other_sales</th>\n",
       "      <th>critic_score</th>\n",
       "      <th>user_score</th>\n",
       "      <th>rating</th>\n",
       "      <th>total_sales</th>\n",
       "    </tr>\n",
       "  </thead>\n",
       "  <tbody>\n",
       "    <tr>\n",
       "      <th>0</th>\n",
       "      <td>Wii Sports</td>\n",
       "      <td>Wii</td>\n",
       "      <td>2006</td>\n",
       "      <td>Sports</td>\n",
       "      <td>41.36</td>\n",
       "      <td>28.96</td>\n",
       "      <td>3.77</td>\n",
       "      <td>8.45</td>\n",
       "      <td>76.0</td>\n",
       "      <td>8.0</td>\n",
       "      <td>E</td>\n",
       "      <td>82.54</td>\n",
       "    </tr>\n",
       "    <tr>\n",
       "      <th>1</th>\n",
       "      <td>Super Mario Bros.</td>\n",
       "      <td>NES</td>\n",
       "      <td>1985</td>\n",
       "      <td>Platform</td>\n",
       "      <td>29.08</td>\n",
       "      <td>3.58</td>\n",
       "      <td>6.81</td>\n",
       "      <td>0.77</td>\n",
       "      <td>-100.0</td>\n",
       "      <td>-100.0</td>\n",
       "      <td>Unknown</td>\n",
       "      <td>40.24</td>\n",
       "    </tr>\n",
       "    <tr>\n",
       "      <th>2</th>\n",
       "      <td>Mario Kart Wii</td>\n",
       "      <td>Wii</td>\n",
       "      <td>2008</td>\n",
       "      <td>Racing</td>\n",
       "      <td>15.68</td>\n",
       "      <td>12.76</td>\n",
       "      <td>3.79</td>\n",
       "      <td>3.29</td>\n",
       "      <td>82.0</td>\n",
       "      <td>8.3</td>\n",
       "      <td>E</td>\n",
       "      <td>35.52</td>\n",
       "    </tr>\n",
       "    <tr>\n",
       "      <th>3</th>\n",
       "      <td>Wii Sports Resort</td>\n",
       "      <td>Wii</td>\n",
       "      <td>2009</td>\n",
       "      <td>Sports</td>\n",
       "      <td>15.61</td>\n",
       "      <td>10.93</td>\n",
       "      <td>3.28</td>\n",
       "      <td>2.95</td>\n",
       "      <td>80.0</td>\n",
       "      <td>8.0</td>\n",
       "      <td>E</td>\n",
       "      <td>32.77</td>\n",
       "    </tr>\n",
       "    <tr>\n",
       "      <th>4</th>\n",
       "      <td>Pokemon Red/Pokemon Blue</td>\n",
       "      <td>GB</td>\n",
       "      <td>1996</td>\n",
       "      <td>Role-Playing</td>\n",
       "      <td>11.27</td>\n",
       "      <td>8.89</td>\n",
       "      <td>10.22</td>\n",
       "      <td>1.00</td>\n",
       "      <td>-100.0</td>\n",
       "      <td>-100.0</td>\n",
       "      <td>Unknown</td>\n",
       "      <td>31.38</td>\n",
       "    </tr>\n",
       "    <tr>\n",
       "      <th>...</th>\n",
       "      <td>...</td>\n",
       "      <td>...</td>\n",
       "      <td>...</td>\n",
       "      <td>...</td>\n",
       "      <td>...</td>\n",
       "      <td>...</td>\n",
       "      <td>...</td>\n",
       "      <td>...</td>\n",
       "      <td>...</td>\n",
       "      <td>...</td>\n",
       "      <td>...</td>\n",
       "      <td>...</td>\n",
       "    </tr>\n",
       "    <tr>\n",
       "      <th>16710</th>\n",
       "      <td>Samurai Warriors: Sanada Maru</td>\n",
       "      <td>PS3</td>\n",
       "      <td>2016</td>\n",
       "      <td>Action</td>\n",
       "      <td>0.00</td>\n",
       "      <td>0.00</td>\n",
       "      <td>0.01</td>\n",
       "      <td>0.00</td>\n",
       "      <td>-100.0</td>\n",
       "      <td>-100.0</td>\n",
       "      <td>Unknown</td>\n",
       "      <td>0.01</td>\n",
       "    </tr>\n",
       "    <tr>\n",
       "      <th>16711</th>\n",
       "      <td>LMA Manager 2007</td>\n",
       "      <td>X360</td>\n",
       "      <td>2006</td>\n",
       "      <td>Sports</td>\n",
       "      <td>0.00</td>\n",
       "      <td>0.01</td>\n",
       "      <td>0.00</td>\n",
       "      <td>0.00</td>\n",
       "      <td>-100.0</td>\n",
       "      <td>-100.0</td>\n",
       "      <td>Unknown</td>\n",
       "      <td>0.01</td>\n",
       "    </tr>\n",
       "    <tr>\n",
       "      <th>16712</th>\n",
       "      <td>Haitaka no Psychedelica</td>\n",
       "      <td>PSV</td>\n",
       "      <td>2016</td>\n",
       "      <td>Adventure</td>\n",
       "      <td>0.00</td>\n",
       "      <td>0.00</td>\n",
       "      <td>0.01</td>\n",
       "      <td>0.00</td>\n",
       "      <td>-100.0</td>\n",
       "      <td>-100.0</td>\n",
       "      <td>Unknown</td>\n",
       "      <td>0.01</td>\n",
       "    </tr>\n",
       "    <tr>\n",
       "      <th>16713</th>\n",
       "      <td>Spirits &amp; Spells</td>\n",
       "      <td>GBA</td>\n",
       "      <td>2003</td>\n",
       "      <td>Platform</td>\n",
       "      <td>0.01</td>\n",
       "      <td>0.00</td>\n",
       "      <td>0.00</td>\n",
       "      <td>0.00</td>\n",
       "      <td>-100.0</td>\n",
       "      <td>-100.0</td>\n",
       "      <td>Unknown</td>\n",
       "      <td>0.01</td>\n",
       "    </tr>\n",
       "    <tr>\n",
       "      <th>16714</th>\n",
       "      <td>Winning Post 8 2016</td>\n",
       "      <td>PSV</td>\n",
       "      <td>2016</td>\n",
       "      <td>Simulation</td>\n",
       "      <td>0.00</td>\n",
       "      <td>0.00</td>\n",
       "      <td>0.01</td>\n",
       "      <td>0.00</td>\n",
       "      <td>-100.0</td>\n",
       "      <td>-100.0</td>\n",
       "      <td>Unknown</td>\n",
       "      <td>0.01</td>\n",
       "    </tr>\n",
       "  </tbody>\n",
       "</table>\n",
       "<p>16444 rows × 12 columns</p>\n",
       "</div>"
      ],
      "text/plain": [
       "                                name platform  year_of_release         genre  \\\n",
       "0                         Wii Sports      Wii             2006        Sports   \n",
       "1                  Super Mario Bros.      NES             1985      Platform   \n",
       "2                     Mario Kart Wii      Wii             2008        Racing   \n",
       "3                  Wii Sports Resort      Wii             2009        Sports   \n",
       "4           Pokemon Red/Pokemon Blue       GB             1996  Role-Playing   \n",
       "...                              ...      ...              ...           ...   \n",
       "16710  Samurai Warriors: Sanada Maru      PS3             2016        Action   \n",
       "16711               LMA Manager 2007     X360             2006        Sports   \n",
       "16712        Haitaka no Psychedelica      PSV             2016     Adventure   \n",
       "16713               Spirits & Spells      GBA             2003      Platform   \n",
       "16714            Winning Post 8 2016      PSV             2016    Simulation   \n",
       "\n",
       "       na_sales  eu_sales  jp_sales  other_sales  critic_score  user_score  \\\n",
       "0         41.36     28.96      3.77         8.45          76.0         8.0   \n",
       "1         29.08      3.58      6.81         0.77        -100.0      -100.0   \n",
       "2         15.68     12.76      3.79         3.29          82.0         8.3   \n",
       "3         15.61     10.93      3.28         2.95          80.0         8.0   \n",
       "4         11.27      8.89     10.22         1.00        -100.0      -100.0   \n",
       "...         ...       ...       ...          ...           ...         ...   \n",
       "16710      0.00      0.00      0.01         0.00        -100.0      -100.0   \n",
       "16711      0.00      0.01      0.00         0.00        -100.0      -100.0   \n",
       "16712      0.00      0.00      0.01         0.00        -100.0      -100.0   \n",
       "16713      0.01      0.00      0.00         0.00        -100.0      -100.0   \n",
       "16714      0.00      0.00      0.01         0.00        -100.0      -100.0   \n",
       "\n",
       "        rating  total_sales  \n",
       "0            E        82.54  \n",
       "1      Unknown        40.24  \n",
       "2            E        35.52  \n",
       "3            E        32.77  \n",
       "4      Unknown        31.38  \n",
       "...        ...          ...  \n",
       "16710  Unknown         0.01  \n",
       "16711  Unknown         0.01  \n",
       "16712  Unknown         0.01  \n",
       "16713  Unknown         0.01  \n",
       "16714  Unknown         0.01  \n",
       "\n",
       "[16444 rows x 12 columns]"
      ]
     },
     "execution_count": 23,
     "metadata": {},
     "output_type": "execute_result"
    }
   ],
   "source": [
    "games"
   ]
  },
  {
   "cell_type": "code",
   "execution_count": 24,
   "metadata": {},
   "outputs": [
    {
     "name": "stdout",
     "output_type": "stream",
     "text": [
      "<class 'pandas.core.frame.DataFrame'>\n",
      "Int64Index: 16444 entries, 0 to 16714\n",
      "Data columns (total 12 columns):\n",
      " #   Column           Non-Null Count  Dtype  \n",
      "---  ------           --------------  -----  \n",
      " 0   name             16444 non-null  object \n",
      " 1   platform         16444 non-null  object \n",
      " 2   year_of_release  16444 non-null  int64  \n",
      " 3   genre            16444 non-null  object \n",
      " 4   na_sales         16444 non-null  float64\n",
      " 5   eu_sales         16444 non-null  float64\n",
      " 6   jp_sales         16444 non-null  float64\n",
      " 7   other_sales      16444 non-null  float64\n",
      " 8   critic_score     16444 non-null  float64\n",
      " 9   user_score       16444 non-null  float64\n",
      " 10  rating           16444 non-null  object \n",
      " 11  total_sales      16444 non-null  float64\n",
      "dtypes: float64(7), int64(1), object(4)\n",
      "memory usage: 1.6+ MB\n"
     ]
    }
   ],
   "source": [
    "games.info()"
   ]
  },
  {
   "cell_type": "markdown",
   "metadata": {},
   "source": [
    "**Вывод:**\n",
    "\n",
    "Данные в датасетах преобразованы для дальнейшего использования, были обработаны пропуски, некоторые строки были удалены, в некоторых пропуски были заменены на отрицательное значение, также были расчитаны суммарные продажи в отдельный столбец 'total_sales'"
   ]
  },
  {
   "cell_type": "markdown",
   "metadata": {},
   "source": [
    "### Шаг 3. Проведите исследовательский анализ данных:\n",
    "- Посмотрите, сколько игр выпускалось в разные годы. Важны ли данные за все периоды?\n",
    "- Посмотрите, как менялись продажи по платформам. Выберите платформы с наибольшими суммарными продажами и постройте распределение по годам. За какой характерный срок появляются новые и исчезают старые платформы?\n",
    "    - Возьмите данные за соответствующий актуальный период. Актуальный период определите самостоятельно в результате исследования предыдущих вопросов. Основной фактор — эти данные помогут построить прогноз на 2017 год.\n",
    "    - Не учитывайте в работе данные за предыдущие годы.\n",
    "- Какие платформы лидируют по продажам, растут или падают? Выберите несколько потенциально прибыльных платформ.\n",
    "- Постройте график «ящик с усами» по глобальным продажам игр в разбивке по платформам. Опишите результат.\n",
    "- Посмотрите, как влияют на продажи внутри одной популярной платформы отзывы пользователей и критиков. Постройте диаграмму рассеяния и посчитайте корреляцию между отзывами и продажами. Сформулируйте выводы.\n",
    "- Соотнесите выводы с продажами игр на других платформах.\n",
    "- Посмотрите на общее распределение игр по жанрам. Что можно сказать о самых прибыльных жанрах? Выделяются ли жанры с высокими и низкими продажами?"
   ]
  },
  {
   "cell_type": "code",
   "execution_count": 25,
   "metadata": {},
   "outputs": [
    {
     "data": {
      "text/plain": [
       "<AxesSubplot:xlabel='year_of_release'>"
      ]
     },
     "execution_count": 25,
     "metadata": {},
     "output_type": "execute_result"
    },
    {
     "data": {
      "image/png": "[encoded data removed]",
      "text/plain": [
       "<Figure size 936x576 with 1 Axes>"
      ]
     },
     "metadata": {
      "needs_background": "light"
     },
     "output_type": "display_data"
    }
   ],
   "source": [
    "# сколько игр выпускалось в разные годы. Важны ли данные за все периоды?\n",
    "games.pivot_table(index='year_of_release', values='total_sales', aggfunc='count').plot(grid=True, figsize=(13, 8))"
   ]
  },
  {
   "cell_type": "markdown",
   "metadata": {},
   "source": [
    "**Вывод:** \n",
    "\n",
    "По графику видно что в 2000 году было выпущенно в 2 больше игр чем 5 годами ранее, после чего рост продолжался вплоть до 2009 года после чего пошёл на спад. Следовательно, актуальными являются данными за прошедшие 15 лет, которые отражают как увелечение, так и падение количества игр."
   ]
  },
  {
   "cell_type": "code",
   "execution_count": 26,
   "metadata": {
    "scrolled": true
   },
   "outputs": [
    {
     "data": {
      "image/png": "[encoded data removed]",
      "text/plain": [
       "<Figure size 432x288 with 1 Axes>"
      ]
     },
     "metadata": {
      "needs_background": "light"
     },
     "output_type": "display_data"
    }
   ],
   "source": [
    "# как менялись продажи по платформам\n",
    "# зависимость продаж по платформам\n",
    "platform_sales = games.pivot_table(index='platform', values='total_sales', aggfunc='sum').sort_values('total_sales', ascending=False).plot(kind='bar')"
   ]
  },
  {
   "cell_type": "markdown",
   "metadata": {},
   "source": [
    "Из данного графика можно выделить несколько платформ с наибольшими суммарными продажами, например, PS2, X360, PS3, Wii, DS, PS. Данные 6 платформ выделяются от всех остальных наибольшими суммарными продажами."
   ]
  },
  {
   "cell_type": "code",
   "execution_count": 27,
   "metadata": {
    "scrolled": false
   },
   "outputs": [
    {
     "data": {
      "text/plain": [
       "<AxesSubplot:xlabel='year_of_release'>"
      ]
     },
     "execution_count": 27,
     "metadata": {},
     "output_type": "execute_result"
    },
    {
     "data": {
      "image/png": "[encoded data removed]",
      "text/plain": [
       "<Figure size 432x288 with 1 Axes>"
      ]
     },
     "metadata": {
      "needs_background": "light"
     },
     "output_type": "display_data"
    }
   ],
   "source": [
    "# платформы с наибольшими суммарными продажами и постройте распределение по годам\n",
    "# PS2\n",
    "games.query('platform == \"PS2\"').pivot_table(index='year_of_release', values='total_sales', aggfunc='sum').plot(kind='bar')"
   ]
  },
  {
   "cell_type": "markdown",
   "metadata": {},
   "source": [
    "На платформе PS2 пик продаж наблюдался в период с 2001 по 2005 год, затем следует спад, в 2011г. продажи прекратились, в настоящее время платформа не актуальна."
   ]
  },
  {
   "cell_type": "code",
   "execution_count": 28,
   "metadata": {
    "scrolled": true
   },
   "outputs": [
    {
     "data": {
      "text/plain": [
       "<AxesSubplot:xlabel='year_of_release'>"
      ]
     },
     "execution_count": 28,
     "metadata": {},
     "output_type": "execute_result"
    },
    {
     "data": {
      "image/png": "[encoded data removed]",
      "text/plain": [
       "<Figure size 432x288 with 1 Axes>"
      ]
     },
     "metadata": {
      "needs_background": "light"
     },
     "output_type": "display_data"
    }
   ],
   "source": [
    "# X360\n",
    "games.query('platform == \"X360\"').pivot_table(index='year_of_release', values='total_sales', aggfunc='sum').plot(kind='bar')"
   ]
  },
  {
   "cell_type": "markdown",
   "metadata": {},
   "source": [
    "На платформе X360 пик продаж наблюдался в период с 2010 по 2011 год, затем следует спад. Даже учитывая, что за 2016г. неполные данные, можно сделать вывод, что в настоящее время платформа не актуальна."
   ]
  },
  {
   "cell_type": "code",
   "execution_count": 29,
   "metadata": {},
   "outputs": [
    {
     "data": {
      "text/plain": [
       "<AxesSubplot:xlabel='year_of_release'>"
      ]
     },
     "execution_count": 29,
     "metadata": {},
     "output_type": "execute_result"
    },
    {
     "data": {
      "image/png": "[encoded data removed]",
      "text/plain": [
       "<Figure size 432x288 with 1 Axes>"
      ]
     },
     "metadata": {
      "needs_background": "light"
     },
     "output_type": "display_data"
    }
   ],
   "source": [
    "# PS3\n",
    "games.query('platform == \"PS3\"').pivot_table(index='year_of_release', values='total_sales', aggfunc='sum').plot(kind='bar')"
   ]
  },
  {
   "cell_type": "markdown",
   "metadata": {},
   "source": [
    "На платформе PS3 пик продаж наблюдался в период с 2009 по 2011 год, затем следует спад. После 2015 года, продажи данной платформы имеют минимальные значения."
   ]
  },
  {
   "cell_type": "code",
   "execution_count": 30,
   "metadata": {},
   "outputs": [
    {
     "data": {
      "text/plain": [
       "<AxesSubplot:xlabel='year_of_release'>"
      ]
     },
     "execution_count": 30,
     "metadata": {},
     "output_type": "execute_result"
    },
    {
     "data": {
      "image/png": "[encoded data removed]",
      "text/plain": [
       "<Figure size 432x288 with 1 Axes>"
      ]
     },
     "metadata": {
      "needs_background": "light"
     },
     "output_type": "display_data"
    }
   ],
   "source": [
    "# Wii\n",
    "games.query('platform == \"Wii\"').pivot_table(index='year_of_release', values='total_sales', aggfunc='sum').plot(kind='bar')"
   ]
  },
  {
   "cell_type": "markdown",
   "metadata": {},
   "source": [
    "На платформе Wii продажи начались в 2006 году, очень быстро достигли своего максимума в 2008-2009, после последовал спад, в 2015 году продажи практически прекратились, в настоящее время платформа не актуальна."
   ]
  },
  {
   "cell_type": "code",
   "execution_count": 31,
   "metadata": {},
   "outputs": [
    {
     "data": {
      "text/plain": [
       "<AxesSubplot:xlabel='year_of_release'>"
      ]
     },
     "execution_count": 31,
     "metadata": {},
     "output_type": "execute_result"
    },
    {
     "data": {
      "image/png": "[encoded data removed]",
      "text/plain": [
       "<Figure size 432x288 with 1 Axes>"
      ]
     },
     "metadata": {
      "needs_background": "light"
     },
     "output_type": "display_data"
    }
   ],
   "source": [
    "# DS\n",
    "games.query('platform == \"DS\"').pivot_table(index='year_of_release', values='total_sales', aggfunc='sum').plot(kind='bar')"
   ]
  },
  {
   "cell_type": "markdown",
   "metadata": {},
   "source": [
    "На платформе DS продажи начались в 2004 году, очень быстро достигли своего максимума в 2005-2008, после последовал спад, в 2013 продажи практически прекратились, в настоящее время платформа не актуальна."
   ]
  },
  {
   "cell_type": "code",
   "execution_count": 32,
   "metadata": {},
   "outputs": [
    {
     "data": {
      "text/plain": [
       "<AxesSubplot:xlabel='year_of_release'>"
      ]
     },
     "execution_count": 32,
     "metadata": {},
     "output_type": "execute_result"
    },
    {
     "data": {
      "image/png": "[encoded data removed]",
      "text/plain": [
       "<Figure size 432x288 with 1 Axes>"
      ]
     },
     "metadata": {
      "needs_background": "light"
     },
     "output_type": "display_data"
    }
   ],
   "source": [
    "# PS\n",
    "games.query('platform == \"PS\"').pivot_table(index='year_of_release', values='total_sales', aggfunc='sum').plot(kind='bar')"
   ]
  },
  {
   "cell_type": "markdown",
   "metadata": {},
   "source": [
    "Платформа PS первая в линейке PlayStation, продажи начались в 1994 году, своего максимума достигли в 1998 году, после последовал спад, в 2003 продажи практически прекратились, в настоящее время платформа не актуальна."
   ]
  },
  {
   "cell_type": "markdown",
   "metadata": {},
   "source": [
    "**В среднем платфрмы остаются ктуальными в течении 7 лет, появляются же новые платформы ближе к моменту спада предидущей версии или старого поколения**"
   ]
  },
  {
   "cell_type": "markdown",
   "metadata": {},
   "source": [
    "В целях формирования прогноза на 2017 года имеет смысл проводить анализ по последние 2-3 года и сохранением данных за 2016 год."
   ]
  },
  {
   "cell_type": "code",
   "execution_count": 33,
   "metadata": {},
   "outputs": [],
   "source": [
    "new_games = games.query('year_of_release >= 2014').copy()"
   ]
  },
  {
   "cell_type": "markdown",
   "metadata": {},
   "source": [
    "**Какие платформы лидируют по продажам, растут или падают?**"
   ]
  },
  {
   "cell_type": "code",
   "execution_count": 34,
   "metadata": {},
   "outputs": [
    {
     "data": {
      "image/png": "[encoded data removed]",
      "text/plain": [
       "<Figure size 432x288 with 1 Axes>"
      ]
     },
     "metadata": {
      "needs_background": "light"
     },
     "output_type": "display_data"
    }
   ],
   "source": [
    "# график зависимости продаж от типа платформ за период с 2014 по 2016\n",
    "platform_sales_new = new_games.pivot_table(index='platform', values='total_sales', aggfunc='sum').sort_values('total_sales', ascending=False).plot(kind='bar')"
   ]
  },
  {
   "cell_type": "markdown",
   "metadata": {},
   "source": [
    "За актуальный период лидерство звнимет PS4, и вдвое меньше у XOne"
   ]
  },
  {
   "cell_type": "code",
   "execution_count": 35,
   "metadata": {},
   "outputs": [
    {
     "data": {
      "text/plain": [
       "<AxesSubplot:xlabel='year_of_release'>"
      ]
     },
     "execution_count": 35,
     "metadata": {},
     "output_type": "execute_result"
    },
    {
     "data": {
      "image/png": "[encoded data removed]",
      "text/plain": [
       "<Figure size 432x288 with 1 Axes>"
      ]
     },
     "metadata": {
      "needs_background": "light"
     },
     "output_type": "display_data"
    }
   ],
   "source": [
    "# продажи на платформе PS4, распределение по годам\n",
    "new_games.query('platform == \"PS4\"').pivot_table(index='year_of_release', values='total_sales', aggfunc='sum').plot(kind='bar')"
   ]
  },
  {
   "cell_type": "markdown",
   "metadata": {},
   "source": [
    "Из за того что данные за 2016 год неполные, можно сказать, что по данной платформе продажи находятся на одном уровне, ее стабильно много покупают последние три года."
   ]
  },
  {
   "cell_type": "code",
   "execution_count": 36,
   "metadata": {},
   "outputs": [
    {
     "data": {
      "text/plain": [
       "<AxesSubplot:xlabel='year_of_release'>"
      ]
     },
     "execution_count": 36,
     "metadata": {},
     "output_type": "execute_result"
    },
    {
     "data": {
      "image/png": "[encoded data removed]",
      "text/plain": [
       "<Figure size 432x288 with 1 Axes>"
      ]
     },
     "metadata": {
      "needs_background": "light"
     },
     "output_type": "display_data"
    }
   ],
   "source": [
    "# продажи на платформе XOne, распределение по годам\n",
    "new_games.query('platform == \"XOne\"').pivot_table(index='year_of_release', values='total_sales', aggfunc='sum').plot(kind='bar')"
   ]
  },
  {
   "cell_type": "markdown",
   "metadata": {},
   "source": [
    "Продажи находятся на одном уровне, ее стабильно покупают последние три года, но количество продаж в 2 раза меньше платформы PS4."
   ]
  },
  {
   "cell_type": "code",
   "execution_count": 37,
   "metadata": {},
   "outputs": [
    {
     "data": {
      "text/plain": [
       "<AxesSubplot:xlabel='year_of_release'>"
      ]
     },
     "execution_count": 37,
     "metadata": {},
     "output_type": "execute_result"
    },
    {
     "data": {
      "image/png": "[encoded data removed]",
      "text/plain": [
       "<Figure size 432x288 with 1 Axes>"
      ]
     },
     "metadata": {
      "needs_background": "light"
     },
     "output_type": "display_data"
    }
   ],
   "source": [
    "# продажи на платформе 3DS, распределение по годам\n",
    "new_games.query('platform == \"3DS\"').pivot_table(index='year_of_release', values='total_sales', aggfunc='sum').plot(kind='bar')"
   ]
  },
  {
   "cell_type": "markdown",
   "metadata": {},
   "source": [
    "По данной платформе наблюдается незначительный спад продаж, около 30 процентов ежегодно."
   ]
  },
  {
   "cell_type": "code",
   "execution_count": 38,
   "metadata": {},
   "outputs": [
    {
     "data": {
      "text/plain": [
       "<AxesSubplot:xlabel='year_of_release'>"
      ]
     },
     "execution_count": 38,
     "metadata": {},
     "output_type": "execute_result"
    },
    {
     "data": {
      "image/png": "[encoded data removed]",
      "text/plain": [
       "<Figure size 432x288 with 1 Axes>"
      ]
     },
     "metadata": {
      "needs_background": "light"
     },
     "output_type": "display_data"
    }
   ],
   "source": [
    "# продажи на платформе PS3, распределение по годам\n",
    "new_games.query('platform == \"PS3\"').pivot_table(index='year_of_release', values='total_sales', aggfunc='sum').plot(kind='bar')"
   ]
  },
  {
   "cell_type": "markdown",
   "metadata": {},
   "source": [
    "Видно, что в 2015 году продажи резко упали относительно 2014 года, а в 2016 году продажи практически прекратились. На смену данной платформе PS3 пришла более современная PS4."
   ]
  },
  {
   "cell_type": "code",
   "execution_count": 39,
   "metadata": {},
   "outputs": [
    {
     "data": {
      "text/plain": [
       "<AxesSubplot:xlabel='year_of_release'>"
      ]
     },
     "execution_count": 39,
     "metadata": {},
     "output_type": "execute_result"
    },
    {
     "data": {
      "image/png": "[encoded data removed]",
      "text/plain": [
       "<Figure size 432x288 with 1 Axes>"
      ]
     },
     "metadata": {
      "needs_background": "light"
     },
     "output_type": "display_data"
    }
   ],
   "source": [
    "# продажи на платформе X360, распределение по годам\n",
    "new_games.query('platform == \"X360\"').pivot_table(index='year_of_release', values='total_sales', aggfunc='sum').plot(kind='bar')"
   ]
  },
  {
   "cell_type": "markdown",
   "metadata": {},
   "source": [
    "Аналогичная ситуация наблюдается у данной платфоры, в 2016 году ее уже никто не покупает."
   ]
  },
  {
   "cell_type": "code",
   "execution_count": 40,
   "metadata": {},
   "outputs": [
    {
     "data": {
      "text/plain": [
       "<AxesSubplot:xlabel='year_of_release'>"
      ]
     },
     "execution_count": 40,
     "metadata": {},
     "output_type": "execute_result"
    },
    {
     "data": {
      "image/png": "[encoded data removed]",
      "text/plain": [
       "<Figure size 432x288 with 1 Axes>"
      ]
     },
     "metadata": {
      "needs_background": "light"
     },
     "output_type": "display_data"
    }
   ],
   "source": [
    "# продажи на платформе WiiU, распределение по годам\n",
    "new_games.query('platform == \"WiiU\"').pivot_table(index='year_of_release', values='total_sales', aggfunc='sum').plot(kind='bar')"
   ]
  },
  {
   "cell_type": "code",
   "execution_count": 41,
   "metadata": {},
   "outputs": [
    {
     "data": {
      "text/plain": [
       "<AxesSubplot:xlabel='year_of_release'>"
      ]
     },
     "execution_count": 41,
     "metadata": {},
     "output_type": "execute_result"
    },
    {
     "data": {
      "image/png": "[encoded data removed]",
      "text/plain": [
       "<Figure size 432x288 with 1 Axes>"
      ]
     },
     "metadata": {
      "needs_background": "light"
     },
     "output_type": "display_data"
    }
   ],
   "source": [
    "# продажи на платформе PC, распределение по годам\n",
    "new_games.query('platform == \"PC\"').pivot_table(index='year_of_release', values='total_sales', aggfunc='sum').plot(kind='bar')"
   ]
  },
  {
   "cell_type": "code",
   "execution_count": 42,
   "metadata": {},
   "outputs": [
    {
     "data": {
      "text/plain": [
       "<AxesSubplot:xlabel='year_of_release'>"
      ]
     },
     "execution_count": 42,
     "metadata": {},
     "output_type": "execute_result"
    },
    {
     "data": {
      "image/png": "[encoded data removed]",
      "text/plain": [
       "<Figure size 432x288 with 1 Axes>"
      ]
     },
     "metadata": {
      "needs_background": "light"
     },
     "output_type": "display_data"
    }
   ],
   "source": [
    "# продажи на платформе PSV, распределение по годам\n",
    "new_games.query('platform == \"PSV\"').pivot_table(index='year_of_release', values='total_sales', aggfunc='sum').plot(kind='bar')"
   ]
  },
  {
   "cell_type": "code",
   "execution_count": 43,
   "metadata": {},
   "outputs": [
    {
     "data": {
      "text/plain": [
       "<AxesSubplot:xlabel='year_of_release'>"
      ]
     },
     "execution_count": 43,
     "metadata": {},
     "output_type": "execute_result"
    },
    {
     "data": {
      "image/png": "[encoded data removed]",
      "text/plain": [
       "<Figure size 432x288 with 1 Axes>"
      ]
     },
     "metadata": {
      "needs_background": "light"
     },
     "output_type": "display_data"
    }
   ],
   "source": [
    "# продажи на платформе Wii, распределение по годам\n",
    "new_games.query('platform == \"Wii\"').pivot_table(index='year_of_release', values='total_sales', aggfunc='sum').plot(kind='bar')"
   ]
  },
  {
   "cell_type": "code",
   "execution_count": 44,
   "metadata": {
    "scrolled": true
   },
   "outputs": [
    {
     "data": {
      "text/plain": [
       "<AxesSubplot:xlabel='year_of_release'>"
      ]
     },
     "execution_count": 44,
     "metadata": {},
     "output_type": "execute_result"
    },
    {
     "data": {
      "image/png": "[encoded data removed]",
      "text/plain": [
       "<Figure size 432x288 with 1 Axes>"
      ]
     },
     "metadata": {
      "needs_background": "light"
     },
     "output_type": "display_data"
    }
   ],
   "source": [
    "# продажи на платформе PSP, распределение по годам\n",
    "new_games.query('platform == \"PSP\"').pivot_table(index='year_of_release', values='total_sales', aggfunc='sum').plot(kind='bar')"
   ]
  },
  {
   "cell_type": "markdown",
   "metadata": {},
   "source": [
    "У платформ WiiU, PC, PSV, Wii изначально в 2014 году были относительно небольшие продажи, которые постепенно снижаются в 2015 и продолжают снижаться."
   ]
  },
  {
   "cell_type": "markdown",
   "metadata": {},
   "source": [
    "**По результатам анализа количества продаж платформ за актуальный период, при дальнейшей обработке и анализе имеет смысл не учитывать платформы с минимальными продажами. Оставим платформы кроме PS3, X360, Wii, PSP.**"
   ]
  },
  {
   "cell_type": "markdown",
   "metadata": {},
   "source": [
    "**График «ящик с усами» по глобальным продажам игр в разбивке по платформам.**"
   ]
  },
  {
   "cell_type": "code",
   "execution_count": 45,
   "metadata": {},
   "outputs": [],
   "source": [
    "import seaborn as sea"
   ]
  },
  {
   "cell_type": "code",
   "execution_count": 46,
   "metadata": {},
   "outputs": [
    {
     "data": {
      "image/png": "[encoded data removed]",
      "text/plain": [
       "<Figure size 1440x720 with 1 Axes>"
      ]
     },
     "metadata": {
      "needs_background": "light"
     },
     "output_type": "display_data"
    }
   ],
   "source": [
    "mustache = plt.figure(figsize = (20,10))\n",
    "sea.boxplot(data = new_games, y = 'total_sales', x='platform').set(title = 'Продажи по перспективным платформам за 2014-2016 гг', xlabel = 'Платформы', ylabel = 'Общие продажи', ylim=(0, 3))\n",
    "plt.show()"
   ]
  },
  {
   "cell_type": "code",
   "execution_count": 47,
   "metadata": {},
   "outputs": [
    {
     "data": {
      "text/html": [
       "<div>\n",
       "<style scoped>\n",
       "    .dataframe tbody tr th:only-of-type {\n",
       "        vertical-align: middle;\n",
       "    }\n",
       "\n",
       "    .dataframe tbody tr th {\n",
       "        vertical-align: top;\n",
       "    }\n",
       "\n",
       "    .dataframe thead tr th {\n",
       "        text-align: left;\n",
       "    }\n",
       "\n",
       "    .dataframe thead tr:last-of-type th {\n",
       "        text-align: right;\n",
       "    }\n",
       "</style>\n",
       "<table border=\"1\" class=\"dataframe\">\n",
       "  <thead>\n",
       "    <tr>\n",
       "      <th></th>\n",
       "      <th>var</th>\n",
       "      <th>median</th>\n",
       "      <th>mean</th>\n",
       "    </tr>\n",
       "    <tr>\n",
       "      <th></th>\n",
       "      <th>total_sales</th>\n",
       "      <th>total_sales</th>\n",
       "      <th>total_sales</th>\n",
       "    </tr>\n",
       "    <tr>\n",
       "      <th>platform</th>\n",
       "      <th></th>\n",
       "      <th></th>\n",
       "      <th></th>\n",
       "    </tr>\n",
       "  </thead>\n",
       "  <tbody>\n",
       "    <tr>\n",
       "      <th>3DS</th>\n",
       "      <td>1.412219</td>\n",
       "      <td>0.090</td>\n",
       "      <td>0.408868</td>\n",
       "    </tr>\n",
       "    <tr>\n",
       "      <th>PC</th>\n",
       "      <td>0.108477</td>\n",
       "      <td>0.060</td>\n",
       "      <td>0.179139</td>\n",
       "    </tr>\n",
       "    <tr>\n",
       "      <th>PS3</th>\n",
       "      <td>0.400764</td>\n",
       "      <td>0.110</td>\n",
       "      <td>0.311324</td>\n",
       "    </tr>\n",
       "    <tr>\n",
       "      <th>PS4</th>\n",
       "      <td>2.608124</td>\n",
       "      <td>0.185</td>\n",
       "      <td>0.766356</td>\n",
       "    </tr>\n",
       "    <tr>\n",
       "      <th>PSP</th>\n",
       "      <td>0.000769</td>\n",
       "      <td>0.020</td>\n",
       "      <td>0.027692</td>\n",
       "    </tr>\n",
       "    <tr>\n",
       "      <th>PSV</th>\n",
       "      <td>0.020048</td>\n",
       "      <td>0.040</td>\n",
       "      <td>0.075932</td>\n",
       "    </tr>\n",
       "    <tr>\n",
       "      <th>Wii</th>\n",
       "      <td>0.391189</td>\n",
       "      <td>0.180</td>\n",
       "      <td>0.460909</td>\n",
       "    </tr>\n",
       "    <tr>\n",
       "      <th>WiiU</th>\n",
       "      <td>1.349005</td>\n",
       "      <td>0.190</td>\n",
       "      <td>0.588767</td>\n",
       "    </tr>\n",
       "    <tr>\n",
       "      <th>X360</th>\n",
       "      <td>0.395599</td>\n",
       "      <td>0.180</td>\n",
       "      <td>0.434414</td>\n",
       "    </tr>\n",
       "    <tr>\n",
       "      <th>XOne</th>\n",
       "      <td>1.095189</td>\n",
       "      <td>0.205</td>\n",
       "      <td>0.615614</td>\n",
       "    </tr>\n",
       "  </tbody>\n",
       "</table>\n",
       "</div>"
      ],
      "text/plain": [
       "                 var      median        mean\n",
       "         total_sales total_sales total_sales\n",
       "platform                                    \n",
       "3DS         1.412219       0.090    0.408868\n",
       "PC          0.108477       0.060    0.179139\n",
       "PS3         0.400764       0.110    0.311324\n",
       "PS4         2.608124       0.185    0.766356\n",
       "PSP         0.000769       0.020    0.027692\n",
       "PSV         0.020048       0.040    0.075932\n",
       "Wii         0.391189       0.180    0.460909\n",
       "WiiU        1.349005       0.190    0.588767\n",
       "X360        0.395599       0.180    0.434414\n",
       "XOne        1.095189       0.205    0.615614"
      ]
     },
     "execution_count": 47,
     "metadata": {},
     "output_type": "execute_result"
    }
   ],
   "source": [
    "new_games.pivot_table(index = 'platform', values = ['total_sales'],aggfunc = ['var', 'median', 'mean'])"
   ]
  },
  {
   "cell_type": "markdown",
   "metadata": {},
   "source": [
    "**Вывод:**\n",
    "\n",
    "Из графика видно, что по всем платформам существуют выбросы дальше третьих квартилей. У платформ PS4, WiiU и XOne одинаковы медианные значения продаж , также приблизительно равны среднее арифметическое значение продаж. Из данного анализа следует, что большей популярностью пользуются уже вышеуказанные платформы PS4, WiiU и XOne."
   ]
  },
  {
   "cell_type": "markdown",
   "metadata": {},
   "source": [
    "**Как влияют на продажи внутри одной популярной платформы отзывы пользователей и критиков. Постройте диаграмму рассеяния и посчитайте корреляцию между отзывами и продажами.**"
   ]
  },
  {
   "cell_type": "code",
   "execution_count": 48,
   "metadata": {},
   "outputs": [
    {
     "data": {
      "image/png": "[encoded data removed]",
      "text/plain": [
       "<Figure size 432x288 with 1 Axes>"
      ]
     },
     "metadata": {
      "needs_background": "light"
     },
     "output_type": "display_data"
    },
    {
     "data": {
      "image/png": "[encoded data removed]",
      "text/plain": [
       "<Figure size 432x288 with 1 Axes>"
      ]
     },
     "metadata": {
      "needs_background": "light"
     },
     "output_type": "display_data"
    },
    {
     "name": "stdout",
     "output_type": "stream",
     "text": [
      "critic_score    0.401903\n",
      "user_score     -0.043186\n",
      "total_sales     1.000000\n",
      "Name: total_sales, dtype: float64\n"
     ]
    }
   ],
   "source": [
    "# диаграмма рассеяния для платформы PS4, исключим поставленые ранее отрицательные значения\n",
    "games_platform = new_games.query('platform == \"PS4\"')\n",
    "games_platform[games_platform['critic_score'] != -100].plot(kind='scatter', x='critic_score', y='total_sales')\n",
    "games_platform[games_platform['user_score'] != -100].plot(kind='scatter', x='user_score', y='total_sales')\n",
    "plt.show()\n",
    "# коэффициент корреляции\n",
    "print(games_platform[(games_platform['critic_score'] != -100) & (games_platform['user_score'] != -100)][['critic_score', 'user_score', 'total_sales']].corr()['total_sales'])"
   ]
  },
  {
   "cell_type": "markdown",
   "metadata": {},
   "source": [
    "Оценки критиков для платформы PS4 имеет слабое влияние на продажи, оценка пользователей на продажи не влияет,"
   ]
  },
  {
   "cell_type": "code",
   "execution_count": 49,
   "metadata": {},
   "outputs": [
    {
     "data": {
      "image/png": "[encoded data removed]",
      "text/plain": [
       "<Figure size 432x288 with 1 Axes>"
      ]
     },
     "metadata": {
      "needs_background": "light"
     },
     "output_type": "display_data"
    },
    {
     "data": {
      "image/png": "[encoded data removed]",
      "text/plain": [
       "<Figure size 432x288 with 1 Axes>"
      ]
     },
     "metadata": {
      "needs_background": "light"
     },
     "output_type": "display_data"
    },
    {
     "name": "stdout",
     "output_type": "stream",
     "text": [
      "critic_score    0.284686\n",
      "user_score      0.279850\n",
      "total_sales     1.000000\n",
      "Name: total_sales, dtype: float64\n"
     ]
    }
   ],
   "source": [
    "# аналогично для платформы 3DS\n",
    "games_platform = new_games.query('platform == \"3DS\"')\n",
    "games_platform[games_platform['critic_score'] != -100].plot(kind='scatter', x='critic_score', y='total_sales')\n",
    "games_platform[games_platform['user_score'] != -100].plot(kind='scatter', x='user_score', y='total_sales')\n",
    "plt.show()\n",
    "# коэффициент корреляции\n",
    "print(games_platform[(games_platform['critic_score'] != -100) & (games_platform['user_score'] != -100)][['critic_score', 'user_score', 'total_sales']].corr()['total_sales'])"
   ]
  },
  {
   "cell_type": "markdown",
   "metadata": {},
   "source": [
    "Оценки критиков для платформы 3DS имеет слабое влияние на продажи, оценка пользователей также имеет очень слабое влияние."
   ]
  },
  {
   "cell_type": "code",
   "execution_count": 50,
   "metadata": {},
   "outputs": [
    {
     "data": {
      "image/png": "[encoded data removed]",
      "text/plain": [
       "<Figure size 432x288 with 1 Axes>"
      ]
     },
     "metadata": {
      "needs_background": "light"
     },
     "output_type": "display_data"
    },
    {
     "data": {
      "image/png": "[encoded data removed]",
      "text/plain": [
       "<Figure size 432x288 with 1 Axes>"
      ]
     },
     "metadata": {
      "needs_background": "light"
     },
     "output_type": "display_data"
    },
    {
     "name": "stdout",
     "output_type": "stream",
     "text": [
      "critic_score    0.172061\n",
      "user_score     -0.089974\n",
      "total_sales     1.000000\n",
      "Name: total_sales, dtype: float64\n"
     ]
    }
   ],
   "source": [
    "# аналогично для платформы PC\n",
    "games_platform = new_games.query('platform == \"PC\"')\n",
    "games_platform[games_platform['critic_score'] != -100].plot(kind='scatter', x='critic_score', y='total_sales')\n",
    "games_platform[games_platform['user_score'] != -100].plot(kind='scatter', x='user_score', y='total_sales')\n",
    "plt.show()\n",
    "# коэффициент корреляции\n",
    "print(games_platform[(games_platform['critic_score'] != -100) & (games_platform['user_score'] != -100)][['critic_score', 'user_score', 'total_sales']].corr()['total_sales'])\n"
   ]
  },
  {
   "cell_type": "markdown",
   "metadata": {},
   "source": [
    "Оценки критиков для платформы PC не имеет влияние на продажи, оценка пользователей на продажи не влияет."
   ]
  },
  {
   "cell_type": "code",
   "execution_count": 51,
   "metadata": {},
   "outputs": [
    {
     "data": {
      "image/png": "[encoded data removed]",
      "text/plain": [
       "<Figure size 432x288 with 1 Axes>"
      ]
     },
     "metadata": {
      "needs_background": "light"
     },
     "output_type": "display_data"
    },
    {
     "data": {
      "image/png": "[encoded data removed]",
      "text/plain": [
       "<Figure size 432x288 with 1 Axes>"
      ]
     },
     "metadata": {
      "needs_background": "light"
     },
     "output_type": "display_data"
    },
    {
     "name": "stdout",
     "output_type": "stream",
     "text": [
      "critic_score    0.041029\n",
      "user_score      0.023528\n",
      "total_sales     1.000000\n",
      "Name: total_sales, dtype: float64\n"
     ]
    }
   ],
   "source": [
    "# диаграмма рассеяния для платформы PSV\n",
    "games_platform = new_games.query('platform == \"PSV\"')\n",
    "games_platform[games_platform['critic_score'] != -100].plot(kind='scatter', x='critic_score', y='total_sales')\n",
    "games_platform[games_platform['user_score'] != -100].plot(kind='scatter', x='user_score', y='total_sales')\n",
    "plt.show()\n",
    "# коэффициент корреляции\n",
    "print(games_platform[(games_platform['critic_score'] != -100) & (games_platform['user_score'] != -100)][['critic_score', 'user_score', 'total_sales']].corr()['total_sales'])\n"
   ]
  },
  {
   "cell_type": "markdown",
   "metadata": {},
   "source": [
    "Оценки критиков для платформы PSV имеет слабое влияние на продажи, оценка пользователей также имеет очень слабое влияние."
   ]
  },
  {
   "cell_type": "code",
   "execution_count": 52,
   "metadata": {},
   "outputs": [
    {
     "data": {
      "image/png": "[encoded data removed]",
      "text/plain": [
       "<Figure size 432x288 with 1 Axes>"
      ]
     },
     "metadata": {
      "needs_background": "light"
     },
     "output_type": "display_data"
    },
    {
     "data": {
      "image/png": "[encoded data removed]",
      "text/plain": [
       "<Figure size 432x288 with 1 Axes>"
      ]
     },
     "metadata": {
      "needs_background": "light"
     },
     "output_type": "display_data"
    },
    {
     "name": "stdout",
     "output_type": "stream",
     "text": [
      "critic_score    0.375640\n",
      "user_score      0.411451\n",
      "total_sales     1.000000\n",
      "Name: total_sales, dtype: float64\n"
     ]
    }
   ],
   "source": [
    "# диаграмма рассеяния для платформы WiiU\n",
    "games_platform = new_games.query('platform == \"WiiU\"')\n",
    "games_platform[games_platform['critic_score'] != -100].plot(kind='scatter', x='critic_score', y='total_sales')\n",
    "games_platform[games_platform['user_score'] != -100].plot(kind='scatter', x='user_score', y='total_sales')\n",
    "plt.show()\n",
    "# коэффициент корреляции\n",
    "print(games_platform[(games_platform['critic_score'] != -100) & (games_platform['user_score'] != -100)][['critic_score', 'user_score', 'total_sales']].corr()['total_sales'])\n"
   ]
  },
  {
   "cell_type": "markdown",
   "metadata": {},
   "source": [
    "Оценка критиков для платформы WiiU имеет слабое влияние на продажи, оценка пользователей также имеет слабое влияние."
   ]
  },
  {
   "cell_type": "code",
   "execution_count": 53,
   "metadata": {},
   "outputs": [
    {
     "data": {
      "image/png": "[encoded data removed]",
      "text/plain": [
       "<Figure size 432x288 with 1 Axes>"
      ]
     },
     "metadata": {
      "needs_background": "light"
     },
     "output_type": "display_data"
    },
    {
     "data": {
      "image/png": "[encoded data removed]",
      "text/plain": [
       "<Figure size 432x288 with 1 Axes>"
      ]
     },
     "metadata": {
      "needs_background": "light"
     },
     "output_type": "display_data"
    },
    {
     "name": "stdout",
     "output_type": "stream",
     "text": [
      "critic_score    0.422112\n",
      "user_score     -0.091734\n",
      "total_sales     1.000000\n",
      "Name: total_sales, dtype: float64\n"
     ]
    }
   ],
   "source": [
    "# диаграмма рассеяния для платформы XOne\n",
    "games_platform = new_games.query('platform == \"XOne\"')\n",
    "games_platform[games_platform['critic_score'] != -100].plot(kind='scatter', x='critic_score', y='total_sales')\n",
    "games_platform[games_platform['user_score'] != -100].plot(kind='scatter', x='user_score', y='total_sales')\n",
    "plt.show()\n",
    "# коэффициент корреляции\n",
    "print(games_platform[(games_platform['critic_score'] != -100) & (games_platform['user_score'] != -100)][['critic_score', 'user_score', 'total_sales']].corr()['total_sales'])\n"
   ]
  },
  {
   "cell_type": "markdown",
   "metadata": {},
   "source": [
    "Оценка критиков для платформы XOne имеет слабое влияние на продажи, оценка пользователей на продажи не влияет"
   ]
  },
  {
   "cell_type": "markdown",
   "metadata": {},
   "source": [
    "**Вывод:**\n",
    "\n",
    "Из построенных выше диаграмм рассеяния и коэффициента корреляции по каждой платформе между отзывами и продажами видно, что оценки критиков для всех платформ практически не влияют или имеют очень слабое влияние на продажи. Оценки пользователей имеют очень слабое влияние на продажи и не влияют совсем."
   ]
  },
  {
   "cell_type": "markdown",
   "metadata": {},
   "source": [
    "**Общее распределение игр по жанрам.** "
   ]
  },
  {
   "cell_type": "code",
   "execution_count": 54,
   "metadata": {
    "scrolled": false
   },
   "outputs": [
    {
     "data": {
      "image/png": "[encoded data removed]",
      "text/plain": [
       "<Figure size 936x576 with 1 Axes>"
      ]
     },
     "metadata": {
      "needs_background": "light"
     },
     "output_type": "display_data"
    }
   ],
   "source": [
    "# график распределения продаж по жанрам игр\n",
    "plt.figure(figsize=(13, 8))\n",
    "new_platform_sales = new_games.pivot_table(index='genre', values='total_sales', aggfunc='sum').sort_values('total_sales', ascending=False)\n",
    "(sea.barplot(data = new_platform_sales, x = new_platform_sales.index, y = 'total_sales')\n",
    "    .set(title = 'Продажи по жанрам за 2014-2016 гг', xlabel = 'Платформы', ylabel = 'Общие продажи'))\n",
    "plt.show()"
   ]
  },
  {
   "cell_type": "code",
   "execution_count": 55,
   "metadata": {},
   "outputs": [],
   "source": [
    "new_games_mean = new_games.groupby('genre')['total_sales'].median().sort_values(ascending=False)"
   ]
  },
  {
   "cell_type": "code",
   "execution_count": 56,
   "metadata": {
    "scrolled": false
   },
   "outputs": [
    {
     "data": {
      "text/plain": [
       "<AxesSubplot:xlabel='genre'>"
      ]
     },
     "execution_count": 56,
     "metadata": {},
     "output_type": "execute_result"
    },
    {
     "data": {
      "image/png": "[encoded data removed]",
      "text/plain": [
       "<Figure size 720x432 with 1 Axes>"
      ]
     },
     "metadata": {
      "needs_background": "light"
     },
     "output_type": "display_data"
    }
   ],
   "source": [
    "new_games_mean.plot(y='genre',grid=True,figsize=(10,6),kind='bar')"
   ]
  },
  {
   "cell_type": "markdown",
   "metadata": {},
   "source": [
    "**Вывод:**\n",
    "Долгое время жанр Action лидировал, ноднако годом ранее первенство занял жанр Shooter. До 2011 года люди любили поиграть в музыкальные игры, там где надо двигаться в ритм музыке и аналогичные, но потом интерес к этой категории игр угас. Со спортивными играми аналогичная ситуация. Шутеры же в свою очередь неизменно пользуются интересом у пользователей. Интерес к остальным категориям игор с годами только уменьшается."
   ]
  },
  {
   "cell_type": "markdown",
   "metadata": {},
   "source": [
    "### Шаг 4. Составьте портрет пользователя каждого региона:\n",
    "Определите для пользователя каждого региона (NA, EU, JP):\n",
    "- Самые популярные платформы (топ-5). Опишите различия в долях продаж.\n",
    "- Самые популярные жанры (топ-5). Поясните разницу.\n",
    "- Влияет ли рейтинг ESRB на продажи в отдельном регионе?"
   ]
  },
  {
   "cell_type": "code",
   "execution_count": 57,
   "metadata": {
    "scrolled": false
   },
   "outputs": [],
   "source": [
    "# самые популярные платформы\n",
    "na_plat = new_games.groupby('platform')['na_sales'].sum()\n",
    "eu_plat = new_games.groupby('platform')['eu_sales'].sum()\n",
    "jp_plat = new_games.groupby('platform')['jp_sales'].sum()"
   ]
  },
  {
   "cell_type": "code",
   "execution_count": 58,
   "metadata": {},
   "outputs": [
    {
     "data": {
      "image/png": "[encoded data removed]",
      "text/plain": [
       "<Figure size 720x360 with 1 Axes>"
      ]
     },
     "metadata": {},
     "output_type": "display_data"
    }
   ],
   "source": [
    "full_na = new_games['na_sales'].sum()\n",
    "share_na = na_plat/full_na\n",
    "\n",
    "labels = [\"3DS\", \"PC\", \"PS3\", \"PS4\", \"PSP\", \"PSV\", \"Wii\", \"WiiU\", \"X360\", \"XOne\"]\n",
    "fig = plt.figure(figsize =(10, 5))\n",
    "plt.pie(share_na, labels=labels)\n",
    "plt.show()"
   ]
  },
  {
   "cell_type": "code",
   "execution_count": 59,
   "metadata": {},
   "outputs": [
    {
     "name": "stderr",
     "output_type": "stream",
     "text": [
      "/tmp/ipykernel_133/4015229717.py:6: MatplotlibDeprecationWarning: normalize=None does not normalize if the sum is less than 1 but this behavior is deprecated since 3.3 until two minor releases later. After the deprecation period the default value will be normalize=True. To prevent normalization pass normalize=False \n",
      "  plt.pie(share_eu, labels=labels)\n"
     ]
    },
    {
     "data": {
      "image/png": "[encoded data removed]",
      "text/plain": [
       "<Figure size 720x360 with 1 Axes>"
      ]
     },
     "metadata": {},
     "output_type": "display_data"
    }
   ],
   "source": [
    "full_eu = new_games['eu_sales'].sum()\n",
    "share_eu = eu_plat/full_eu\n",
    "\n",
    "labels = [\"3DS\", \"PC\", \"PS3\", \"PS4\", \"PSP\", \"PSV\", \"Wii\", \"WiiU\", \"X360\", \"XOne\"]\n",
    "fig = plt.figure(figsize =(10, 5))\n",
    "plt.pie(share_eu, labels=labels)\n",
    "plt.show()"
   ]
  },
  {
   "cell_type": "code",
   "execution_count": 60,
   "metadata": {},
   "outputs": [
    {
     "data": {
      "image/png": "[encoded data removed]",
      "text/plain": [
       "<Figure size 720x360 with 1 Axes>"
      ]
     },
     "metadata": {},
     "output_type": "display_data"
    }
   ],
   "source": [
    "full_jp = new_games['jp_sales'].sum()\n",
    "share_jp = jp_plat/full_jp\n",
    "\n",
    "labels = [\"3DS\", \"PC\", \"PS3\", \"PS4\", \"PSP\", \"PSV\", \"Wii\", \"WiiU\", \"X360\", \"XOne\"]\n",
    "fig = plt.figure(figsize =(10, 5))\n",
    "plt.pie(share_jp, labels=labels)\n",
    "plt.show()"
   ]
  },
  {
   "cell_type": "markdown",
   "metadata": {},
   "source": [
    "**Вывод:**\n",
    "\n",
    "В списке 5 самых популярных платформ Северной Америки показатель похожи на другие страны. Стоит отметить, больше всего продаж у PS4. Также тут самый большой показать продаж для платформы XOne.\n",
    "Так же как и в большинстве других стран рейтин по платформам возглавляет Shooter и Platform.\n",
    "\n",
    "В целом ситуация похожа на общую картину по миру.В европейском регионе так же лидирует PS4. Однако 3 место тут заняла PS3, а так же появилась PC.\n",
    "В списке топа жанров в Европе на 3 месте появился Racing. Shooter лидирует с большим отрывом.\n",
    "\n",
    "В регионе JP видим существуенные отличия от мировых предпочтений. Здесь лидируют платформы 3DS, PS4, PSV, PS3, WiiU. Выдающийся лидер других регионов - PS4, здесь располагается на втором месте.\n",
    "Стоит отметить лидерующие жанры - Role-Playing и Fighting.\n",
    "\n",
    "В целом для других стран и по жанрам и по платформам ситуация схожа с мировой."
   ]
  },
  {
   "cell_type": "code",
   "execution_count": 61,
   "metadata": {},
   "outputs": [
    {
     "data": {
      "image/png": "[encoded data removed]",
      "text/plain": [
       "<Figure size 1080x576 with 1 Axes>"
      ]
     },
     "metadata": {
      "needs_background": "light"
     },
     "output_type": "display_data"
    }
   ],
   "source": [
    "# самые популярные платформы\n",
    "# сумма проданных копий для Северной Америки по жанрам\n",
    "na_genre = new_games.groupby(['genre'])['na_sales'].agg(['sum'])\n",
    "# сумма проданных копий для Европы по жанрам\n",
    "eu_genre = new_games.groupby(['genre'])['eu_sales'].agg(['sum'])\n",
    "# сумма проданных копий для Японии по жанрам\n",
    "jp_genre = new_games.groupby(['genre'])['jp_sales'].agg(['sum'])\n",
    "# объединяем\n",
    "users_genre = pd.concat([na_genre, eu_genre, jp_genre], axis=1).reset_index()\n",
    "users_genre.columns = ['genre', 'american_user', 'europe_user', 'japan_user']\n",
    "users_genre = users_genre.sort_values(by='american_user', ascending=False)\n",
    "users_genre.plot.bar(x=\"genre\", rot=0, figsize =(15, 8))\n",
    "plt.xlabel('Жанры', fontsize=10)\n",
    "plt.ylabel('Продажи',fontsize=12)\n",
    "plt.show()"
   ]
  },
  {
   "cell_type": "markdown",
   "metadata": {},
   "source": [
    "**Вывод:**\n",
    "\n",
    "У Американских пользователей самыми популярными жанрами являются Shooter и Action, жанры Sports и Role-Playing достаточно близки по продажам, самыми не популярными жанрами в Америке являются Strategy и Puzzle.\n",
    "\n",
    "У Европейских пользователей самыми популярными жанрами также являются Shooter и Action, жанры Sports и Role-Playing достаточно близки по продажам, самыми не популярными жанрами в Европе также являются Strategy и Puzzle.\n",
    "\n",
    "У Японских пользователей самыми популярными жанрами с подавляющим преимуществом являются Role-Playing и Action, затем следуют несолько жанров Fighting, Misc, Shooter, самыми не популярными жанрами в Японии являются Strategy и Puzzle."
   ]
  },
  {
   "cell_type": "code",
   "execution_count": 62,
   "metadata": {},
   "outputs": [
    {
     "data": {
      "image/png": "[encoded data removed]",
      "text/plain": [
       "<Figure size 1080x576 with 1 Axes>"
      ]
     },
     "metadata": {
      "needs_background": "light"
     },
     "output_type": "display_data"
    }
   ],
   "source": [
    "# влияние рейтинга ESRB на продажи в отдельных регионах\n",
    "# сумма проданных копий для Северной Америки по рейтингу\n",
    "na_rating = new_games.groupby(['rating'])['na_sales'].agg(['sum'])\n",
    "# сумма проданных копий для Европы по рейтингу\n",
    "eu_rating = new_games.groupby(['rating'])['eu_sales'].agg(['sum'])\n",
    "# сумма проданных копий для Японии по рейтингу\n",
    "jp_rating = new_games.groupby(['rating'])['jp_sales'].agg(['sum'])\n",
    "# объединяем\n",
    "users_rating = pd.concat([na_rating, eu_rating, jp_rating], axis=1).reset_index()\n",
    "users_rating.columns = ['rating', 'american_user', 'europe_user', 'japan_user']\n",
    "users_rating = users_rating.sort_values(by='american_user', ascending=False)\n",
    "users_rating.plot.bar(x=\"rating\", rot=0, figsize =(15, 8))\n",
    "plt.xlabel('Рейтинг', fontsize=10)\n",
    "plt.ylabel('Продажи',fontsize=12)\n",
    "plt.show()"
   ]
  },
  {
   "cell_type": "markdown",
   "metadata": {},
   "source": [
    "**Вывод:**\n",
    "\n",
    "У Американских пользователей и Европейских пользователей самые популярные игры с рейтингом М, следом идут игры с неопределенным рейтингом Unknown, далее соответственно с рейтингом Е, Т и Е10+. Можно сказать, что в Америке и Европе пользователи отдают предпочтение одинаковым играм с одним и тем же рейтингом.\n",
    "У Японских пользователей кардинально иная картина влияния рейтингов игр на продажи. Самыми популярными являются игры с рейтингом Unknown, т.к. в Японии рейтинг выставляет организация **Computer Entertainment Rating Organization**, видимо из за этого в исходном датасете были пропуски. "
   ]
  },
  {
   "cell_type": "markdown",
   "metadata": {},
   "source": [
    "**Общий вывод:**\n",
    "\n",
    "В данном пункте проведены исследования для определения портрета пользователя каждого региона. Можно отметить, что предпочтения пользователей Америки и Европы во многом схожи, самыми популярными платформами являются PS4 и XOne, любимые жанры - Shooter и Action, игры с рейтингом М и Unknown. В связи с многочисленностью пользователей в данных регионах бизнесу повышенное внимание в первую очередь стоит обратить на указанные платформы и жанры игр."
   ]
  },
  {
   "cell_type": "markdown",
   "metadata": {},
   "source": [
    "### Шаг 5. Проверьте гипотезы\n",
    "- Средние пользовательские рейтинги платформ Xbox One и PC одинаковые;\n",
    "- Средние пользовательские рейтинги жанров Action (англ. «действие», экшен-игры) и Sports (англ. «спортивные соревнования») разные.\n",
    "\n",
    "Задайте самостоятельно пороговое значение alpha.\n",
    "\n",
    "Поясните:\n",
    "- Как вы сформулировали нулевую и альтернативную гипотезы;\n",
    "- Какой критерий применили для проверки гипотез и почему."
   ]
  },
  {
   "cell_type": "markdown",
   "metadata": {},
   "source": [
    "**Средние пользовательские рейтинги платформ Xbox One и PC одинаковые**\n",
    "\n",
    "Нулевая гипотеза: Средние пользовательские рейтинги платформ Xbox One и PC одинаковые.\n",
    "\n",
    "Альтернативная гипотеза: Средние пользовательские рейтинги платформ Xbox One и PC различаются."
   ]
  },
  {
   "cell_type": "code",
   "execution_count": 63,
   "metadata": {},
   "outputs": [
    {
     "name": "stdout",
     "output_type": "stream",
     "text": [
      "p-значение: 0.06835889483343399\n",
      "Не получилось отвергнуть нулевую гипотезу\n"
     ]
    }
   ],
   "source": [
    "# делаем аналогично предыдущему проекту\n",
    "# уберем отрицательные значения\n",
    "new_games[new_games['user_score'] != -100]\n",
    "results = st.ttest_ind(new_games.query('platform == \"XOne\"')['user_score'], new_games.query('platform == \"PC\"')['user_score'])\n",
    "\n",
    "alpha = .02\n",
    "print('p-значение:', results.pvalue)\n",
    "\n",
    "if results.pvalue < alpha:\n",
    "    print(\"Отвергаем нулевую гипотезу\")\n",
    "else:\n",
    "    print(\"Не получилось отвергнуть нулевую гипотезу\")"
   ]
  },
  {
   "cell_type": "markdown",
   "metadata": {},
   "source": [
    "**Вывод:**\n",
    "\n",
    "Нету оснований утверждать, что средние пользовательские рейтинги платформ Xbox One и PC значимо различаются. Принимаем нулевую гипотезу, p-значение больше значения alpha, что дает основание принять предположение об отсутствии различий между средними пользовательскими рейтингами платформ Xbox One и PC"
   ]
  },
  {
   "cell_type": "markdown",
   "metadata": {},
   "source": [
    "**Средние пользовательские рейтинги жанров Action и Sports разные**\n",
    "\n",
    "Нулевая гипотеза: Средние пользовательские рейтинги жанров Action и Sports одинаковые.\n",
    "\n",
    "Альтернативная гипотеза: Средние пользовательские рейтинги жанров Action и Sports различаются."
   ]
  },
  {
   "cell_type": "code",
   "execution_count": 64,
   "metadata": {},
   "outputs": [
    {
     "name": "stdout",
     "output_type": "stream",
     "text": [
      "p-значение: 6.21006597336919e-12\n",
      "Отвергаем нулевую гипотезу\n"
     ]
    }
   ],
   "source": [
    "new_games[new_games['user_score'] != -100]\n",
    "results = st.ttest_ind(new_games.query('genre == \"Action\"')['user_score'], new_games.query('genre == \"Sports\"')['user_score'])\n",
    "\n",
    "alpha = .02\n",
    "\n",
    "print('p-значение:', results.pvalue)\n",
    "\n",
    "if results.pvalue < alpha:\n",
    "    print(\"Отвергаем нулевую гипотезу\")\n",
    "else:\n",
    "    print(\"Не получилось отвергнуть нулевую гипотезу\")"
   ]
  },
  {
   "cell_type": "markdown",
   "metadata": {},
   "source": [
    "**Вывод:**\n",
    "\n",
    "Принимаем альтернативную гипотезу, p-значение достаточно мало, что дает основание отвергнуть предположение об отсутствии различий между cредними пользовательскими рейтингами жанров Action и Sports."
   ]
  },
  {
   "cell_type": "markdown",
   "metadata": {},
   "source": [
    "### Шаг 6. Напишите общий вывод\n",
    "Оформление: \n",
    "Выполните задание в Jupyter Notebook. Заполните программный код в ячейках типа code, текстовые пояснения — в ячейках типа markdown. Примените форматирование и заголовки."
   ]
  },
  {
   "cell_type": "markdown",
   "metadata": {},
   "source": [
    "**Общий вывод**\n",
    "\n",
    "Проведен обзор данных и выполнена предобработка данных, выявлены недостатки в данных, были обработаны пропуски, в некоторых случаях строки были удалены за ненадобностью, в некоторых пропуски были заменены на отриц значение (-100), также были расчитаны суммарные продажи по регионам и записаны в отдельный столбец 'total_sales'.\n",
    "\n",
    "Проведен исследовательский анализ данных:\n",
    "- Построен график количества игр выпускавшихся в разные годы.\n",
    "- Построен график как менялись продажи по платформам. Указаны платформы с наибольшими продажами и распределение по годам.\n",
    "- По итогам анализа данных, выбран соответствующий актуальный период.\n",
    "- Построен график зависимости продаж от типа платформ за актуальный период.\n",
    "- Построен график «ящик с усами» по продажам игр в разбивке по платформам.\n",
    "- Проведен анализ влияния на продажи отзывов пользователей и критиков. Построена диаграмма рассеяния и расчитан коэффициент корреляции между отзывами и продажами\n",
    "\n",
    "Начиная с 2000 года начался рост количества игр, с 2002 по 2004 небольшой \"застой\", а затем резкий скачок до 2008-2009г, где наблюдался пик количества игр, затем наступил спад вплоть до 2016г.\n",
    "Платформы с наибольшими суммарными продажами, PS2, X360, PS3, Wii, DS, PS. Данные 6 платформ выделяются от всех остальных наибольшими суммарными продажами.\n",
    "В целях формирования прогноза на 2017 года имеет смысл проводить анализ по последние 2-3 года c сохранением данных за 2016г. Выбран соответствующий актуальный период 2014-2016гг.\n",
    "По результатам анализа количества продаж за актуальный период, при дальнейшей обработке и анализе имеет смысл не учитывать платформы с минимальными продажами. Минимальные продажи у платформ PS3, X360, Wii, PSP.\n",
    "Из анализа графика «ящик с усами» следует, что большей популярностью пользуются платформы PS4, WiiU и XOne. У платформ PS4, WiiU и XOne одинаковы медианные значения продаж (0.185, 0.190, 0.205 соответственно), также приблизительно равны среднее арифметическое значение продаж (0.766356, 0.588767, 0.615614 соответственно).\n",
    "Из построенных диаграмм рассеяния и расчета коэффициента корреляции по каждой платформе между отзывами и продажами видно, что оценки критиков для всех платформ практически не влияют или имеют очень слабое влияние на продажи. Оценки пользователей также имеют очень слабое влияние на продажи и не влияют совсем.\n",
    "Составлен портрет пользователя каждого региона\n",
    "Определены для пользователя каждого региона (NA, EU, JP) самые популярные платформы, жанры, а также влияние рейтинга ESRB на продажи в регионах.\n",
    "Вывод: Предпочтения пользователей Америки и Европы во многом схожи, самыми популярными платформами являются PS4 и XOne, любимые жанры - Shooter и Action, игры с рейтингом М и Unknown. В связи с многочисленностью пользователей в данных регионах бизнесу повышенное внимание в первую очередь стоит обратить на указанные платформы и жанры игр. Предпочтения пользователей из Японии существенно отличаются, самой популярной платформой являются 3DS, любимые жанры - Role-Playing и Action и игры с рейтингом Unknown.\n",
    "\n",
    "Проведена проверка двух гипотез:\n",
    "- Средние пользовательские рейтинги платформ Xbox One и PC одинаковые;\n",
    "-Средние пользовательские рейтинги жанров Action и Sports разные.\n",
    "\n",
    "Результаты проверки гипотез:\n",
    "- Первая гипотеза: Принимаем нулевую гипотезу.\n",
    "- Вторая гипотеза: Принимаем альтернативную гипотезу."
   ]
  }
 ],
 "metadata": {
  "ExecuteTimeLog": [
   {
    "duration": 454,
    "start_time": "2022-11-14T13:21:18.519Z"
   },
   {
    "duration": 3,
    "start_time": "2022-11-14T13:21:46.582Z"
   },
   {
    "duration": 97,
    "start_time": "2022-11-14T13:22:18.837Z"
   },
   {
    "duration": 50,
    "start_time": "2022-11-14T13:22:35.977Z"
   },
   {
    "duration": 48,
    "start_time": "2022-11-14T13:23:27.135Z"
   },
   {
    "duration": 46,
    "start_time": "2022-11-14T13:23:35.186Z"
   },
   {
    "duration": 45,
    "start_time": "2022-11-14T13:23:52.083Z"
   },
   {
    "duration": 64,
    "start_time": "2022-11-14T13:26:30.697Z"
   },
   {
    "duration": 99,
    "start_time": "2022-11-14T13:27:46.961Z"
   },
   {
    "duration": 28,
    "start_time": "2022-11-14T13:27:53.367Z"
   },
   {
    "duration": 22,
    "start_time": "2022-11-14T13:37:05.245Z"
   },
   {
    "duration": 21,
    "start_time": "2022-11-14T13:37:11.628Z"
   },
   {
    "duration": 19,
    "start_time": "2022-11-14T15:11:24.129Z"
   },
   {
    "duration": 28,
    "start_time": "2022-11-14T15:11:39.517Z"
   },
   {
    "duration": 943,
    "start_time": "2022-11-14T15:23:10.533Z"
   },
   {
    "duration": 52,
    "start_time": "2022-11-14T15:23:12.439Z"
   },
   {
    "duration": 34,
    "start_time": "2022-11-14T15:23:13.270Z"
   },
   {
    "duration": 53,
    "start_time": "2022-11-14T15:31:00.256Z"
   },
   {
    "duration": 2,
    "start_time": "2022-11-14T15:33:47.888Z"
   },
   {
    "duration": 51,
    "start_time": "2022-11-14T15:33:57.933Z"
   },
   {
    "duration": 57,
    "start_time": "2022-11-14T15:34:03.802Z"
   },
   {
    "duration": 47,
    "start_time": "2022-11-14T15:49:40.349Z"
   },
   {
    "duration": 50,
    "start_time": "2022-11-14T15:49:43.672Z"
   },
   {
    "duration": 52,
    "start_time": "2022-11-14T15:49:45.033Z"
   },
   {
    "duration": 3,
    "start_time": "2022-11-14T15:49:47.059Z"
   },
   {
    "duration": 21,
    "start_time": "2022-11-14T15:49:54.914Z"
   },
   {
    "duration": 52,
    "start_time": "2022-11-14T15:51:01.511Z"
   },
   {
    "duration": 17,
    "start_time": "2022-11-14T15:52:45.619Z"
   },
   {
    "duration": 17,
    "start_time": "2022-11-14T15:52:55.010Z"
   },
   {
    "duration": 15,
    "start_time": "2022-11-14T15:54:18.857Z"
   },
   {
    "duration": 17,
    "start_time": "2022-11-14T15:55:45.016Z"
   },
   {
    "duration": 9,
    "start_time": "2022-11-14T15:56:11.327Z"
   },
   {
    "duration": 14,
    "start_time": "2022-11-14T15:56:13.136Z"
   },
   {
    "duration": 23,
    "start_time": "2022-11-14T15:57:05.451Z"
   },
   {
    "duration": 7,
    "start_time": "2022-11-14T16:00:46.002Z"
   },
   {
    "duration": 12,
    "start_time": "2022-11-14T16:00:56.406Z"
   },
   {
    "duration": 16,
    "start_time": "2022-11-14T16:01:31.235Z"
   },
   {
    "duration": 23,
    "start_time": "2022-11-14T16:02:02.295Z"
   },
   {
    "duration": 2,
    "start_time": "2022-11-14T16:06:59.529Z"
   },
   {
    "duration": 10,
    "start_time": "2022-11-14T16:07:15.592Z"
   },
   {
    "duration": 1487,
    "start_time": "2022-11-15T13:55:14.315Z"
   },
   {
    "duration": 106,
    "start_time": "2022-11-15T13:55:15.805Z"
   },
   {
    "duration": 60,
    "start_time": "2022-11-15T13:55:15.913Z"
   },
   {
    "duration": 23,
    "start_time": "2022-11-15T13:55:15.975Z"
   },
   {
    "duration": 27,
    "start_time": "2022-11-15T13:55:16.001Z"
   },
   {
    "duration": 22,
    "start_time": "2022-11-15T13:55:16.030Z"
   },
   {
    "duration": 18,
    "start_time": "2022-11-15T13:55:16.054Z"
   },
   {
    "duration": 22,
    "start_time": "2022-11-15T13:55:16.074Z"
   },
   {
    "duration": 14,
    "start_time": "2022-11-15T13:55:16.098Z"
   },
   {
    "duration": 55,
    "start_time": "2022-11-15T13:55:16.114Z"
   },
   {
    "duration": 2,
    "start_time": "2022-11-15T13:55:16.171Z"
   },
   {
    "duration": 22,
    "start_time": "2022-11-15T13:55:16.175Z"
   },
   {
    "duration": 10,
    "start_time": "2022-11-15T14:59:27.922Z"
   },
   {
    "duration": 19,
    "start_time": "2022-11-15T14:59:52.594Z"
   },
   {
    "duration": 23,
    "start_time": "2022-11-15T14:59:57.562Z"
   },
   {
    "duration": 8,
    "start_time": "2022-11-15T16:02:39.252Z"
   },
   {
    "duration": 8,
    "start_time": "2022-11-15T16:03:09.062Z"
   },
   {
    "duration": 13,
    "start_time": "2022-11-15T16:04:17.234Z"
   },
   {
    "duration": 11,
    "start_time": "2022-11-15T16:05:02.294Z"
   },
   {
    "duration": 13,
    "start_time": "2022-11-15T16:05:25.591Z"
   },
   {
    "duration": 15,
    "start_time": "2022-11-15T16:05:32.260Z"
   },
   {
    "duration": 1298,
    "start_time": "2022-11-15T16:05:39.849Z"
   },
   {
    "duration": 62,
    "start_time": "2022-11-15T16:05:41.149Z"
   },
   {
    "duration": 76,
    "start_time": "2022-11-15T16:05:41.214Z"
   },
   {
    "duration": 24,
    "start_time": "2022-11-15T16:05:41.293Z"
   },
   {
    "duration": 38,
    "start_time": "2022-11-15T16:05:41.320Z"
   },
   {
    "duration": 16,
    "start_time": "2022-11-15T16:05:41.360Z"
   },
   {
    "duration": 22,
    "start_time": "2022-11-15T16:05:41.379Z"
   },
   {
    "duration": 24,
    "start_time": "2022-11-15T16:05:41.402Z"
   },
   {
    "duration": 35,
    "start_time": "2022-11-15T16:05:41.427Z"
   },
   {
    "duration": 26,
    "start_time": "2022-11-15T16:05:41.464Z"
   },
   {
    "duration": 3,
    "start_time": "2022-11-15T16:05:41.491Z"
   },
   {
    "duration": 22,
    "start_time": "2022-11-15T16:05:41.496Z"
   },
   {
    "duration": 37,
    "start_time": "2022-11-15T16:05:41.520Z"
   },
   {
    "duration": 11,
    "start_time": "2022-11-15T16:05:41.560Z"
   },
   {
    "duration": 25,
    "start_time": "2022-11-15T16:05:41.573Z"
   },
   {
    "duration": 10,
    "start_time": "2022-11-15T16:05:41.600Z"
   },
   {
    "duration": 11,
    "start_time": "2022-11-15T16:06:11.159Z"
   },
   {
    "duration": 1259,
    "start_time": "2022-11-15T16:06:16.545Z"
   },
   {
    "duration": 55,
    "start_time": "2022-11-15T16:06:17.807Z"
   },
   {
    "duration": 61,
    "start_time": "2022-11-15T16:06:17.864Z"
   },
   {
    "duration": 35,
    "start_time": "2022-11-15T16:06:17.927Z"
   },
   {
    "duration": 19,
    "start_time": "2022-11-15T16:06:17.965Z"
   },
   {
    "duration": 16,
    "start_time": "2022-11-15T16:06:17.985Z"
   },
   {
    "duration": 49,
    "start_time": "2022-11-15T16:06:18.003Z"
   },
   {
    "duration": 23,
    "start_time": "2022-11-15T16:06:18.054Z"
   },
   {
    "duration": 16,
    "start_time": "2022-11-15T16:06:18.079Z"
   },
   {
    "duration": 60,
    "start_time": "2022-11-15T16:06:18.096Z"
   },
   {
    "duration": 3,
    "start_time": "2022-11-15T16:06:18.158Z"
   },
   {
    "duration": 13,
    "start_time": "2022-11-15T16:06:18.163Z"
   },
   {
    "duration": 11,
    "start_time": "2022-11-15T16:06:18.179Z"
   },
   {
    "duration": 27,
    "start_time": "2022-11-15T16:06:18.194Z"
   },
   {
    "duration": 47,
    "start_time": "2022-11-15T16:06:18.224Z"
   },
   {
    "duration": 12,
    "start_time": "2022-11-15T16:06:18.273Z"
   },
   {
    "duration": 36,
    "start_time": "2022-11-15T16:06:48.927Z"
   },
   {
    "duration": 11,
    "start_time": "2022-11-15T16:07:32.643Z"
   },
   {
    "duration": 28,
    "start_time": "2022-11-15T16:08:03.860Z"
   },
   {
    "duration": 29,
    "start_time": "2022-11-15T16:08:14.009Z"
   },
   {
    "duration": 8,
    "start_time": "2022-11-15T16:08:53.043Z"
   },
   {
    "duration": 147,
    "start_time": "2022-11-15T16:11:22.192Z"
   },
   {
    "duration": 14,
    "start_time": "2022-11-15T16:11:36.862Z"
   },
   {
    "duration": 10,
    "start_time": "2022-11-15T16:11:51.884Z"
   },
   {
    "duration": 11,
    "start_time": "2022-11-15T16:12:30.659Z"
   },
   {
    "duration": 4,
    "start_time": "2022-11-15T16:13:30.980Z"
   },
   {
    "duration": 22,
    "start_time": "2022-11-15T16:14:02.829Z"
   },
   {
    "duration": 11,
    "start_time": "2022-11-15T16:15:27.260Z"
   },
   {
    "duration": 6,
    "start_time": "2022-11-15T16:15:34.016Z"
   },
   {
    "duration": 26,
    "start_time": "2022-11-15T16:15:42.282Z"
   },
   {
    "duration": 6,
    "start_time": "2022-11-15T16:16:15.162Z"
   },
   {
    "duration": 26,
    "start_time": "2022-11-15T16:16:16.474Z"
   },
   {
    "duration": 44,
    "start_time": "2022-11-16T10:55:09.400Z"
   },
   {
    "duration": 1315,
    "start_time": "2022-11-16T10:55:15.027Z"
   },
   {
    "duration": 120,
    "start_time": "2022-11-16T10:55:16.345Z"
   },
   {
    "duration": 78,
    "start_time": "2022-11-16T10:55:16.467Z"
   },
   {
    "duration": 20,
    "start_time": "2022-11-16T10:55:16.548Z"
   },
   {
    "duration": 26,
    "start_time": "2022-11-16T10:55:16.570Z"
   },
   {
    "duration": 24,
    "start_time": "2022-11-16T10:55:16.598Z"
   },
   {
    "duration": 30,
    "start_time": "2022-11-16T10:55:16.624Z"
   },
   {
    "duration": 20,
    "start_time": "2022-11-16T10:55:16.656Z"
   },
   {
    "duration": 35,
    "start_time": "2022-11-16T10:55:16.677Z"
   },
   {
    "duration": 23,
    "start_time": "2022-11-16T10:55:16.714Z"
   },
   {
    "duration": 5,
    "start_time": "2022-11-16T10:55:16.738Z"
   },
   {
    "duration": 14,
    "start_time": "2022-11-16T10:55:16.745Z"
   },
   {
    "duration": 19,
    "start_time": "2022-11-16T10:55:16.761Z"
   },
   {
    "duration": 32,
    "start_time": "2022-11-16T10:55:16.782Z"
   },
   {
    "duration": 29,
    "start_time": "2022-11-16T10:55:16.816Z"
   },
   {
    "duration": 10,
    "start_time": "2022-11-16T10:55:16.846Z"
   },
   {
    "duration": 35,
    "start_time": "2022-11-16T10:55:16.857Z"
   },
   {
    "duration": 27,
    "start_time": "2022-11-16T10:55:16.898Z"
   },
   {
    "duration": 6,
    "start_time": "2022-11-16T10:55:16.927Z"
   },
   {
    "duration": 21,
    "start_time": "2022-11-16T10:55:16.935Z"
   },
   {
    "duration": 4,
    "start_time": "2022-11-16T10:55:16.958Z"
   },
   {
    "duration": 16,
    "start_time": "2022-11-16T10:55:16.964Z"
   },
   {
    "duration": 45,
    "start_time": "2022-11-16T10:55:16.981Z"
   },
   {
    "duration": 15,
    "start_time": "2022-11-16T10:55:17.028Z"
   },
   {
    "duration": 16,
    "start_time": "2022-11-16T10:55:29.118Z"
   },
   {
    "duration": 268,
    "start_time": "2022-11-16T11:36:08.312Z"
   },
   {
    "duration": 6,
    "start_time": "2022-11-16T11:39:17.837Z"
   },
   {
    "duration": 260,
    "start_time": "2022-11-16T12:00:21.371Z"
   },
   {
    "duration": 210,
    "start_time": "2022-11-16T12:05:03.000Z"
   },
   {
    "duration": 397,
    "start_time": "2022-11-16T12:05:34.167Z"
   },
   {
    "duration": 181,
    "start_time": "2022-11-16T12:05:50.193Z"
   },
   {
    "duration": 193,
    "start_time": "2022-11-16T12:06:00.272Z"
   },
   {
    "duration": 250,
    "start_time": "2022-11-16T12:06:46.790Z"
   },
   {
    "duration": 185,
    "start_time": "2022-11-16T12:06:58.740Z"
   },
   {
    "duration": 170,
    "start_time": "2022-11-16T12:07:18.799Z"
   },
   {
    "duration": 211,
    "start_time": "2022-11-16T12:07:45.641Z"
   },
   {
    "duration": 5,
    "start_time": "2022-11-16T12:16:38.104Z"
   },
   {
    "duration": 23,
    "start_time": "2022-11-16T12:16:40.658Z"
   },
   {
    "duration": 6,
    "start_time": "2022-11-16T12:16:53.687Z"
   },
   {
    "duration": 1099,
    "start_time": "2022-11-16T12:16:58.175Z"
   },
   {
    "duration": 47,
    "start_time": "2022-11-16T12:16:59.275Z"
   },
   {
    "duration": 52,
    "start_time": "2022-11-16T12:16:59.324Z"
   },
   {
    "duration": 22,
    "start_time": "2022-11-16T12:16:59.378Z"
   },
   {
    "duration": 17,
    "start_time": "2022-11-16T12:16:59.402Z"
   },
   {
    "duration": 12,
    "start_time": "2022-11-16T12:16:59.420Z"
   },
   {
    "duration": 18,
    "start_time": "2022-11-16T12:16:59.434Z"
   },
   {
    "duration": 38,
    "start_time": "2022-11-16T12:16:59.453Z"
   },
   {
    "duration": 11,
    "start_time": "2022-11-16T12:16:59.493Z"
   },
   {
    "duration": 20,
    "start_time": "2022-11-16T12:16:59.506Z"
   },
   {
    "duration": 3,
    "start_time": "2022-11-16T12:16:59.527Z"
   },
   {
    "duration": 9,
    "start_time": "2022-11-16T12:16:59.531Z"
   },
   {
    "duration": 10,
    "start_time": "2022-11-16T12:16:59.542Z"
   },
   {
    "duration": 30,
    "start_time": "2022-11-16T12:16:59.553Z"
   },
   {
    "duration": 21,
    "start_time": "2022-11-16T12:16:59.584Z"
   },
   {
    "duration": 8,
    "start_time": "2022-11-16T12:16:59.607Z"
   },
   {
    "duration": 21,
    "start_time": "2022-11-16T12:16:59.617Z"
   },
   {
    "duration": 52,
    "start_time": "2022-11-16T12:16:59.640Z"
   },
   {
    "duration": 5,
    "start_time": "2022-11-16T12:16:59.693Z"
   },
   {
    "duration": 15,
    "start_time": "2022-11-16T12:16:59.700Z"
   },
   {
    "duration": 4,
    "start_time": "2022-11-16T12:16:59.716Z"
   },
   {
    "duration": 12,
    "start_time": "2022-11-16T12:16:59.721Z"
   },
   {
    "duration": 21,
    "start_time": "2022-11-16T12:16:59.735Z"
   },
   {
    "duration": 28,
    "start_time": "2022-11-16T12:16:59.758Z"
   },
   {
    "duration": 227,
    "start_time": "2022-11-16T12:16:59.788Z"
   },
   {
    "duration": 279,
    "start_time": "2022-11-16T12:17:00.016Z"
   },
   {
    "duration": 196,
    "start_time": "2022-11-16T12:17:00.297Z"
   },
   {
    "duration": 228,
    "start_time": "2022-11-16T12:17:00.498Z"
   },
   {
    "duration": 181,
    "start_time": "2022-11-16T12:17:00.727Z"
   },
   {
    "duration": 203,
    "start_time": "2022-11-16T12:17:00.910Z"
   },
   {
    "duration": 198,
    "start_time": "2022-11-16T12:17:01.115Z"
   },
   {
    "duration": 257,
    "start_time": "2022-11-16T12:17:01.314Z"
   },
   {
    "duration": 5,
    "start_time": "2022-11-16T12:17:01.573Z"
   },
   {
    "duration": 45,
    "start_time": "2022-11-16T12:17:01.579Z"
   },
   {
    "duration": 7,
    "start_time": "2022-11-16T12:22:24.173Z"
   },
   {
    "duration": 6,
    "start_time": "2022-11-16T13:42:02.210Z"
   },
   {
    "duration": 1081,
    "start_time": "2022-11-16T13:42:06.594Z"
   },
   {
    "duration": 61,
    "start_time": "2022-11-16T13:42:07.678Z"
   },
   {
    "duration": 56,
    "start_time": "2022-11-16T13:42:07.741Z"
   },
   {
    "duration": 26,
    "start_time": "2022-11-16T13:42:07.799Z"
   },
   {
    "duration": 30,
    "start_time": "2022-11-16T13:42:07.827Z"
   },
   {
    "duration": 20,
    "start_time": "2022-11-16T13:42:07.859Z"
   },
   {
    "duration": 17,
    "start_time": "2022-11-16T13:42:07.882Z"
   },
   {
    "duration": 28,
    "start_time": "2022-11-16T13:42:07.901Z"
   },
   {
    "duration": 12,
    "start_time": "2022-11-16T13:42:07.931Z"
   },
   {
    "duration": 48,
    "start_time": "2022-11-16T13:42:07.945Z"
   },
   {
    "duration": 3,
    "start_time": "2022-11-16T13:42:07.994Z"
   },
   {
    "duration": 13,
    "start_time": "2022-11-16T13:42:07.999Z"
   },
   {
    "duration": 12,
    "start_time": "2022-11-16T13:42:08.014Z"
   },
   {
    "duration": 6,
    "start_time": "2022-11-16T13:42:08.032Z"
   },
   {
    "duration": 60,
    "start_time": "2022-11-16T13:42:08.040Z"
   },
   {
    "duration": 17,
    "start_time": "2022-11-16T13:42:08.104Z"
   },
   {
    "duration": 24,
    "start_time": "2022-11-16T13:42:08.123Z"
   },
   {
    "duration": 55,
    "start_time": "2022-11-16T13:42:08.149Z"
   },
   {
    "duration": 8,
    "start_time": "2022-11-16T13:42:08.206Z"
   },
   {
    "duration": 16,
    "start_time": "2022-11-16T13:42:08.216Z"
   },
   {
    "duration": 4,
    "start_time": "2022-11-16T13:42:08.234Z"
   },
   {
    "duration": 5,
    "start_time": "2022-11-16T13:42:08.240Z"
   },
   {
    "duration": 48,
    "start_time": "2022-11-16T13:42:08.247Z"
   },
   {
    "duration": 14,
    "start_time": "2022-11-16T13:42:08.296Z"
   },
   {
    "duration": 222,
    "start_time": "2022-11-16T13:42:08.311Z"
   },
   {
    "duration": 265,
    "start_time": "2022-11-16T13:42:08.534Z"
   },
   {
    "duration": 209,
    "start_time": "2022-11-16T13:42:08.801Z"
   },
   {
    "duration": 196,
    "start_time": "2022-11-16T13:42:09.012Z"
   },
   {
    "duration": 175,
    "start_time": "2022-11-16T13:42:09.209Z"
   },
   {
    "duration": 182,
    "start_time": "2022-11-16T13:42:09.385Z"
   },
   {
    "duration": 175,
    "start_time": "2022-11-16T13:42:09.568Z"
   },
   {
    "duration": 277,
    "start_time": "2022-11-16T13:42:09.745Z"
   },
   {
    "duration": 8,
    "start_time": "2022-11-16T13:42:10.024Z"
   },
   {
    "duration": 94,
    "start_time": "2022-11-16T14:11:39.711Z"
   },
   {
    "duration": 154,
    "start_time": "2022-11-16T14:12:13.009Z"
   },
   {
    "duration": 192,
    "start_time": "2022-11-16T14:12:23.853Z"
   },
   {
    "duration": 10,
    "start_time": "2022-11-16T14:14:29.942Z"
   },
   {
    "duration": 126,
    "start_time": "2022-11-16T14:14:37.416Z"
   },
   {
    "duration": 9,
    "start_time": "2022-11-16T14:15:58.282Z"
   },
   {
    "duration": 153,
    "start_time": "2022-11-16T14:16:04.197Z"
   },
   {
    "duration": 67,
    "start_time": "2022-11-16T14:16:35.883Z"
   },
   {
    "duration": 1142,
    "start_time": "2022-11-16T14:21:33.540Z"
   },
   {
    "duration": 48,
    "start_time": "2022-11-16T14:21:34.684Z"
   },
   {
    "duration": 56,
    "start_time": "2022-11-16T14:21:34.734Z"
   },
   {
    "duration": 25,
    "start_time": "2022-11-16T14:21:34.793Z"
   },
   {
    "duration": 17,
    "start_time": "2022-11-16T14:21:34.820Z"
   },
   {
    "duration": 13,
    "start_time": "2022-11-16T14:21:34.839Z"
   },
   {
    "duration": 15,
    "start_time": "2022-11-16T14:21:34.877Z"
   },
   {
    "duration": 24,
    "start_time": "2022-11-16T14:21:34.894Z"
   },
   {
    "duration": 12,
    "start_time": "2022-11-16T14:21:34.920Z"
   },
   {
    "duration": 52,
    "start_time": "2022-11-16T14:21:34.935Z"
   },
   {
    "duration": 3,
    "start_time": "2022-11-16T14:21:34.989Z"
   },
   {
    "duration": 14,
    "start_time": "2022-11-16T14:21:34.993Z"
   },
   {
    "duration": 13,
    "start_time": "2022-11-16T14:21:35.008Z"
   },
   {
    "duration": 9,
    "start_time": "2022-11-16T14:21:35.023Z"
   },
   {
    "duration": 22,
    "start_time": "2022-11-16T14:21:35.034Z"
   },
   {
    "duration": 27,
    "start_time": "2022-11-16T14:21:35.058Z"
   },
   {
    "duration": 27,
    "start_time": "2022-11-16T14:21:35.087Z"
   },
   {
    "duration": 28,
    "start_time": "2022-11-16T14:21:35.116Z"
   },
   {
    "duration": 5,
    "start_time": "2022-11-16T14:21:35.146Z"
   },
   {
    "duration": 39,
    "start_time": "2022-11-16T14:21:35.152Z"
   },
   {
    "duration": 12,
    "start_time": "2022-11-16T14:21:35.193Z"
   },
   {
    "duration": 37,
    "start_time": "2022-11-16T14:21:35.207Z"
   },
   {
    "duration": 26,
    "start_time": "2022-11-16T14:21:35.246Z"
   },
   {
    "duration": 24,
    "start_time": "2022-11-16T14:21:35.274Z"
   },
   {
    "duration": 235,
    "start_time": "2022-11-16T14:21:35.299Z"
   },
   {
    "duration": 300,
    "start_time": "2022-11-16T14:21:35.536Z"
   },
   {
    "duration": 201,
    "start_time": "2022-11-16T14:21:35.838Z"
   },
   {
    "duration": 198,
    "start_time": "2022-11-16T14:21:36.042Z"
   },
   {
    "duration": 193,
    "start_time": "2022-11-16T14:21:36.242Z"
   },
   {
    "duration": 215,
    "start_time": "2022-11-16T14:21:36.436Z"
   },
   {
    "duration": 201,
    "start_time": "2022-11-16T14:21:36.653Z"
   },
   {
    "duration": 266,
    "start_time": "2022-11-16T14:21:36.856Z"
   },
   {
    "duration": 6,
    "start_time": "2022-11-16T14:21:37.125Z"
   },
   {
    "duration": 196,
    "start_time": "2022-11-16T14:21:37.133Z"
   },
   {
    "duration": 150,
    "start_time": "2022-11-16T14:21:37.331Z"
   },
   {
    "duration": 142,
    "start_time": "2022-11-16T14:21:37.482Z"
   },
   {
    "duration": 129,
    "start_time": "2022-11-16T14:21:37.626Z"
   },
   {
    "duration": 129,
    "start_time": "2022-11-16T14:21:37.756Z"
   },
   {
    "duration": 145,
    "start_time": "2022-11-16T14:21:37.887Z"
   },
   {
    "duration": 127,
    "start_time": "2022-11-16T14:21:38.034Z"
   },
   {
    "duration": 142,
    "start_time": "2022-11-16T14:21:38.163Z"
   },
   {
    "duration": 131,
    "start_time": "2022-11-16T14:21:38.307Z"
   },
   {
    "duration": 141,
    "start_time": "2022-11-16T14:21:38.439Z"
   },
   {
    "duration": 132,
    "start_time": "2022-11-16T14:21:38.582Z"
   },
   {
    "duration": 9,
    "start_time": "2022-11-16T14:23:06.772Z"
   },
   {
    "duration": 98,
    "start_time": "2022-11-16T14:24:57.603Z"
   },
   {
    "duration": 3,
    "start_time": "2022-11-16T14:25:37.747Z"
   },
   {
    "duration": 261,
    "start_time": "2022-11-16T14:25:37.898Z"
   },
   {
    "duration": 1101,
    "start_time": "2022-11-16T14:26:47.339Z"
   },
   {
    "duration": 48,
    "start_time": "2022-11-16T14:26:48.442Z"
   },
   {
    "duration": 51,
    "start_time": "2022-11-16T14:26:48.491Z"
   },
   {
    "duration": 20,
    "start_time": "2022-11-16T14:26:48.544Z"
   },
   {
    "duration": 15,
    "start_time": "2022-11-16T14:26:48.578Z"
   },
   {
    "duration": 28,
    "start_time": "2022-11-16T14:26:48.594Z"
   },
   {
    "duration": 14,
    "start_time": "2022-11-16T14:26:48.624Z"
   },
   {
    "duration": 18,
    "start_time": "2022-11-16T14:26:48.639Z"
   },
   {
    "duration": 19,
    "start_time": "2022-11-16T14:26:48.659Z"
   },
   {
    "duration": 19,
    "start_time": "2022-11-16T14:26:48.681Z"
   },
   {
    "duration": 5,
    "start_time": "2022-11-16T14:26:48.702Z"
   },
   {
    "duration": 11,
    "start_time": "2022-11-16T14:26:48.709Z"
   },
   {
    "duration": 10,
    "start_time": "2022-11-16T14:26:48.722Z"
   },
   {
    "duration": 6,
    "start_time": "2022-11-16T14:26:48.733Z"
   },
   {
    "duration": 41,
    "start_time": "2022-11-16T14:26:48.740Z"
   },
   {
    "duration": 9,
    "start_time": "2022-11-16T14:26:48.782Z"
   },
   {
    "duration": 22,
    "start_time": "2022-11-16T14:26:48.793Z"
   },
   {
    "duration": 25,
    "start_time": "2022-11-16T14:26:48.816Z"
   },
   {
    "duration": 6,
    "start_time": "2022-11-16T14:26:48.842Z"
   },
   {
    "duration": 12,
    "start_time": "2022-11-16T14:26:48.877Z"
   },
   {
    "duration": 3,
    "start_time": "2022-11-16T14:26:48.891Z"
   },
   {
    "duration": 8,
    "start_time": "2022-11-16T14:26:48.895Z"
   },
   {
    "duration": 23,
    "start_time": "2022-11-16T14:26:48.904Z"
   },
   {
    "duration": 16,
    "start_time": "2022-11-16T14:26:48.929Z"
   },
   {
    "duration": 237,
    "start_time": "2022-11-16T14:26:48.947Z"
   },
   {
    "duration": 279,
    "start_time": "2022-11-16T14:26:49.186Z"
   },
   {
    "duration": 175,
    "start_time": "2022-11-16T14:26:49.466Z"
   },
   {
    "duration": 173,
    "start_time": "2022-11-16T14:26:49.644Z"
   },
   {
    "duration": 168,
    "start_time": "2022-11-16T14:26:49.819Z"
   },
   {
    "duration": 182,
    "start_time": "2022-11-16T14:26:49.989Z"
   },
   {
    "duration": 171,
    "start_time": "2022-11-16T14:26:50.172Z"
   },
   {
    "duration": 234,
    "start_time": "2022-11-16T14:26:50.345Z"
   },
   {
    "duration": 6,
    "start_time": "2022-11-16T14:26:50.580Z"
   },
   {
    "duration": 157,
    "start_time": "2022-11-16T14:26:50.588Z"
   },
   {
    "duration": 124,
    "start_time": "2022-11-16T14:26:50.746Z"
   },
   {
    "duration": 133,
    "start_time": "2022-11-16T14:26:50.877Z"
   },
   {
    "duration": 112,
    "start_time": "2022-11-16T14:26:51.012Z"
   },
   {
    "duration": 124,
    "start_time": "2022-11-16T14:26:51.126Z"
   },
   {
    "duration": 128,
    "start_time": "2022-11-16T14:26:51.252Z"
   },
   {
    "duration": 128,
    "start_time": "2022-11-16T14:26:51.382Z"
   },
   {
    "duration": 138,
    "start_time": "2022-11-16T14:26:51.512Z"
   },
   {
    "duration": 134,
    "start_time": "2022-11-16T14:26:51.651Z"
   },
   {
    "duration": 128,
    "start_time": "2022-11-16T14:26:51.787Z"
   },
   {
    "duration": 130,
    "start_time": "2022-11-16T14:26:51.917Z"
   },
   {
    "duration": 3,
    "start_time": "2022-11-16T14:26:52.048Z"
   },
   {
    "duration": 366,
    "start_time": "2022-11-16T14:26:52.052Z"
   },
   {
    "duration": 92,
    "start_time": "2022-11-16T14:27:06.234Z"
   },
   {
    "duration": 25,
    "start_time": "2022-11-16T14:27:15.775Z"
   },
   {
    "duration": 71,
    "start_time": "2022-11-16T14:30:26.454Z"
   },
   {
    "duration": 84,
    "start_time": "2022-11-16T14:30:45.367Z"
   },
   {
    "duration": 300,
    "start_time": "2022-11-16T14:31:22.926Z"
   },
   {
    "duration": 257,
    "start_time": "2022-11-16T14:32:19.214Z"
   },
   {
    "duration": 1097,
    "start_time": "2022-11-16T14:32:36.727Z"
   },
   {
    "duration": 49,
    "start_time": "2022-11-16T14:32:37.826Z"
   },
   {
    "duration": 57,
    "start_time": "2022-11-16T14:32:37.877Z"
   },
   {
    "duration": 22,
    "start_time": "2022-11-16T14:32:37.936Z"
   },
   {
    "duration": 17,
    "start_time": "2022-11-16T14:32:37.978Z"
   },
   {
    "duration": 14,
    "start_time": "2022-11-16T14:32:37.996Z"
   },
   {
    "duration": 18,
    "start_time": "2022-11-16T14:32:38.011Z"
   },
   {
    "duration": 25,
    "start_time": "2022-11-16T14:32:38.030Z"
   },
   {
    "duration": 30,
    "start_time": "2022-11-16T14:32:38.056Z"
   },
   {
    "duration": 20,
    "start_time": "2022-11-16T14:32:38.089Z"
   },
   {
    "duration": 4,
    "start_time": "2022-11-16T14:32:38.111Z"
   },
   {
    "duration": 11,
    "start_time": "2022-11-16T14:32:38.116Z"
   },
   {
    "duration": 14,
    "start_time": "2022-11-16T14:32:38.129Z"
   },
   {
    "duration": 9,
    "start_time": "2022-11-16T14:32:38.144Z"
   },
   {
    "duration": 39,
    "start_time": "2022-11-16T14:32:38.154Z"
   },
   {
    "duration": 11,
    "start_time": "2022-11-16T14:32:38.194Z"
   },
   {
    "duration": 26,
    "start_time": "2022-11-16T14:32:38.207Z"
   },
   {
    "duration": 25,
    "start_time": "2022-11-16T14:32:38.235Z"
   },
   {
    "duration": 21,
    "start_time": "2022-11-16T14:32:38.261Z"
   },
   {
    "duration": 15,
    "start_time": "2022-11-16T14:32:38.284Z"
   },
   {
    "duration": 6,
    "start_time": "2022-11-16T14:32:38.300Z"
   },
   {
    "duration": 7,
    "start_time": "2022-11-16T14:32:38.308Z"
   },
   {
    "duration": 31,
    "start_time": "2022-11-16T14:32:38.317Z"
   },
   {
    "duration": 31,
    "start_time": "2022-11-16T14:32:38.350Z"
   },
   {
    "duration": 205,
    "start_time": "2022-11-16T14:32:38.382Z"
   },
   {
    "duration": 273,
    "start_time": "2022-11-16T14:32:38.588Z"
   },
   {
    "duration": 189,
    "start_time": "2022-11-16T14:32:38.863Z"
   },
   {
    "duration": 184,
    "start_time": "2022-11-16T14:32:39.055Z"
   },
   {
    "duration": 167,
    "start_time": "2022-11-16T14:32:39.240Z"
   },
   {
    "duration": 179,
    "start_time": "2022-11-16T14:32:39.409Z"
   },
   {
    "duration": 176,
    "start_time": "2022-11-16T14:32:39.590Z"
   },
   {
    "duration": 238,
    "start_time": "2022-11-16T14:32:39.768Z"
   },
   {
    "duration": 6,
    "start_time": "2022-11-16T14:32:40.008Z"
   },
   {
    "duration": 179,
    "start_time": "2022-11-16T14:32:40.015Z"
   },
   {
    "duration": 132,
    "start_time": "2022-11-16T14:32:40.195Z"
   },
   {
    "duration": 126,
    "start_time": "2022-11-16T14:32:40.328Z"
   },
   {
    "duration": 130,
    "start_time": "2022-11-16T14:32:40.455Z"
   },
   {
    "duration": 132,
    "start_time": "2022-11-16T14:32:40.587Z"
   },
   {
    "duration": 131,
    "start_time": "2022-11-16T14:32:40.721Z"
   },
   {
    "duration": 138,
    "start_time": "2022-11-16T14:32:40.854Z"
   },
   {
    "duration": 134,
    "start_time": "2022-11-16T14:32:40.993Z"
   },
   {
    "duration": 125,
    "start_time": "2022-11-16T14:32:41.129Z"
   },
   {
    "duration": 146,
    "start_time": "2022-11-16T14:32:41.256Z"
   },
   {
    "duration": 123,
    "start_time": "2022-11-16T14:32:41.404Z"
   },
   {
    "duration": 2,
    "start_time": "2022-11-16T14:32:41.529Z"
   },
   {
    "duration": 393,
    "start_time": "2022-11-16T14:32:41.533Z"
   },
   {
    "duration": 29,
    "start_time": "2022-11-16T14:32:41.928Z"
   },
   {
    "duration": 314,
    "start_time": "2022-11-16T14:32:41.959Z"
   },
   {
    "duration": 300,
    "start_time": "2022-11-16T14:32:42.278Z"
   },
   {
    "duration": 100,
    "start_time": "2022-11-16T14:34:53.127Z"
   },
   {
    "duration": 255,
    "start_time": "2022-11-16T14:34:59.619Z"
   },
   {
    "duration": 296,
    "start_time": "2022-11-16T14:36:36.993Z"
   },
   {
    "duration": 308,
    "start_time": "2022-11-16T14:36:44.819Z"
   },
   {
    "duration": 11,
    "start_time": "2022-11-16T14:37:46.411Z"
   },
   {
    "duration": 289,
    "start_time": "2022-11-16T14:37:54.357Z"
   },
   {
    "duration": 10,
    "start_time": "2022-11-16T14:39:14.718Z"
   },
   {
    "duration": 250,
    "start_time": "2022-11-16T14:39:22.248Z"
   },
   {
    "duration": 314,
    "start_time": "2022-11-16T14:40:03.066Z"
   },
   {
    "duration": 267,
    "start_time": "2022-11-16T14:40:09.858Z"
   },
   {
    "duration": 22,
    "start_time": "2022-11-16T14:43:13.708Z"
   },
   {
    "duration": 20,
    "start_time": "2022-11-16T14:43:33.794Z"
   },
   {
    "duration": 244,
    "start_time": "2022-11-16T14:43:46.254Z"
   },
   {
    "duration": 216,
    "start_time": "2022-11-16T14:43:51.901Z"
   },
   {
    "duration": 20,
    "start_time": "2022-11-16T15:11:58.424Z"
   },
   {
    "duration": 20,
    "start_time": "2022-11-16T15:12:20.227Z"
   },
   {
    "duration": 281,
    "start_time": "2022-11-16T15:12:43.316Z"
   },
   {
    "duration": 269,
    "start_time": "2022-11-16T15:13:41.086Z"
   },
   {
    "duration": 409,
    "start_time": "2022-11-16T15:22:10.617Z"
   },
   {
    "duration": 288,
    "start_time": "2022-11-16T15:23:18.451Z"
   },
   {
    "duration": 285,
    "start_time": "2022-11-16T15:23:29.290Z"
   },
   {
    "duration": 226,
    "start_time": "2022-11-16T15:23:38.235Z"
   },
   {
    "duration": 258,
    "start_time": "2022-11-16T15:23:48.487Z"
   },
   {
    "duration": 20,
    "start_time": "2022-11-16T15:29:51.451Z"
   },
   {
    "duration": 188,
    "start_time": "2022-11-16T15:30:21.192Z"
   },
   {
    "duration": 11,
    "start_time": "2022-11-16T15:54:39.786Z"
   },
   {
    "duration": 3,
    "start_time": "2022-11-16T15:56:24.180Z"
   },
   {
    "duration": 12,
    "start_time": "2022-11-16T15:56:28.785Z"
   },
   {
    "duration": 10,
    "start_time": "2022-11-16T15:56:35.188Z"
   },
   {
    "duration": 11,
    "start_time": "2022-11-16T15:56:47.619Z"
   },
   {
    "duration": 11,
    "start_time": "2022-11-16T15:56:58.440Z"
   },
   {
    "duration": 20,
    "start_time": "2022-11-16T15:57:02.916Z"
   },
   {
    "duration": 15,
    "start_time": "2022-11-16T15:57:06.908Z"
   },
   {
    "duration": 14,
    "start_time": "2022-11-16T16:00:15.984Z"
   },
   {
    "duration": 13,
    "start_time": "2022-11-16T16:02:06.885Z"
   },
   {
    "duration": 10,
    "start_time": "2022-11-16T16:02:10.805Z"
   },
   {
    "duration": 11,
    "start_time": "2022-11-16T16:02:13.732Z"
   },
   {
    "duration": 1173,
    "start_time": "2022-11-16T16:02:19.183Z"
   },
   {
    "duration": 46,
    "start_time": "2022-11-16T16:02:20.358Z"
   },
   {
    "duration": 49,
    "start_time": "2022-11-16T16:02:20.405Z"
   },
   {
    "duration": 29,
    "start_time": "2022-11-16T16:02:20.456Z"
   },
   {
    "duration": 19,
    "start_time": "2022-11-16T16:02:20.487Z"
   },
   {
    "duration": 13,
    "start_time": "2022-11-16T16:02:20.507Z"
   },
   {
    "duration": 17,
    "start_time": "2022-11-16T16:02:20.522Z"
   },
   {
    "duration": 38,
    "start_time": "2022-11-16T16:02:20.541Z"
   },
   {
    "duration": 13,
    "start_time": "2022-11-16T16:02:20.580Z"
   },
   {
    "duration": 24,
    "start_time": "2022-11-16T16:02:20.596Z"
   },
   {
    "duration": 3,
    "start_time": "2022-11-16T16:02:20.622Z"
   },
   {
    "duration": 12,
    "start_time": "2022-11-16T16:02:20.626Z"
   },
   {
    "duration": 8,
    "start_time": "2022-11-16T16:02:20.640Z"
   },
   {
    "duration": 32,
    "start_time": "2022-11-16T16:02:20.649Z"
   },
   {
    "duration": 30,
    "start_time": "2022-11-16T16:02:20.683Z"
   },
   {
    "duration": 9,
    "start_time": "2022-11-16T16:02:20.715Z"
   },
   {
    "duration": 31,
    "start_time": "2022-11-16T16:02:20.726Z"
   },
   {
    "duration": 33,
    "start_time": "2022-11-16T16:02:20.759Z"
   },
   {
    "duration": 5,
    "start_time": "2022-11-16T16:02:20.793Z"
   },
   {
    "duration": 20,
    "start_time": "2022-11-16T16:02:20.800Z"
   },
   {
    "duration": 10,
    "start_time": "2022-11-16T16:02:20.821Z"
   },
   {
    "duration": 6,
    "start_time": "2022-11-16T16:02:20.832Z"
   },
   {
    "duration": 22,
    "start_time": "2022-11-16T16:02:20.840Z"
   },
   {
    "duration": 24,
    "start_time": "2022-11-16T16:02:20.864Z"
   },
   {
    "duration": 207,
    "start_time": "2022-11-16T16:02:20.890Z"
   },
   {
    "duration": 267,
    "start_time": "2022-11-16T16:02:21.099Z"
   },
   {
    "duration": 185,
    "start_time": "2022-11-16T16:02:21.367Z"
   },
   {
    "duration": 184,
    "start_time": "2022-11-16T16:02:21.556Z"
   },
   {
    "duration": 174,
    "start_time": "2022-11-16T16:02:21.742Z"
   },
   {
    "duration": 168,
    "start_time": "2022-11-16T16:02:21.917Z"
   },
   {
    "duration": 175,
    "start_time": "2022-11-16T16:02:22.087Z"
   },
   {
    "duration": 225,
    "start_time": "2022-11-16T16:02:22.264Z"
   },
   {
    "duration": 6,
    "start_time": "2022-11-16T16:02:22.491Z"
   },
   {
    "duration": 152,
    "start_time": "2022-11-16T16:02:22.499Z"
   },
   {
    "duration": 119,
    "start_time": "2022-11-16T16:02:22.652Z"
   },
   {
    "duration": 124,
    "start_time": "2022-11-16T16:02:22.777Z"
   },
   {
    "duration": 132,
    "start_time": "2022-11-16T16:02:22.902Z"
   },
   {
    "duration": 135,
    "start_time": "2022-11-16T16:02:23.036Z"
   },
   {
    "duration": 147,
    "start_time": "2022-11-16T16:02:23.177Z"
   },
   {
    "duration": 135,
    "start_time": "2022-11-16T16:02:23.326Z"
   },
   {
    "duration": 130,
    "start_time": "2022-11-16T16:02:23.463Z"
   },
   {
    "duration": 124,
    "start_time": "2022-11-16T16:02:23.594Z"
   },
   {
    "duration": 128,
    "start_time": "2022-11-16T16:02:23.719Z"
   },
   {
    "duration": 154,
    "start_time": "2022-11-16T16:02:23.848Z"
   },
   {
    "duration": 3,
    "start_time": "2022-11-16T16:02:24.004Z"
   },
   {
    "duration": 403,
    "start_time": "2022-11-16T16:02:24.008Z"
   },
   {
    "duration": 24,
    "start_time": "2022-11-16T16:02:24.412Z"
   },
   {
    "duration": 267,
    "start_time": "2022-11-16T16:02:24.438Z"
   },
   {
    "duration": 291,
    "start_time": "2022-11-16T16:02:24.706Z"
   },
   {
    "duration": 261,
    "start_time": "2022-11-16T16:02:24.999Z"
   },
   {
    "duration": 282,
    "start_time": "2022-11-16T16:02:25.262Z"
   },
   {
    "duration": 296,
    "start_time": "2022-11-16T16:02:25.545Z"
   },
   {
    "duration": 270,
    "start_time": "2022-11-16T16:02:25.843Z"
   },
   {
    "duration": 206,
    "start_time": "2022-11-16T16:02:26.115Z"
   },
   {
    "duration": 216,
    "start_time": "2022-11-16T16:02:26.323Z"
   },
   {
    "duration": 253,
    "start_time": "2022-11-16T16:02:26.541Z"
   },
   {
    "duration": 193,
    "start_time": "2022-11-16T16:02:26.795Z"
   },
   {
    "duration": 10,
    "start_time": "2022-11-16T16:02:26.989Z"
   },
   {
    "duration": 11,
    "start_time": "2022-11-16T16:04:46.650Z"
   },
   {
    "duration": 10,
    "start_time": "2022-11-16T16:05:00.100Z"
   },
   {
    "duration": 15,
    "start_time": "2022-11-16T16:05:04.801Z"
   },
   {
    "duration": 13,
    "start_time": "2022-11-16T16:05:08.884Z"
   },
   {
    "duration": 11,
    "start_time": "2022-11-16T16:05:46.666Z"
   },
   {
    "duration": 1049,
    "start_time": "2022-11-16T16:09:46.227Z"
   },
   {
    "duration": 48,
    "start_time": "2022-11-16T16:09:47.278Z"
   },
   {
    "duration": 58,
    "start_time": "2022-11-16T16:09:47.327Z"
   },
   {
    "duration": 22,
    "start_time": "2022-11-16T16:09:47.387Z"
   },
   {
    "duration": 16,
    "start_time": "2022-11-16T16:09:47.411Z"
   },
   {
    "duration": 14,
    "start_time": "2022-11-16T16:09:47.428Z"
   },
   {
    "duration": 38,
    "start_time": "2022-11-16T16:09:47.444Z"
   },
   {
    "duration": 23,
    "start_time": "2022-11-16T16:09:47.484Z"
   },
   {
    "duration": 16,
    "start_time": "2022-11-16T16:09:47.509Z"
   },
   {
    "duration": 22,
    "start_time": "2022-11-16T16:09:47.527Z"
   },
   {
    "duration": 3,
    "start_time": "2022-11-16T16:09:47.551Z"
   },
   {
    "duration": 8,
    "start_time": "2022-11-16T16:09:47.579Z"
   },
   {
    "duration": 12,
    "start_time": "2022-11-16T16:09:47.589Z"
   },
   {
    "duration": 10,
    "start_time": "2022-11-16T16:09:47.603Z"
   },
   {
    "duration": 22,
    "start_time": "2022-11-16T16:09:47.614Z"
   },
   {
    "duration": 8,
    "start_time": "2022-11-16T16:09:47.637Z"
   },
   {
    "duration": 45,
    "start_time": "2022-11-16T16:09:47.647Z"
   },
   {
    "duration": 24,
    "start_time": "2022-11-16T16:09:47.693Z"
   },
   {
    "duration": 8,
    "start_time": "2022-11-16T16:09:47.718Z"
   },
   {
    "duration": 17,
    "start_time": "2022-11-16T16:09:47.728Z"
   },
   {
    "duration": 4,
    "start_time": "2022-11-16T16:09:47.746Z"
   },
   {
    "duration": 27,
    "start_time": "2022-11-16T16:09:47.751Z"
   },
   {
    "duration": 22,
    "start_time": "2022-11-16T16:09:47.780Z"
   },
   {
    "duration": 18,
    "start_time": "2022-11-16T16:09:47.804Z"
   },
   {
    "duration": 261,
    "start_time": "2022-11-16T16:09:47.824Z"
   },
   {
    "duration": 272,
    "start_time": "2022-11-16T16:09:48.086Z"
   },
   {
    "duration": 183,
    "start_time": "2022-11-16T16:09:48.359Z"
   },
   {
    "duration": 209,
    "start_time": "2022-11-16T16:09:48.547Z"
   },
   {
    "duration": 176,
    "start_time": "2022-11-16T16:09:48.758Z"
   },
   {
    "duration": 207,
    "start_time": "2022-11-16T16:09:48.936Z"
   },
   {
    "duration": 196,
    "start_time": "2022-11-16T16:09:49.145Z"
   },
   {
    "duration": 252,
    "start_time": "2022-11-16T16:09:49.343Z"
   },
   {
    "duration": 9,
    "start_time": "2022-11-16T16:09:49.597Z"
   },
   {
    "duration": 190,
    "start_time": "2022-11-16T16:09:49.607Z"
   },
   {
    "duration": 131,
    "start_time": "2022-11-16T16:09:49.799Z"
   },
   {
    "duration": 133,
    "start_time": "2022-11-16T16:09:49.933Z"
   },
   {
    "duration": 140,
    "start_time": "2022-11-16T16:09:50.068Z"
   },
   {
    "duration": 131,
    "start_time": "2022-11-16T16:09:50.210Z"
   },
   {
    "duration": 123,
    "start_time": "2022-11-16T16:09:50.343Z"
   },
   {
    "duration": 140,
    "start_time": "2022-11-16T16:09:50.468Z"
   },
   {
    "duration": 135,
    "start_time": "2022-11-16T16:09:50.610Z"
   },
   {
    "duration": 139,
    "start_time": "2022-11-16T16:09:50.747Z"
   },
   {
    "duration": 136,
    "start_time": "2022-11-16T16:09:50.888Z"
   },
   {
    "duration": 124,
    "start_time": "2022-11-16T16:09:51.026Z"
   },
   {
    "duration": 3,
    "start_time": "2022-11-16T16:09:51.152Z"
   },
   {
    "duration": 374,
    "start_time": "2022-11-16T16:09:51.157Z"
   },
   {
    "duration": 24,
    "start_time": "2022-11-16T16:09:51.533Z"
   },
   {
    "duration": 279,
    "start_time": "2022-11-16T16:09:51.558Z"
   },
   {
    "duration": 280,
    "start_time": "2022-11-16T16:09:51.839Z"
   },
   {
    "duration": 265,
    "start_time": "2022-11-16T16:09:52.121Z"
   },
   {
    "duration": 269,
    "start_time": "2022-11-16T16:09:52.388Z"
   },
   {
    "duration": 254,
    "start_time": "2022-11-16T16:09:52.659Z"
   },
   {
    "duration": 273,
    "start_time": "2022-11-16T16:09:52.915Z"
   },
   {
    "duration": 217,
    "start_time": "2022-11-16T16:09:53.189Z"
   },
   {
    "duration": 249,
    "start_time": "2022-11-16T16:09:53.408Z"
   },
   {
    "duration": 269,
    "start_time": "2022-11-16T16:09:53.659Z"
   },
   {
    "duration": 241,
    "start_time": "2022-11-16T16:09:53.930Z"
   },
   {
    "duration": 11,
    "start_time": "2022-11-16T16:09:54.172Z"
   },
   {
    "duration": 16,
    "start_time": "2022-11-16T16:09:54.185Z"
   },
   {
    "duration": 1440,
    "start_time": "2022-11-17T06:20:23.944Z"
   },
   {
    "duration": 87,
    "start_time": "2022-11-17T06:20:25.386Z"
   },
   {
    "duration": 59,
    "start_time": "2022-11-17T06:20:25.474Z"
   },
   {
    "duration": 36,
    "start_time": "2022-11-17T06:20:25.535Z"
   },
   {
    "duration": 18,
    "start_time": "2022-11-17T06:20:25.574Z"
   },
   {
    "duration": 14,
    "start_time": "2022-11-17T06:20:25.594Z"
   },
   {
    "duration": 23,
    "start_time": "2022-11-17T06:20:25.610Z"
   },
   {
    "duration": 32,
    "start_time": "2022-11-17T06:20:25.652Z"
   },
   {
    "duration": 19,
    "start_time": "2022-11-17T06:20:25.686Z"
   },
   {
    "duration": 52,
    "start_time": "2022-11-17T06:20:25.707Z"
   },
   {
    "duration": 2,
    "start_time": "2022-11-17T06:20:25.761Z"
   },
   {
    "duration": 17,
    "start_time": "2022-11-17T06:20:25.765Z"
   },
   {
    "duration": 11,
    "start_time": "2022-11-17T06:20:25.783Z"
   },
   {
    "duration": 10,
    "start_time": "2022-11-17T06:20:25.797Z"
   },
   {
    "duration": 55,
    "start_time": "2022-11-17T06:20:25.809Z"
   },
   {
    "duration": 10,
    "start_time": "2022-11-17T06:20:25.865Z"
   },
   {
    "duration": 23,
    "start_time": "2022-11-17T06:20:25.877Z"
   },
   {
    "duration": 51,
    "start_time": "2022-11-17T06:20:25.902Z"
   },
   {
    "duration": 6,
    "start_time": "2022-11-17T06:20:25.955Z"
   },
   {
    "duration": 17,
    "start_time": "2022-11-17T06:20:25.962Z"
   },
   {
    "duration": 11,
    "start_time": "2022-11-17T06:20:25.981Z"
   },
   {
    "duration": 10,
    "start_time": "2022-11-17T06:20:25.994Z"
   },
   {
    "duration": 27,
    "start_time": "2022-11-17T06:20:26.006Z"
   },
   {
    "duration": 29,
    "start_time": "2022-11-17T06:20:26.034Z"
   },
   {
    "duration": 213,
    "start_time": "2022-11-17T06:20:26.065Z"
   },
   {
    "duration": 286,
    "start_time": "2022-11-17T06:20:26.280Z"
   },
   {
    "duration": 193,
    "start_time": "2022-11-17T06:20:26.568Z"
   },
   {
    "duration": 185,
    "start_time": "2022-11-17T06:20:26.762Z"
   },
   {
    "duration": 184,
    "start_time": "2022-11-17T06:20:26.948Z"
   },
   {
    "duration": 190,
    "start_time": "2022-11-17T06:20:27.134Z"
   },
   {
    "duration": 182,
    "start_time": "2022-11-17T06:20:27.326Z"
   },
   {
    "duration": 259,
    "start_time": "2022-11-17T06:20:27.510Z"
   },
   {
    "duration": 6,
    "start_time": "2022-11-17T06:20:27.771Z"
   },
   {
    "duration": 169,
    "start_time": "2022-11-17T06:20:27.778Z"
   },
   {
    "duration": 152,
    "start_time": "2022-11-17T06:20:27.949Z"
   },
   {
    "duration": 134,
    "start_time": "2022-11-17T06:20:28.103Z"
   },
   {
    "duration": 134,
    "start_time": "2022-11-17T06:20:28.238Z"
   },
   {
    "duration": 164,
    "start_time": "2022-11-17T06:20:28.374Z"
   },
   {
    "duration": 143,
    "start_time": "2022-11-17T06:20:28.540Z"
   },
   {
    "duration": 134,
    "start_time": "2022-11-17T06:20:28.685Z"
   },
   {
    "duration": 135,
    "start_time": "2022-11-17T06:20:28.824Z"
   },
   {
    "duration": 143,
    "start_time": "2022-11-17T06:20:28.961Z"
   },
   {
    "duration": 140,
    "start_time": "2022-11-17T06:20:29.105Z"
   },
   {
    "duration": 124,
    "start_time": "2022-11-17T06:20:29.251Z"
   },
   {
    "duration": 3,
    "start_time": "2022-11-17T06:20:29.376Z"
   },
   {
    "duration": 365,
    "start_time": "2022-11-17T06:20:29.380Z"
   },
   {
    "duration": 30,
    "start_time": "2022-11-17T06:20:29.747Z"
   },
   {
    "duration": 313,
    "start_time": "2022-11-17T06:20:29.779Z"
   },
   {
    "duration": 379,
    "start_time": "2022-11-17T06:20:30.093Z"
   },
   {
    "duration": 285,
    "start_time": "2022-11-17T06:20:30.474Z"
   },
   {
    "duration": 286,
    "start_time": "2022-11-17T06:20:30.760Z"
   },
   {
    "duration": 289,
    "start_time": "2022-11-17T06:20:31.052Z"
   },
   {
    "duration": 275,
    "start_time": "2022-11-17T06:20:31.343Z"
   },
   {
    "duration": 236,
    "start_time": "2022-11-17T06:20:31.620Z"
   },
   {
    "duration": 235,
    "start_time": "2022-11-17T06:20:31.858Z"
   },
   {
    "duration": 265,
    "start_time": "2022-11-17T06:20:32.095Z"
   },
   {
    "duration": 257,
    "start_time": "2022-11-17T06:20:32.361Z"
   },
   {
    "duration": 13,
    "start_time": "2022-11-17T06:20:32.621Z"
   },
   {
    "duration": 39,
    "start_time": "2022-11-17T06:20:32.636Z"
   },
   {
    "duration": 267,
    "start_time": "2022-11-17T07:46:06.892Z"
   },
   {
    "duration": 1184,
    "start_time": "2022-11-17T08:35:12.745Z"
   },
   {
    "duration": 45,
    "start_time": "2022-11-17T08:35:13.931Z"
   },
   {
    "duration": 52,
    "start_time": "2022-11-17T08:35:13.978Z"
   },
   {
    "duration": 34,
    "start_time": "2022-11-17T08:35:14.032Z"
   },
   {
    "duration": 17,
    "start_time": "2022-11-17T08:35:14.068Z"
   },
   {
    "duration": 13,
    "start_time": "2022-11-17T08:35:14.087Z"
   },
   {
    "duration": 16,
    "start_time": "2022-11-17T08:35:14.101Z"
   },
   {
    "duration": 38,
    "start_time": "2022-11-17T08:35:14.119Z"
   },
   {
    "duration": 10,
    "start_time": "2022-11-17T08:35:14.159Z"
   },
   {
    "duration": 41,
    "start_time": "2022-11-17T08:35:14.171Z"
   },
   {
    "duration": 3,
    "start_time": "2022-11-17T08:35:14.213Z"
   },
   {
    "duration": 15,
    "start_time": "2022-11-17T08:35:14.218Z"
   },
   {
    "duration": 18,
    "start_time": "2022-11-17T08:35:14.234Z"
   },
   {
    "duration": 6,
    "start_time": "2022-11-17T08:35:14.255Z"
   },
   {
    "duration": 22,
    "start_time": "2022-11-17T08:35:14.263Z"
   },
   {
    "duration": 10,
    "start_time": "2022-11-17T08:35:14.286Z"
   },
   {
    "duration": 29,
    "start_time": "2022-11-17T08:35:14.298Z"
   },
   {
    "duration": 45,
    "start_time": "2022-11-17T08:35:14.329Z"
   },
   {
    "duration": 6,
    "start_time": "2022-11-17T08:35:14.375Z"
   },
   {
    "duration": 13,
    "start_time": "2022-11-17T08:35:14.382Z"
   },
   {
    "duration": 4,
    "start_time": "2022-11-17T08:35:14.396Z"
   },
   {
    "duration": 8,
    "start_time": "2022-11-17T08:35:14.401Z"
   },
   {
    "duration": 47,
    "start_time": "2022-11-17T08:35:14.410Z"
   },
   {
    "duration": 15,
    "start_time": "2022-11-17T08:35:14.459Z"
   },
   {
    "duration": 219,
    "start_time": "2022-11-17T08:35:14.475Z"
   },
   {
    "duration": 270,
    "start_time": "2022-11-17T08:35:14.696Z"
   },
   {
    "duration": 186,
    "start_time": "2022-11-17T08:35:14.969Z"
   },
   {
    "duration": 187,
    "start_time": "2022-11-17T08:35:15.157Z"
   },
   {
    "duration": 190,
    "start_time": "2022-11-17T08:35:15.346Z"
   },
   {
    "duration": 182,
    "start_time": "2022-11-17T08:35:15.538Z"
   },
   {
    "duration": 183,
    "start_time": "2022-11-17T08:35:15.722Z"
   },
   {
    "duration": 242,
    "start_time": "2022-11-17T08:35:15.907Z"
   },
   {
    "duration": 6,
    "start_time": "2022-11-17T08:35:16.152Z"
   },
   {
    "duration": 163,
    "start_time": "2022-11-17T08:35:16.159Z"
   },
   {
    "duration": 129,
    "start_time": "2022-11-17T08:35:16.324Z"
   },
   {
    "duration": 132,
    "start_time": "2022-11-17T08:35:16.455Z"
   },
   {
    "duration": 126,
    "start_time": "2022-11-17T08:35:16.589Z"
   },
   {
    "duration": 141,
    "start_time": "2022-11-17T08:35:16.716Z"
   },
   {
    "duration": 145,
    "start_time": "2022-11-17T08:35:16.859Z"
   },
   {
    "duration": 133,
    "start_time": "2022-11-17T08:35:17.006Z"
   },
   {
    "duration": 148,
    "start_time": "2022-11-17T08:35:17.142Z"
   },
   {
    "duration": 132,
    "start_time": "2022-11-17T08:35:17.292Z"
   },
   {
    "duration": 142,
    "start_time": "2022-11-17T08:35:17.426Z"
   },
   {
    "duration": 136,
    "start_time": "2022-11-17T08:35:17.570Z"
   },
   {
    "duration": 4,
    "start_time": "2022-11-17T08:35:17.708Z"
   },
   {
    "duration": 406,
    "start_time": "2022-11-17T08:35:17.714Z"
   },
   {
    "duration": 32,
    "start_time": "2022-11-17T08:35:18.121Z"
   },
   {
    "duration": 285,
    "start_time": "2022-11-17T08:35:18.155Z"
   },
   {
    "duration": 287,
    "start_time": "2022-11-17T08:35:18.441Z"
   },
   {
    "duration": 267,
    "start_time": "2022-11-17T08:35:18.730Z"
   },
   {
    "duration": 272,
    "start_time": "2022-11-17T08:35:18.999Z"
   },
   {
    "duration": 297,
    "start_time": "2022-11-17T08:35:19.273Z"
   },
   {
    "duration": 300,
    "start_time": "2022-11-17T08:35:19.573Z"
   },
   {
    "duration": 228,
    "start_time": "2022-11-17T08:35:19.875Z"
   },
   {
    "duration": 231,
    "start_time": "2022-11-17T08:35:20.105Z"
   },
   {
    "duration": 267,
    "start_time": "2022-11-17T08:35:20.338Z"
   },
   {
    "duration": 197,
    "start_time": "2022-11-17T08:35:20.607Z"
   },
   {
    "duration": 11,
    "start_time": "2022-11-17T08:35:20.805Z"
   },
   {
    "duration": 13,
    "start_time": "2022-11-17T08:35:20.818Z"
   },
   {
    "duration": 48,
    "start_time": "2022-11-17T18:18:07.666Z"
   },
   {
    "duration": 1349,
    "start_time": "2022-11-17T18:18:13.480Z"
   },
   {
    "duration": 96,
    "start_time": "2022-11-17T18:18:14.831Z"
   },
   {
    "duration": 57,
    "start_time": "2022-11-17T18:18:14.928Z"
   },
   {
    "duration": 20,
    "start_time": "2022-11-17T18:18:14.988Z"
   },
   {
    "duration": 48,
    "start_time": "2022-11-17T18:18:15.010Z"
   },
   {
    "duration": 14,
    "start_time": "2022-11-17T18:18:15.060Z"
   },
   {
    "duration": 17,
    "start_time": "2022-11-17T18:18:15.075Z"
   },
   {
    "duration": 57,
    "start_time": "2022-11-17T18:18:15.093Z"
   },
   {
    "duration": 13,
    "start_time": "2022-11-17T18:18:15.151Z"
   },
   {
    "duration": 19,
    "start_time": "2022-11-17T18:18:15.166Z"
   },
   {
    "duration": 2,
    "start_time": "2022-11-17T18:18:15.186Z"
   },
   {
    "duration": 50,
    "start_time": "2022-11-17T18:18:15.190Z"
   },
   {
    "duration": 8,
    "start_time": "2022-11-17T18:18:15.242Z"
   },
   {
    "duration": 6,
    "start_time": "2022-11-17T18:18:15.252Z"
   },
   {
    "duration": 21,
    "start_time": "2022-11-17T18:18:15.260Z"
   },
   {
    "duration": 9,
    "start_time": "2022-11-17T18:18:15.282Z"
   },
   {
    "duration": 63,
    "start_time": "2022-11-17T18:18:15.293Z"
   },
   {
    "duration": 24,
    "start_time": "2022-11-17T18:18:15.358Z"
   },
   {
    "duration": 6,
    "start_time": "2022-11-17T18:18:15.383Z"
   },
   {
    "duration": 55,
    "start_time": "2022-11-17T18:18:15.390Z"
   },
   {
    "duration": 3,
    "start_time": "2022-11-17T18:18:15.447Z"
   },
   {
    "duration": 7,
    "start_time": "2022-11-17T18:18:15.452Z"
   },
   {
    "duration": 25,
    "start_time": "2022-11-17T18:18:15.461Z"
   },
   {
    "duration": 16,
    "start_time": "2022-11-17T18:18:15.488Z"
   },
   {
    "duration": 248,
    "start_time": "2022-11-17T18:18:15.505Z"
   },
   {
    "duration": 300,
    "start_time": "2022-11-17T18:18:15.755Z"
   },
   {
    "duration": 184,
    "start_time": "2022-11-17T18:18:16.056Z"
   },
   {
    "duration": 192,
    "start_time": "2022-11-17T18:18:16.244Z"
   },
   {
    "duration": 181,
    "start_time": "2022-11-17T18:18:16.438Z"
   },
   {
    "duration": 173,
    "start_time": "2022-11-17T18:18:16.620Z"
   },
   {
    "duration": 240,
    "start_time": "2022-11-17T18:18:16.794Z"
   },
   {
    "duration": 176,
    "start_time": "2022-11-17T18:18:17.038Z"
   },
   {
    "duration": 6,
    "start_time": "2022-11-17T18:18:17.216Z"
   },
   {
    "duration": 158,
    "start_time": "2022-11-17T18:18:17.224Z"
   },
   {
    "duration": 141,
    "start_time": "2022-11-17T18:18:17.383Z"
   },
   {
    "duration": 136,
    "start_time": "2022-11-17T18:18:17.526Z"
   },
   {
    "duration": 131,
    "start_time": "2022-11-17T18:18:17.664Z"
   },
   {
    "duration": 140,
    "start_time": "2022-11-17T18:18:17.797Z"
   },
   {
    "duration": 154,
    "start_time": "2022-11-17T18:18:17.940Z"
   },
   {
    "duration": 127,
    "start_time": "2022-11-17T18:18:18.095Z"
   },
   {
    "duration": 143,
    "start_time": "2022-11-17T18:18:18.224Z"
   },
   {
    "duration": 141,
    "start_time": "2022-11-17T18:18:18.368Z"
   },
   {
    "duration": 140,
    "start_time": "2022-11-17T18:18:18.511Z"
   },
   {
    "duration": 133,
    "start_time": "2022-11-17T18:18:18.652Z"
   },
   {
    "duration": 2,
    "start_time": "2022-11-17T18:18:18.787Z"
   },
   {
    "duration": 408,
    "start_time": "2022-11-17T18:18:18.790Z"
   },
   {
    "duration": 38,
    "start_time": "2022-11-17T18:18:19.200Z"
   },
   {
    "duration": 288,
    "start_time": "2022-11-17T18:18:19.240Z"
   },
   {
    "duration": 292,
    "start_time": "2022-11-17T18:18:19.537Z"
   },
   {
    "duration": 263,
    "start_time": "2022-11-17T18:18:19.832Z"
   },
   {
    "duration": 278,
    "start_time": "2022-11-17T18:18:20.097Z"
   },
   {
    "duration": 285,
    "start_time": "2022-11-17T18:18:20.376Z"
   },
   {
    "duration": 274,
    "start_time": "2022-11-17T18:18:20.663Z"
   },
   {
    "duration": 215,
    "start_time": "2022-11-17T18:18:20.939Z"
   },
   {
    "duration": 234,
    "start_time": "2022-11-17T18:18:21.156Z"
   },
   {
    "duration": 263,
    "start_time": "2022-11-17T18:18:21.392Z"
   },
   {
    "duration": 203,
    "start_time": "2022-11-17T18:18:21.657Z"
   },
   {
    "duration": 13,
    "start_time": "2022-11-17T18:18:21.862Z"
   },
   {
    "duration": 17,
    "start_time": "2022-11-17T18:18:21.876Z"
   },
   {
    "duration": 57,
    "start_time": "2022-11-18T09:49:38.578Z"
   },
   {
    "duration": 1303,
    "start_time": "2022-11-18T10:45:55.211Z"
   },
   {
    "duration": 203,
    "start_time": "2022-11-18T10:45:56.516Z"
   },
   {
    "duration": 62,
    "start_time": "2022-11-18T10:45:56.721Z"
   },
   {
    "duration": 31,
    "start_time": "2022-11-18T10:45:56.786Z"
   },
   {
    "duration": 14,
    "start_time": "2022-11-18T10:45:56.818Z"
   },
   {
    "duration": 11,
    "start_time": "2022-11-18T10:45:56.834Z"
   },
   {
    "duration": 19,
    "start_time": "2022-11-18T10:45:56.847Z"
   },
   {
    "duration": 18,
    "start_time": "2022-11-18T10:45:56.868Z"
   },
   {
    "duration": 34,
    "start_time": "2022-11-18T10:45:56.888Z"
   },
   {
    "duration": 20,
    "start_time": "2022-11-18T10:45:56.925Z"
   },
   {
    "duration": 2,
    "start_time": "2022-11-18T10:45:56.946Z"
   },
   {
    "duration": 14,
    "start_time": "2022-11-18T10:45:56.950Z"
   },
   {
    "duration": 11,
    "start_time": "2022-11-18T10:45:56.965Z"
   },
   {
    "duration": 15,
    "start_time": "2022-11-18T10:45:56.977Z"
   },
   {
    "duration": 31,
    "start_time": "2022-11-18T10:45:56.993Z"
   },
   {
    "duration": 8,
    "start_time": "2022-11-18T10:45:57.025Z"
   },
   {
    "duration": 19,
    "start_time": "2022-11-18T10:45:57.035Z"
   },
   {
    "duration": 24,
    "start_time": "2022-11-18T10:45:57.055Z"
   },
   {
    "duration": 5,
    "start_time": "2022-11-18T10:45:57.080Z"
   },
   {
    "duration": 15,
    "start_time": "2022-11-18T10:45:57.115Z"
   },
   {
    "duration": 9,
    "start_time": "2022-11-18T10:45:57.131Z"
   },
   {
    "duration": 9,
    "start_time": "2022-11-18T10:45:57.142Z"
   },
   {
    "duration": 21,
    "start_time": "2022-11-18T10:45:57.152Z"
   },
   {
    "duration": 12,
    "start_time": "2022-11-18T10:45:57.174Z"
   },
   {
    "duration": 231,
    "start_time": "2022-11-18T10:45:57.188Z"
   },
   {
    "duration": 257,
    "start_time": "2022-11-18T10:45:57.421Z"
   },
   {
    "duration": 177,
    "start_time": "2022-11-18T10:45:57.679Z"
   },
   {
    "duration": 183,
    "start_time": "2022-11-18T10:45:57.859Z"
   },
   {
    "duration": 196,
    "start_time": "2022-11-18T10:45:58.044Z"
   },
   {
    "duration": 184,
    "start_time": "2022-11-18T10:45:58.242Z"
   },
   {
    "duration": 174,
    "start_time": "2022-11-18T10:45:58.428Z"
   },
   {
    "duration": 239,
    "start_time": "2022-11-18T10:45:58.603Z"
   },
   {
    "duration": 7,
    "start_time": "2022-11-18T10:45:58.844Z"
   },
   {
    "duration": 155,
    "start_time": "2022-11-18T10:45:58.853Z"
   },
   {
    "duration": 127,
    "start_time": "2022-11-18T10:45:59.009Z"
   },
   {
    "duration": 135,
    "start_time": "2022-11-18T10:45:59.137Z"
   },
   {
    "duration": 125,
    "start_time": "2022-11-18T10:45:59.274Z"
   },
   {
    "duration": 128,
    "start_time": "2022-11-18T10:45:59.401Z"
   },
   {
    "duration": 136,
    "start_time": "2022-11-18T10:45:59.530Z"
   },
   {
    "duration": 118,
    "start_time": "2022-11-18T10:45:59.667Z"
   },
   {
    "duration": 132,
    "start_time": "2022-11-18T10:45:59.786Z"
   },
   {
    "duration": 133,
    "start_time": "2022-11-18T10:45:59.919Z"
   },
   {
    "duration": 139,
    "start_time": "2022-11-18T10:46:00.054Z"
   },
   {
    "duration": 130,
    "start_time": "2022-11-18T10:46:00.195Z"
   },
   {
    "duration": 2,
    "start_time": "2022-11-18T10:46:00.328Z"
   },
   {
    "duration": 408,
    "start_time": "2022-11-18T10:46:00.332Z"
   },
   {
    "duration": 24,
    "start_time": "2022-11-18T10:46:00.742Z"
   },
   {
    "duration": 317,
    "start_time": "2022-11-18T10:46:00.767Z"
   },
   {
    "duration": 291,
    "start_time": "2022-11-18T10:46:01.086Z"
   },
   {
    "duration": 269,
    "start_time": "2022-11-18T10:46:01.378Z"
   },
   {
    "duration": 280,
    "start_time": "2022-11-18T10:46:01.649Z"
   },
   {
    "duration": 306,
    "start_time": "2022-11-18T10:46:01.932Z"
   },
   {
    "duration": 301,
    "start_time": "2022-11-18T10:46:02.239Z"
   },
   {
    "duration": 216,
    "start_time": "2022-11-18T10:46:02.542Z"
   },
   {
    "duration": 110,
    "start_time": "2022-11-18T10:46:02.759Z"
   },
   {
    "duration": 0,
    "start_time": "2022-11-18T10:46:02.871Z"
   },
   {
    "duration": 0,
    "start_time": "2022-11-18T10:46:02.871Z"
   },
   {
    "duration": 0,
    "start_time": "2022-11-18T10:46:02.872Z"
   },
   {
    "duration": 0,
    "start_time": "2022-11-18T10:46:02.873Z"
   },
   {
    "duration": 0,
    "start_time": "2022-11-18T10:46:02.874Z"
   },
   {
    "duration": 13,
    "start_time": "2022-11-18T10:46:28.858Z"
   },
   {
    "duration": 477,
    "start_time": "2022-11-18T10:47:20.379Z"
   },
   {
    "duration": 13,
    "start_time": "2022-11-18T10:48:04.494Z"
   },
   {
    "duration": 531,
    "start_time": "2022-11-18T10:48:06.278Z"
   },
   {
    "duration": 18,
    "start_time": "2022-11-18T10:48:18.653Z"
   },
   {
    "duration": 12,
    "start_time": "2022-11-18T10:48:42.018Z"
   },
   {
    "duration": 13,
    "start_time": "2022-11-18T10:48:51.894Z"
   },
   {
    "duration": 606,
    "start_time": "2022-11-18T10:48:52.831Z"
   },
   {
    "duration": 11,
    "start_time": "2022-11-18T10:51:02.499Z"
   },
   {
    "duration": 303,
    "start_time": "2022-11-18T10:51:03.588Z"
   },
   {
    "duration": 12,
    "start_time": "2022-11-18T10:51:41.077Z"
   },
   {
    "duration": 302,
    "start_time": "2022-11-18T10:51:41.709Z"
   },
   {
    "duration": 13,
    "start_time": "2022-11-18T10:51:49.043Z"
   },
   {
    "duration": 351,
    "start_time": "2022-11-18T10:51:49.177Z"
   },
   {
    "duration": 26,
    "start_time": "2022-11-18T10:51:56.861Z"
   },
   {
    "duration": 14,
    "start_time": "2022-11-18T10:52:01.079Z"
   },
   {
    "duration": 364,
    "start_time": "2022-11-18T10:52:01.578Z"
   },
   {
    "duration": 20,
    "start_time": "2022-11-18T10:52:08.698Z"
   },
   {
    "duration": 12,
    "start_time": "2022-11-18T10:52:13.889Z"
   },
   {
    "duration": 404,
    "start_time": "2022-11-18T10:52:13.903Z"
   },
   {
    "duration": 12,
    "start_time": "2022-11-18T10:52:27.377Z"
   },
   {
    "duration": 475,
    "start_time": "2022-11-18T10:52:27.533Z"
   },
   {
    "duration": 360,
    "start_time": "2022-11-18T10:54:51.053Z"
   },
   {
    "duration": 343,
    "start_time": "2022-11-18T10:54:56.640Z"
   },
   {
    "duration": 10,
    "start_time": "2022-11-18T10:57:32.898Z"
   },
   {
    "duration": 9,
    "start_time": "2022-11-18T10:58:39.486Z"
   },
   {
    "duration": 7,
    "start_time": "2022-11-18T10:59:02.287Z"
   },
   {
    "duration": 10,
    "start_time": "2022-11-18T10:59:10.813Z"
   },
   {
    "duration": 9,
    "start_time": "2022-11-18T10:59:35.889Z"
   },
   {
    "duration": 12,
    "start_time": "2022-11-18T11:03:23.394Z"
   },
   {
    "duration": 354,
    "start_time": "2022-11-18T11:03:23.952Z"
   },
   {
    "duration": 16,
    "start_time": "2022-11-18T11:03:40.889Z"
   },
   {
    "duration": 22,
    "start_time": "2022-11-18T11:04:10.797Z"
   },
   {
    "duration": 22,
    "start_time": "2022-11-18T11:04:48.388Z"
   },
   {
    "duration": 1276,
    "start_time": "2022-11-18T11:04:55.728Z"
   },
   {
    "duration": 22,
    "start_time": "2022-11-18T11:05:19.307Z"
   },
   {
    "duration": 444,
    "start_time": "2022-11-18T11:05:21.457Z"
   },
   {
    "duration": 22,
    "start_time": "2022-11-18T11:05:50.818Z"
   },
   {
    "duration": 353,
    "start_time": "2022-11-18T11:05:51.351Z"
   },
   {
    "duration": 439,
    "start_time": "2022-11-18T11:05:54.987Z"
   },
   {
    "duration": 9,
    "start_time": "2022-11-18T11:06:36.923Z"
   },
   {
    "duration": 10,
    "start_time": "2022-11-18T11:06:37.389Z"
   },
   {
    "duration": 10,
    "start_time": "2022-11-18T11:06:37.650Z"
   },
   {
    "duration": 9,
    "start_time": "2022-11-18T11:06:37.852Z"
   },
   {
    "duration": 1105,
    "start_time": "2022-11-18T11:07:42.615Z"
   },
   {
    "duration": 65,
    "start_time": "2022-11-18T11:07:43.722Z"
   },
   {
    "duration": 52,
    "start_time": "2022-11-18T11:07:43.788Z"
   },
   {
    "duration": 20,
    "start_time": "2022-11-18T11:07:43.843Z"
   },
   {
    "duration": 42,
    "start_time": "2022-11-18T11:07:43.865Z"
   },
   {
    "duration": 44,
    "start_time": "2022-11-18T11:07:43.908Z"
   },
   {
    "duration": 49,
    "start_time": "2022-11-18T11:07:43.954Z"
   },
   {
    "duration": 33,
    "start_time": "2022-11-18T11:07:44.005Z"
   },
   {
    "duration": 19,
    "start_time": "2022-11-18T11:07:44.040Z"
   },
   {
    "duration": 47,
    "start_time": "2022-11-18T11:07:44.062Z"
   },
   {
    "duration": 3,
    "start_time": "2022-11-18T11:07:44.111Z"
   },
   {
    "duration": 44,
    "start_time": "2022-11-18T11:07:44.115Z"
   },
   {
    "duration": 18,
    "start_time": "2022-11-18T11:07:44.161Z"
   },
   {
    "duration": 11,
    "start_time": "2022-11-18T11:07:44.181Z"
   },
   {
    "duration": 49,
    "start_time": "2022-11-18T11:07:44.194Z"
   },
   {
    "duration": 31,
    "start_time": "2022-11-18T11:07:44.244Z"
   },
   {
    "duration": 46,
    "start_time": "2022-11-18T11:07:44.276Z"
   },
   {
    "duration": 47,
    "start_time": "2022-11-18T11:07:44.323Z"
   },
   {
    "duration": 18,
    "start_time": "2022-11-18T11:07:44.372Z"
   },
   {
    "duration": 39,
    "start_time": "2022-11-18T11:07:44.391Z"
   },
   {
    "duration": 38,
    "start_time": "2022-11-18T11:07:44.432Z"
   },
   {
    "duration": 17,
    "start_time": "2022-11-18T11:07:44.471Z"
   },
   {
    "duration": 42,
    "start_time": "2022-11-18T11:07:44.489Z"
   },
   {
    "duration": 31,
    "start_time": "2022-11-18T11:07:44.533Z"
   },
   {
    "duration": 209,
    "start_time": "2022-11-18T11:07:44.566Z"
   },
   {
    "duration": 265,
    "start_time": "2022-11-18T11:07:44.777Z"
   },
   {
    "duration": 187,
    "start_time": "2022-11-18T11:07:45.043Z"
   },
   {
    "duration": 188,
    "start_time": "2022-11-18T11:07:45.234Z"
   },
   {
    "duration": 172,
    "start_time": "2022-11-18T11:07:45.424Z"
   },
   {
    "duration": 173,
    "start_time": "2022-11-18T11:07:45.598Z"
   },
   {
    "duration": 175,
    "start_time": "2022-11-18T11:07:45.773Z"
   },
   {
    "duration": 236,
    "start_time": "2022-11-18T11:07:45.950Z"
   },
   {
    "duration": 5,
    "start_time": "2022-11-18T11:07:46.187Z"
   },
   {
    "duration": 171,
    "start_time": "2022-11-18T11:07:46.194Z"
   },
   {
    "duration": 118,
    "start_time": "2022-11-18T11:07:46.367Z"
   },
   {
    "duration": 159,
    "start_time": "2022-11-18T11:07:46.486Z"
   },
   {
    "duration": 151,
    "start_time": "2022-11-18T11:07:46.647Z"
   },
   {
    "duration": 131,
    "start_time": "2022-11-18T11:07:46.800Z"
   },
   {
    "duration": 130,
    "start_time": "2022-11-18T11:07:46.933Z"
   },
   {
    "duration": 124,
    "start_time": "2022-11-18T11:07:47.064Z"
   },
   {
    "duration": 132,
    "start_time": "2022-11-18T11:07:47.190Z"
   },
   {
    "duration": 130,
    "start_time": "2022-11-18T11:07:47.324Z"
   },
   {
    "duration": 138,
    "start_time": "2022-11-18T11:07:47.455Z"
   },
   {
    "duration": 123,
    "start_time": "2022-11-18T11:07:47.594Z"
   },
   {
    "duration": 3,
    "start_time": "2022-11-18T11:07:47.718Z"
   },
   {
    "duration": 372,
    "start_time": "2022-11-18T11:07:47.722Z"
   },
   {
    "duration": 28,
    "start_time": "2022-11-18T11:07:48.096Z"
   },
   {
    "duration": 275,
    "start_time": "2022-11-18T11:07:48.125Z"
   },
   {
    "duration": 277,
    "start_time": "2022-11-18T11:07:48.401Z"
   },
   {
    "duration": 265,
    "start_time": "2022-11-18T11:07:48.679Z"
   },
   {
    "duration": 285,
    "start_time": "2022-11-18T11:07:48.946Z"
   },
   {
    "duration": 283,
    "start_time": "2022-11-18T11:07:49.233Z"
   },
   {
    "duration": 267,
    "start_time": "2022-11-18T11:07:49.517Z"
   },
   {
    "duration": 214,
    "start_time": "2022-11-18T11:07:49.786Z"
   },
   {
    "duration": 26,
    "start_time": "2022-11-18T11:07:50.002Z"
   },
   {
    "duration": 377,
    "start_time": "2022-11-18T11:07:50.029Z"
   },
   {
    "duration": 441,
    "start_time": "2022-11-18T11:07:50.407Z"
   },
   {
    "duration": 10,
    "start_time": "2022-11-18T11:07:50.850Z"
   },
   {
    "duration": 22,
    "start_time": "2022-11-18T11:07:50.862Z"
   },
   {
    "duration": 17,
    "start_time": "2022-11-18T11:07:50.885Z"
   },
   {
    "duration": 23,
    "start_time": "2022-11-18T11:07:50.903Z"
   },
   {
    "duration": 226,
    "start_time": "2022-11-18T11:07:50.927Z"
   },
   {
    "duration": 395,
    "start_time": "2022-11-18T11:07:51.155Z"
   },
   {
    "duration": 189,
    "start_time": "2022-11-18T11:07:51.551Z"
   },
   {
    "duration": 9,
    "start_time": "2022-11-18T11:07:51.742Z"
   },
   {
    "duration": 31,
    "start_time": "2022-11-18T11:07:51.753Z"
   },
   {
    "duration": 472,
    "start_time": "2022-11-18T13:18:34.376Z"
   },
   {
    "duration": 16,
    "start_time": "2022-11-18T13:19:19.917Z"
   },
   {
    "duration": 252,
    "start_time": "2022-11-18T13:19:32.070Z"
   },
   {
    "duration": 234,
    "start_time": "2022-11-18T13:20:00.547Z"
   },
   {
    "duration": 236,
    "start_time": "2022-11-18T13:20:17.746Z"
   },
   {
    "duration": 13,
    "start_time": "2022-11-18T13:20:41.811Z"
   },
   {
    "duration": 17,
    "start_time": "2022-11-18T13:21:20.841Z"
   },
   {
    "duration": 278,
    "start_time": "2022-11-18T13:21:37.991Z"
   },
   {
    "duration": 276,
    "start_time": "2022-11-18T13:24:11.759Z"
   },
   {
    "duration": 299,
    "start_time": "2022-11-18T13:25:22.452Z"
   },
   {
    "duration": 2075,
    "start_time": "2022-11-18T13:25:24.012Z"
   },
   {
    "duration": 234,
    "start_time": "2022-11-18T13:25:53.501Z"
   },
   {
    "duration": 276,
    "start_time": "2022-11-18T13:25:57.811Z"
   },
   {
    "duration": 279,
    "start_time": "2022-11-18T13:26:49.907Z"
   },
   {
    "duration": 240,
    "start_time": "2022-11-18T13:27:27.399Z"
   },
   {
    "duration": 233,
    "start_time": "2022-11-18T13:27:44.643Z"
   },
   {
    "duration": 282,
    "start_time": "2022-11-18T13:27:45.504Z"
   },
   {
    "duration": 273,
    "start_time": "2022-11-18T13:28:10.097Z"
   },
   {
    "duration": 244,
    "start_time": "2022-11-18T13:28:32.097Z"
   },
   {
    "duration": 509,
    "start_time": "2022-11-18T13:29:41.462Z"
   },
   {
    "duration": 235,
    "start_time": "2022-11-18T13:29:50.633Z"
   },
   {
    "duration": 255,
    "start_time": "2022-11-18T13:30:32.364Z"
   },
   {
    "duration": 217,
    "start_time": "2022-11-18T13:33:23.314Z"
   },
   {
    "duration": 24,
    "start_time": "2022-11-18T13:33:44.261Z"
   },
   {
    "duration": 1056,
    "start_time": "2022-11-18T13:34:30.061Z"
   },
   {
    "duration": 52,
    "start_time": "2022-11-18T13:34:31.119Z"
   },
   {
    "duration": 52,
    "start_time": "2022-11-18T13:34:31.172Z"
   },
   {
    "duration": 20,
    "start_time": "2022-11-18T13:34:31.226Z"
   },
   {
    "duration": 19,
    "start_time": "2022-11-18T13:34:31.247Z"
   },
   {
    "duration": 13,
    "start_time": "2022-11-18T13:34:31.267Z"
   },
   {
    "duration": 36,
    "start_time": "2022-11-18T13:34:31.282Z"
   },
   {
    "duration": 20,
    "start_time": "2022-11-18T13:34:31.320Z"
   },
   {
    "duration": 43,
    "start_time": "2022-11-18T13:34:31.342Z"
   },
   {
    "duration": 20,
    "start_time": "2022-11-18T13:34:31.387Z"
   },
   {
    "duration": 7,
    "start_time": "2022-11-18T13:34:31.409Z"
   },
   {
    "duration": 11,
    "start_time": "2022-11-18T13:34:31.417Z"
   },
   {
    "duration": 7,
    "start_time": "2022-11-18T13:34:31.430Z"
   },
   {
    "duration": 7,
    "start_time": "2022-11-18T13:34:31.439Z"
   },
   {
    "duration": 20,
    "start_time": "2022-11-18T13:34:31.448Z"
   },
   {
    "duration": 9,
    "start_time": "2022-11-18T13:34:31.469Z"
   },
   {
    "duration": 43,
    "start_time": "2022-11-18T13:34:31.479Z"
   },
   {
    "duration": 24,
    "start_time": "2022-11-18T13:34:31.524Z"
   },
   {
    "duration": 6,
    "start_time": "2022-11-18T13:34:31.549Z"
   },
   {
    "duration": 12,
    "start_time": "2022-11-18T13:34:31.556Z"
   },
   {
    "duration": 3,
    "start_time": "2022-11-18T13:34:31.569Z"
   },
   {
    "duration": 6,
    "start_time": "2022-11-18T13:34:31.573Z"
   },
   {
    "duration": 53,
    "start_time": "2022-11-18T13:34:31.580Z"
   },
   {
    "duration": 14,
    "start_time": "2022-11-18T13:34:31.635Z"
   },
   {
    "duration": 207,
    "start_time": "2022-11-18T13:34:31.650Z"
   },
   {
    "duration": 278,
    "start_time": "2022-11-18T13:34:31.858Z"
   },
   {
    "duration": 208,
    "start_time": "2022-11-18T13:34:32.138Z"
   },
   {
    "duration": 199,
    "start_time": "2022-11-18T13:34:32.351Z"
   },
   {
    "duration": 178,
    "start_time": "2022-11-18T13:34:32.552Z"
   },
   {
    "duration": 177,
    "start_time": "2022-11-18T13:34:32.732Z"
   },
   {
    "duration": 174,
    "start_time": "2022-11-18T13:34:32.915Z"
   },
   {
    "duration": 238,
    "start_time": "2022-11-18T13:34:33.091Z"
   },
   {
    "duration": 6,
    "start_time": "2022-11-18T13:34:33.330Z"
   },
   {
    "duration": 149,
    "start_time": "2022-11-18T13:34:33.337Z"
   },
   {
    "duration": 140,
    "start_time": "2022-11-18T13:34:33.488Z"
   },
   {
    "duration": 134,
    "start_time": "2022-11-18T13:34:33.630Z"
   },
   {
    "duration": 126,
    "start_time": "2022-11-18T13:34:33.766Z"
   },
   {
    "duration": 131,
    "start_time": "2022-11-18T13:34:33.894Z"
   },
   {
    "duration": 154,
    "start_time": "2022-11-18T13:34:34.027Z"
   },
   {
    "duration": 121,
    "start_time": "2022-11-18T13:34:34.182Z"
   },
   {
    "duration": 131,
    "start_time": "2022-11-18T13:34:34.305Z"
   },
   {
    "duration": 132,
    "start_time": "2022-11-18T13:34:34.438Z"
   },
   {
    "duration": 136,
    "start_time": "2022-11-18T13:34:34.571Z"
   },
   {
    "duration": 123,
    "start_time": "2022-11-18T13:34:34.715Z"
   },
   {
    "duration": 3,
    "start_time": "2022-11-18T13:34:34.839Z"
   },
   {
    "duration": 388,
    "start_time": "2022-11-18T13:34:34.844Z"
   },
   {
    "duration": 25,
    "start_time": "2022-11-18T13:34:35.235Z"
   },
   {
    "duration": 277,
    "start_time": "2022-11-18T13:34:35.261Z"
   },
   {
    "duration": 290,
    "start_time": "2022-11-18T13:34:35.540Z"
   },
   {
    "duration": 267,
    "start_time": "2022-11-18T13:34:35.832Z"
   },
   {
    "duration": 295,
    "start_time": "2022-11-18T13:34:36.101Z"
   },
   {
    "duration": 305,
    "start_time": "2022-11-18T13:34:36.398Z"
   },
   {
    "duration": 268,
    "start_time": "2022-11-18T13:34:36.705Z"
   },
   {
    "duration": 226,
    "start_time": "2022-11-18T13:34:36.975Z"
   },
   {
    "duration": 28,
    "start_time": "2022-11-18T13:34:37.203Z"
   },
   {
    "duration": 366,
    "start_time": "2022-11-18T13:34:37.233Z"
   },
   {
    "duration": 446,
    "start_time": "2022-11-18T13:34:37.601Z"
   },
   {
    "duration": 23,
    "start_time": "2022-11-18T13:34:38.050Z"
   },
   {
    "duration": 37,
    "start_time": "2022-11-18T13:34:38.075Z"
   },
   {
    "duration": 50,
    "start_time": "2022-11-18T13:34:38.113Z"
   },
   {
    "duration": 33,
    "start_time": "2022-11-18T13:34:38.164Z"
   },
   {
    "duration": 259,
    "start_time": "2022-11-18T13:34:38.198Z"
   },
   {
    "duration": 22,
    "start_time": "2022-11-18T13:34:38.459Z"
   },
   {
    "duration": 379,
    "start_time": "2022-11-18T13:34:38.483Z"
   },
   {
    "duration": 189,
    "start_time": "2022-11-18T13:34:38.864Z"
   },
   {
    "duration": 11,
    "start_time": "2022-11-18T13:34:39.054Z"
   },
   {
    "duration": 36,
    "start_time": "2022-11-18T13:34:39.066Z"
   },
   {
    "duration": 23,
    "start_time": "2022-11-18T13:34:58.250Z"
   },
   {
    "duration": 22,
    "start_time": "2022-11-18T13:35:43.169Z"
   },
   {
    "duration": 24,
    "start_time": "2022-11-18T13:36:20.812Z"
   },
   {
    "duration": 24,
    "start_time": "2022-11-18T13:36:52.624Z"
   },
   {
    "duration": 22,
    "start_time": "2022-11-18T13:36:53.060Z"
   },
   {
    "duration": 1098,
    "start_time": "2022-11-18T13:54:26.413Z"
   },
   {
    "duration": 53,
    "start_time": "2022-11-18T13:54:27.514Z"
   },
   {
    "duration": 54,
    "start_time": "2022-11-18T13:54:27.568Z"
   },
   {
    "duration": 22,
    "start_time": "2022-11-18T13:54:27.624Z"
   },
   {
    "duration": 17,
    "start_time": "2022-11-18T13:54:27.648Z"
   },
   {
    "duration": 14,
    "start_time": "2022-11-18T13:54:27.667Z"
   },
   {
    "duration": 40,
    "start_time": "2022-11-18T13:54:27.683Z"
   },
   {
    "duration": 19,
    "start_time": "2022-11-18T13:54:27.725Z"
   },
   {
    "duration": 10,
    "start_time": "2022-11-18T13:54:27.746Z"
   },
   {
    "duration": 29,
    "start_time": "2022-11-18T13:54:27.758Z"
   },
   {
    "duration": 17,
    "start_time": "2022-11-18T13:54:27.788Z"
   },
   {
    "duration": 14,
    "start_time": "2022-11-18T13:54:27.807Z"
   },
   {
    "duration": 8,
    "start_time": "2022-11-18T13:54:27.823Z"
   },
   {
    "duration": 6,
    "start_time": "2022-11-18T13:54:27.833Z"
   },
   {
    "duration": 29,
    "start_time": "2022-11-18T13:54:27.840Z"
   },
   {
    "duration": 9,
    "start_time": "2022-11-18T13:54:27.870Z"
   },
   {
    "duration": 35,
    "start_time": "2022-11-18T13:54:27.880Z"
   },
   {
    "duration": 24,
    "start_time": "2022-11-18T13:54:27.917Z"
   },
   {
    "duration": 5,
    "start_time": "2022-11-18T13:54:27.942Z"
   },
   {
    "duration": 22,
    "start_time": "2022-11-18T13:54:27.949Z"
   },
   {
    "duration": 7,
    "start_time": "2022-11-18T13:54:27.972Z"
   },
   {
    "duration": 27,
    "start_time": "2022-11-18T13:54:27.980Z"
   },
   {
    "duration": 50,
    "start_time": "2022-11-18T13:54:28.009Z"
   },
   {
    "duration": 34,
    "start_time": "2022-11-18T13:54:28.061Z"
   },
   {
    "duration": 220,
    "start_time": "2022-11-18T13:54:28.097Z"
   },
   {
    "duration": 302,
    "start_time": "2022-11-18T13:54:28.320Z"
   },
   {
    "duration": 186,
    "start_time": "2022-11-18T13:54:28.623Z"
   },
   {
    "duration": 194,
    "start_time": "2022-11-18T13:54:28.815Z"
   },
   {
    "duration": 178,
    "start_time": "2022-11-18T13:54:29.011Z"
   },
   {
    "duration": 189,
    "start_time": "2022-11-18T13:54:29.191Z"
   },
   {
    "duration": 173,
    "start_time": "2022-11-18T13:54:29.381Z"
   },
   {
    "duration": 231,
    "start_time": "2022-11-18T13:54:29.555Z"
   },
   {
    "duration": 6,
    "start_time": "2022-11-18T13:54:29.788Z"
   },
   {
    "duration": 179,
    "start_time": "2022-11-18T13:54:29.795Z"
   },
   {
    "duration": 130,
    "start_time": "2022-11-18T13:54:29.975Z"
   },
   {
    "duration": 140,
    "start_time": "2022-11-18T13:54:30.107Z"
   },
   {
    "duration": 129,
    "start_time": "2022-11-18T13:54:30.248Z"
   },
   {
    "duration": 130,
    "start_time": "2022-11-18T13:54:30.378Z"
   },
   {
    "duration": 141,
    "start_time": "2022-11-18T13:54:30.509Z"
   },
   {
    "duration": 138,
    "start_time": "2022-11-18T13:54:30.651Z"
   },
   {
    "duration": 145,
    "start_time": "2022-11-18T13:54:30.791Z"
   },
   {
    "duration": 136,
    "start_time": "2022-11-18T13:54:30.938Z"
   },
   {
    "duration": 141,
    "start_time": "2022-11-18T13:54:31.076Z"
   },
   {
    "duration": 130,
    "start_time": "2022-11-18T13:54:31.219Z"
   },
   {
    "duration": 2,
    "start_time": "2022-11-18T13:54:31.351Z"
   },
   {
    "duration": 410,
    "start_time": "2022-11-18T13:54:31.355Z"
   },
   {
    "duration": 25,
    "start_time": "2022-11-18T13:54:31.767Z"
   },
   {
    "duration": 279,
    "start_time": "2022-11-18T13:54:31.793Z"
   },
   {
    "duration": 300,
    "start_time": "2022-11-18T13:54:32.075Z"
   },
   {
    "duration": 285,
    "start_time": "2022-11-18T13:54:32.377Z"
   },
   {
    "duration": 268,
    "start_time": "2022-11-18T13:54:32.664Z"
   },
   {
    "duration": 268,
    "start_time": "2022-11-18T13:54:32.934Z"
   },
   {
    "duration": 280,
    "start_time": "2022-11-18T13:54:33.204Z"
   },
   {
    "duration": 217,
    "start_time": "2022-11-18T13:54:33.485Z"
   },
   {
    "duration": 25,
    "start_time": "2022-11-18T13:54:33.703Z"
   },
   {
    "duration": 404,
    "start_time": "2022-11-18T13:54:33.730Z"
   },
   {
    "duration": 465,
    "start_time": "2022-11-18T13:54:34.136Z"
   },
   {
    "duration": 18,
    "start_time": "2022-11-18T13:54:34.602Z"
   },
   {
    "duration": 10,
    "start_time": "2022-11-18T13:54:34.622Z"
   },
   {
    "duration": 10,
    "start_time": "2022-11-18T13:54:34.634Z"
   },
   {
    "duration": 11,
    "start_time": "2022-11-18T13:54:34.645Z"
   },
   {
    "duration": 251,
    "start_time": "2022-11-18T13:54:34.658Z"
   },
   {
    "duration": 23,
    "start_time": "2022-11-18T13:54:34.915Z"
   },
   {
    "duration": 22,
    "start_time": "2022-11-18T13:54:34.939Z"
   },
   {
    "duration": 157,
    "start_time": "2022-11-18T13:54:34.963Z"
   },
   {
    "duration": 23,
    "start_time": "2022-11-18T13:54:35.121Z"
   },
   {
    "duration": 280,
    "start_time": "2022-11-18T13:54:35.145Z"
   },
   {
    "duration": 206,
    "start_time": "2022-11-18T13:54:35.426Z"
   },
   {
    "duration": 10,
    "start_time": "2022-11-18T13:54:35.634Z"
   },
   {
    "duration": 17,
    "start_time": "2022-11-18T13:54:35.645Z"
   },
   {
    "duration": 1093,
    "start_time": "2022-11-18T16:36:37.856Z"
   },
   {
    "duration": 96,
    "start_time": "2022-11-18T16:36:38.950Z"
   },
   {
    "duration": 58,
    "start_time": "2022-11-18T16:36:39.047Z"
   },
   {
    "duration": 28,
    "start_time": "2022-11-18T16:36:39.107Z"
   },
   {
    "duration": 15,
    "start_time": "2022-11-18T16:36:39.138Z"
   },
   {
    "duration": 14,
    "start_time": "2022-11-18T16:36:39.155Z"
   },
   {
    "duration": 16,
    "start_time": "2022-11-18T16:36:39.171Z"
   },
   {
    "duration": 25,
    "start_time": "2022-11-18T16:36:39.189Z"
   },
   {
    "duration": 12,
    "start_time": "2022-11-18T16:36:39.234Z"
   },
   {
    "duration": 19,
    "start_time": "2022-11-18T16:36:39.248Z"
   },
   {
    "duration": 2,
    "start_time": "2022-11-18T16:36:39.269Z"
   },
   {
    "duration": 11,
    "start_time": "2022-11-18T16:36:39.273Z"
   },
   {
    "duration": 18,
    "start_time": "2022-11-18T16:36:39.285Z"
   },
   {
    "duration": 11,
    "start_time": "2022-11-18T16:36:39.306Z"
   },
   {
    "duration": 25,
    "start_time": "2022-11-18T16:36:39.336Z"
   },
   {
    "duration": 11,
    "start_time": "2022-11-18T16:36:39.363Z"
   },
   {
    "duration": 23,
    "start_time": "2022-11-18T16:36:39.376Z"
   },
   {
    "duration": 51,
    "start_time": "2022-11-18T16:36:39.401Z"
   },
   {
    "duration": 6,
    "start_time": "2022-11-18T16:36:39.454Z"
   },
   {
    "duration": 20,
    "start_time": "2022-11-18T16:36:39.461Z"
   },
   {
    "duration": 4,
    "start_time": "2022-11-18T16:36:39.482Z"
   },
   {
    "duration": 10,
    "start_time": "2022-11-18T16:36:39.487Z"
   },
   {
    "duration": 37,
    "start_time": "2022-11-18T16:36:39.499Z"
   },
   {
    "duration": 22,
    "start_time": "2022-11-18T16:36:39.538Z"
   },
   {
    "duration": 204,
    "start_time": "2022-11-18T16:36:39.562Z"
   },
   {
    "duration": 277,
    "start_time": "2022-11-18T16:36:39.768Z"
   },
   {
    "duration": 188,
    "start_time": "2022-11-18T16:36:40.047Z"
   },
   {
    "duration": 174,
    "start_time": "2022-11-18T16:36:40.237Z"
   },
   {
    "duration": 177,
    "start_time": "2022-11-18T16:36:40.413Z"
   },
   {
    "duration": 179,
    "start_time": "2022-11-18T16:36:40.592Z"
   },
   {
    "duration": 178,
    "start_time": "2022-11-18T16:36:40.773Z"
   },
   {
    "duration": 243,
    "start_time": "2022-11-18T16:36:40.953Z"
   },
   {
    "duration": 6,
    "start_time": "2022-11-18T16:36:41.198Z"
   },
   {
    "duration": 158,
    "start_time": "2022-11-18T16:36:41.206Z"
   },
   {
    "duration": 131,
    "start_time": "2022-11-18T16:36:41.365Z"
   },
   {
    "duration": 137,
    "start_time": "2022-11-18T16:36:41.498Z"
   },
   {
    "duration": 122,
    "start_time": "2022-11-18T16:36:41.637Z"
   },
   {
    "duration": 135,
    "start_time": "2022-11-18T16:36:41.760Z"
   },
   {
    "duration": 147,
    "start_time": "2022-11-18T16:36:41.897Z"
   },
   {
    "duration": 124,
    "start_time": "2022-11-18T16:36:42.045Z"
   },
   {
    "duration": 161,
    "start_time": "2022-11-18T16:36:42.174Z"
   },
   {
    "duration": 178,
    "start_time": "2022-11-18T16:36:42.337Z"
   },
   {
    "duration": 178,
    "start_time": "2022-11-18T16:36:42.517Z"
   },
   {
    "duration": 142,
    "start_time": "2022-11-18T16:36:42.697Z"
   },
   {
    "duration": 3,
    "start_time": "2022-11-18T16:36:42.841Z"
   },
   {
    "duration": 392,
    "start_time": "2022-11-18T16:36:42.845Z"
   },
   {
    "duration": 25,
    "start_time": "2022-11-18T16:36:43.238Z"
   },
   {
    "duration": 285,
    "start_time": "2022-11-18T16:36:43.265Z"
   },
   {
    "duration": 291,
    "start_time": "2022-11-18T16:36:43.551Z"
   },
   {
    "duration": 278,
    "start_time": "2022-11-18T16:36:43.843Z"
   },
   {
    "duration": 257,
    "start_time": "2022-11-18T16:36:44.123Z"
   },
   {
    "duration": 269,
    "start_time": "2022-11-18T16:36:44.382Z"
   },
   {
    "duration": 265,
    "start_time": "2022-11-18T16:36:44.653Z"
   },
   {
    "duration": 222,
    "start_time": "2022-11-18T16:36:44.920Z"
   },
   {
    "duration": 23,
    "start_time": "2022-11-18T16:36:45.143Z"
   },
   {
    "duration": 374,
    "start_time": "2022-11-18T16:36:45.168Z"
   },
   {
    "duration": 460,
    "start_time": "2022-11-18T16:36:45.544Z"
   },
   {
    "duration": 12,
    "start_time": "2022-11-18T16:36:46.006Z"
   },
   {
    "duration": 26,
    "start_time": "2022-11-18T16:36:46.020Z"
   },
   {
    "duration": 12,
    "start_time": "2022-11-18T16:36:46.048Z"
   },
   {
    "duration": 18,
    "start_time": "2022-11-18T16:36:46.062Z"
   },
   {
    "duration": 242,
    "start_time": "2022-11-18T16:36:46.082Z"
   },
   {
    "duration": 29,
    "start_time": "2022-11-18T16:36:46.325Z"
   },
   {
    "duration": 22,
    "start_time": "2022-11-18T16:36:46.356Z"
   },
   {
    "duration": 157,
    "start_time": "2022-11-18T16:36:46.379Z"
   },
   {
    "duration": 24,
    "start_time": "2022-11-18T16:36:46.538Z"
   },
   {
    "duration": 322,
    "start_time": "2022-11-18T16:36:46.564Z"
   },
   {
    "duration": 210,
    "start_time": "2022-11-18T16:36:46.889Z"
   },
   {
    "duration": 11,
    "start_time": "2022-11-18T16:36:47.101Z"
   },
   {
    "duration": 23,
    "start_time": "2022-11-18T16:36:47.114Z"
   },
   {
    "duration": 95,
    "start_time": "2022-11-18T16:46:47.614Z"
   },
   {
    "duration": 17,
    "start_time": "2022-11-18T16:47:44.938Z"
   },
   {
    "duration": 12,
    "start_time": "2022-11-18T16:50:10.424Z"
   },
   {
    "duration": 1111,
    "start_time": "2022-11-18T17:18:37.203Z"
   },
   {
    "duration": 51,
    "start_time": "2022-11-18T17:18:38.316Z"
   },
   {
    "duration": 51,
    "start_time": "2022-11-18T17:18:38.369Z"
   },
   {
    "duration": 27,
    "start_time": "2022-11-18T17:18:38.422Z"
   },
   {
    "duration": 29,
    "start_time": "2022-11-18T17:18:38.451Z"
   },
   {
    "duration": 13,
    "start_time": "2022-11-18T17:18:38.481Z"
   },
   {
    "duration": 17,
    "start_time": "2022-11-18T17:18:38.495Z"
   },
   {
    "duration": 24,
    "start_time": "2022-11-18T17:18:38.513Z"
   },
   {
    "duration": 14,
    "start_time": "2022-11-18T17:18:38.538Z"
   },
   {
    "duration": 38,
    "start_time": "2022-11-18T17:18:38.554Z"
   },
   {
    "duration": 2,
    "start_time": "2022-11-18T17:18:38.594Z"
   },
   {
    "duration": 22,
    "start_time": "2022-11-18T17:18:38.598Z"
   },
   {
    "duration": 25,
    "start_time": "2022-11-18T17:18:38.622Z"
   },
   {
    "duration": 26,
    "start_time": "2022-11-18T17:18:38.650Z"
   },
   {
    "duration": 53,
    "start_time": "2022-11-18T17:18:38.678Z"
   },
   {
    "duration": 10,
    "start_time": "2022-11-18T17:18:38.733Z"
   },
   {
    "duration": 37,
    "start_time": "2022-11-18T17:18:38.745Z"
   },
   {
    "duration": 29,
    "start_time": "2022-11-18T17:18:38.784Z"
   },
   {
    "duration": 6,
    "start_time": "2022-11-18T17:18:38.814Z"
   },
   {
    "duration": 23,
    "start_time": "2022-11-18T17:18:38.822Z"
   },
   {
    "duration": 6,
    "start_time": "2022-11-18T17:18:38.846Z"
   },
   {
    "duration": 10,
    "start_time": "2022-11-18T17:18:38.853Z"
   },
   {
    "duration": 41,
    "start_time": "2022-11-18T17:18:38.865Z"
   },
   {
    "duration": 18,
    "start_time": "2022-11-18T17:18:38.908Z"
   },
   {
    "duration": 197,
    "start_time": "2022-11-18T17:18:38.927Z"
   },
   {
    "duration": 258,
    "start_time": "2022-11-18T17:18:39.125Z"
   },
   {
    "duration": 182,
    "start_time": "2022-11-18T17:18:39.384Z"
   },
   {
    "duration": 193,
    "start_time": "2022-11-18T17:18:39.568Z"
   },
   {
    "duration": 184,
    "start_time": "2022-11-18T17:18:39.763Z"
   },
   {
    "duration": 188,
    "start_time": "2022-11-18T17:18:39.949Z"
   },
   {
    "duration": 176,
    "start_time": "2022-11-18T17:18:40.138Z"
   },
   {
    "duration": 242,
    "start_time": "2022-11-18T17:18:40.316Z"
   },
   {
    "duration": 5,
    "start_time": "2022-11-18T17:18:40.560Z"
   },
   {
    "duration": 156,
    "start_time": "2022-11-18T17:18:40.567Z"
   },
   {
    "duration": 132,
    "start_time": "2022-11-18T17:18:40.725Z"
   },
   {
    "duration": 134,
    "start_time": "2022-11-18T17:18:40.859Z"
   },
   {
    "duration": 124,
    "start_time": "2022-11-18T17:18:40.995Z"
   },
   {
    "duration": 146,
    "start_time": "2022-11-18T17:18:41.121Z"
   },
   {
    "duration": 140,
    "start_time": "2022-11-18T17:18:41.269Z"
   },
   {
    "duration": 128,
    "start_time": "2022-11-18T17:18:41.411Z"
   },
   {
    "duration": 134,
    "start_time": "2022-11-18T17:18:41.544Z"
   },
   {
    "duration": 131,
    "start_time": "2022-11-18T17:18:41.679Z"
   },
   {
    "duration": 141,
    "start_time": "2022-11-18T17:18:41.812Z"
   },
   {
    "duration": 140,
    "start_time": "2022-11-18T17:18:41.954Z"
   },
   {
    "duration": 3,
    "start_time": "2022-11-18T17:18:42.096Z"
   },
   {
    "duration": 417,
    "start_time": "2022-11-18T17:18:42.101Z"
   },
   {
    "duration": 38,
    "start_time": "2022-11-18T17:18:42.520Z"
   },
   {
    "duration": 314,
    "start_time": "2022-11-18T17:18:42.561Z"
   },
   {
    "duration": 279,
    "start_time": "2022-11-18T17:18:42.877Z"
   },
   {
    "duration": 261,
    "start_time": "2022-11-18T17:18:43.158Z"
   },
   {
    "duration": 285,
    "start_time": "2022-11-18T17:18:43.422Z"
   },
   {
    "duration": 264,
    "start_time": "2022-11-18T17:18:43.709Z"
   },
   {
    "duration": 267,
    "start_time": "2022-11-18T17:18:43.975Z"
   },
   {
    "duration": 218,
    "start_time": "2022-11-18T17:18:44.243Z"
   },
   {
    "duration": 20,
    "start_time": "2022-11-18T17:18:44.463Z"
   },
   {
    "duration": 364,
    "start_time": "2022-11-18T17:18:44.485Z"
   },
   {
    "duration": 449,
    "start_time": "2022-11-18T17:18:44.851Z"
   },
   {
    "duration": 10,
    "start_time": "2022-11-18T17:18:45.301Z"
   },
   {
    "duration": 28,
    "start_time": "2022-11-18T17:18:45.313Z"
   },
   {
    "duration": 19,
    "start_time": "2022-11-18T17:18:45.342Z"
   },
   {
    "duration": 13,
    "start_time": "2022-11-18T17:18:45.362Z"
   },
   {
    "duration": 227,
    "start_time": "2022-11-18T17:18:45.377Z"
   },
   {
    "duration": 31,
    "start_time": "2022-11-18T17:18:45.605Z"
   },
   {
    "duration": 22,
    "start_time": "2022-11-18T17:18:45.637Z"
   },
   {
    "duration": 153,
    "start_time": "2022-11-18T17:18:45.661Z"
   },
   {
    "duration": 30,
    "start_time": "2022-11-18T17:18:45.816Z"
   },
   {
    "duration": 288,
    "start_time": "2022-11-18T17:18:45.847Z"
   },
   {
    "duration": 194,
    "start_time": "2022-11-18T17:18:46.137Z"
   },
   {
    "duration": 10,
    "start_time": "2022-11-18T17:18:46.333Z"
   },
   {
    "duration": 16,
    "start_time": "2022-11-18T17:18:46.345Z"
   },
   {
    "duration": 1280,
    "start_time": "2022-11-18T18:38:27.420Z"
   },
   {
    "duration": 88,
    "start_time": "2022-11-18T18:38:28.702Z"
   },
   {
    "duration": 52,
    "start_time": "2022-11-18T18:38:28.791Z"
   },
   {
    "duration": 20,
    "start_time": "2022-11-18T18:38:28.845Z"
   },
   {
    "duration": 15,
    "start_time": "2022-11-18T18:38:28.866Z"
   },
   {
    "duration": 21,
    "start_time": "2022-11-18T18:38:28.882Z"
   },
   {
    "duration": 27,
    "start_time": "2022-11-18T18:38:28.905Z"
   },
   {
    "duration": 20,
    "start_time": "2022-11-18T18:38:28.934Z"
   },
   {
    "duration": 10,
    "start_time": "2022-11-18T18:38:28.956Z"
   },
   {
    "duration": 24,
    "start_time": "2022-11-18T18:38:28.968Z"
   },
   {
    "duration": 3,
    "start_time": "2022-11-18T18:38:28.994Z"
   },
   {
    "duration": 28,
    "start_time": "2022-11-18T18:38:28.999Z"
   },
   {
    "duration": 16,
    "start_time": "2022-11-18T18:38:29.029Z"
   },
   {
    "duration": 17,
    "start_time": "2022-11-18T18:38:29.047Z"
   },
   {
    "duration": 37,
    "start_time": "2022-11-18T18:38:29.066Z"
   },
   {
    "duration": 9,
    "start_time": "2022-11-18T18:38:29.106Z"
   },
   {
    "duration": 26,
    "start_time": "2022-11-18T18:38:29.117Z"
   },
   {
    "duration": 31,
    "start_time": "2022-11-18T18:38:29.145Z"
   },
   {
    "duration": 6,
    "start_time": "2022-11-18T18:38:29.177Z"
   },
   {
    "duration": 29,
    "start_time": "2022-11-18T18:38:29.184Z"
   },
   {
    "duration": 10,
    "start_time": "2022-11-18T18:38:29.215Z"
   },
   {
    "duration": 16,
    "start_time": "2022-11-18T18:38:29.227Z"
   },
   {
    "duration": 32,
    "start_time": "2022-11-18T18:38:29.245Z"
   },
   {
    "duration": 20,
    "start_time": "2022-11-18T18:38:29.279Z"
   },
   {
    "duration": 204,
    "start_time": "2022-11-18T18:38:29.301Z"
   },
   {
    "duration": 260,
    "start_time": "2022-11-18T18:38:29.506Z"
   },
   {
    "duration": 173,
    "start_time": "2022-11-18T18:38:29.768Z"
   },
   {
    "duration": 179,
    "start_time": "2022-11-18T18:38:29.945Z"
   },
   {
    "duration": 174,
    "start_time": "2022-11-18T18:38:30.126Z"
   },
   {
    "duration": 186,
    "start_time": "2022-11-18T18:38:30.302Z"
   },
   {
    "duration": 177,
    "start_time": "2022-11-18T18:38:30.490Z"
   },
   {
    "duration": 237,
    "start_time": "2022-11-18T18:38:30.668Z"
   },
   {
    "duration": 14,
    "start_time": "2022-11-18T18:38:30.907Z"
   },
   {
    "duration": 173,
    "start_time": "2022-11-18T18:38:30.922Z"
   },
   {
    "duration": 125,
    "start_time": "2022-11-18T18:38:31.097Z"
   },
   {
    "duration": 128,
    "start_time": "2022-11-18T18:38:31.224Z"
   },
   {
    "duration": 128,
    "start_time": "2022-11-18T18:38:31.353Z"
   },
   {
    "duration": 128,
    "start_time": "2022-11-18T18:38:31.483Z"
   },
   {
    "duration": 127,
    "start_time": "2022-11-18T18:38:31.620Z"
   },
   {
    "duration": 147,
    "start_time": "2022-11-18T18:38:31.749Z"
   },
   {
    "duration": 125,
    "start_time": "2022-11-18T18:38:31.897Z"
   },
   {
    "duration": 129,
    "start_time": "2022-11-18T18:38:32.024Z"
   },
   {
    "duration": 137,
    "start_time": "2022-11-18T18:38:32.155Z"
   },
   {
    "duration": 139,
    "start_time": "2022-11-18T18:38:32.293Z"
   },
   {
    "duration": 3,
    "start_time": "2022-11-18T18:38:32.434Z"
   },
   {
    "duration": 384,
    "start_time": "2022-11-18T18:38:32.438Z"
   },
   {
    "duration": 31,
    "start_time": "2022-11-18T18:38:32.825Z"
   },
   {
    "duration": 276,
    "start_time": "2022-11-18T18:38:32.858Z"
   },
   {
    "duration": 266,
    "start_time": "2022-11-18T18:38:33.136Z"
   },
   {
    "duration": 256,
    "start_time": "2022-11-18T18:38:33.404Z"
   },
   {
    "duration": 260,
    "start_time": "2022-11-18T18:38:33.662Z"
   },
   {
    "duration": 256,
    "start_time": "2022-11-18T18:38:33.923Z"
   },
   {
    "duration": 274,
    "start_time": "2022-11-18T18:38:34.181Z"
   },
   {
    "duration": 221,
    "start_time": "2022-11-18T18:38:34.457Z"
   },
   {
    "duration": 20,
    "start_time": "2022-11-18T18:38:34.680Z"
   },
   {
    "duration": 361,
    "start_time": "2022-11-18T18:38:34.702Z"
   },
   {
    "duration": 465,
    "start_time": "2022-11-18T18:38:35.065Z"
   },
   {
    "duration": 11,
    "start_time": "2022-11-18T18:38:35.534Z"
   },
   {
    "duration": 19,
    "start_time": "2022-11-18T18:38:35.547Z"
   },
   {
    "duration": 11,
    "start_time": "2022-11-18T18:38:35.567Z"
   },
   {
    "duration": 10,
    "start_time": "2022-11-18T18:38:35.579Z"
   },
   {
    "duration": 222,
    "start_time": "2022-11-18T18:38:35.590Z"
   },
   {
    "duration": 25,
    "start_time": "2022-11-18T18:38:35.814Z"
   },
   {
    "duration": 20,
    "start_time": "2022-11-18T18:38:35.840Z"
   },
   {
    "duration": 21,
    "start_time": "2022-11-18T18:38:35.861Z"
   },
   {
    "duration": 161,
    "start_time": "2022-11-18T18:38:35.883Z"
   },
   {
    "duration": 265,
    "start_time": "2022-11-18T18:38:36.046Z"
   },
   {
    "duration": 208,
    "start_time": "2022-11-18T18:38:36.313Z"
   },
   {
    "duration": 9,
    "start_time": "2022-11-18T18:38:36.523Z"
   },
   {
    "duration": 12,
    "start_time": "2022-11-18T18:38:36.534Z"
   },
   {
    "duration": 48,
    "start_time": "2022-11-18T18:38:49.695Z"
   },
   {
    "duration": 101,
    "start_time": "2022-11-18T18:38:59.660Z"
   },
   {
    "duration": 140,
    "start_time": "2022-11-18T18:39:10.560Z"
   },
   {
    "duration": 23,
    "start_time": "2022-11-18T18:40:03.366Z"
   },
   {
    "duration": 319,
    "start_time": "2022-11-18T18:40:03.740Z"
   },
   {
    "duration": 9,
    "start_time": "2022-11-18T18:40:04.535Z"
   },
   {
    "duration": 12,
    "start_time": "2022-11-18T18:40:04.993Z"
   },
   {
    "duration": 13,
    "start_time": "2022-11-18T18:40:05.371Z"
   },
   {
    "duration": 12,
    "start_time": "2022-11-18T18:40:05.689Z"
   },
   {
    "duration": 48,
    "start_time": "2022-11-18T18:42:00.339Z"
   },
   {
    "duration": 21,
    "start_time": "2022-11-18T18:44:12.933Z"
   },
   {
    "duration": 9,
    "start_time": "2022-11-18T18:44:23.776Z"
   },
   {
    "duration": 11,
    "start_time": "2022-11-18T18:44:46.283Z"
   },
   {
    "duration": 284,
    "start_time": "2022-11-18T18:44:47.189Z"
   },
   {
    "duration": 24,
    "start_time": "2022-11-18T18:44:49.419Z"
   },
   {
    "duration": 10,
    "start_time": "2022-11-18T18:44:55.071Z"
   },
   {
    "duration": 11,
    "start_time": "2022-11-18T18:45:18.427Z"
   },
   {
    "duration": 297,
    "start_time": "2022-11-18T18:45:19.143Z"
   },
   {
    "duration": 9,
    "start_time": "2022-11-18T18:45:27.797Z"
   },
   {
    "duration": 9,
    "start_time": "2022-11-18T18:45:28.710Z"
   },
   {
    "duration": 9,
    "start_time": "2022-11-18T18:45:31.098Z"
   },
   {
    "duration": 9,
    "start_time": "2022-11-18T18:45:32.466Z"
   },
   {
    "duration": 1065,
    "start_time": "2022-11-18T18:45:41.086Z"
   },
   {
    "duration": 51,
    "start_time": "2022-11-18T18:45:42.152Z"
   },
   {
    "duration": 49,
    "start_time": "2022-11-18T18:45:42.204Z"
   },
   {
    "duration": 19,
    "start_time": "2022-11-18T18:45:42.254Z"
   },
   {
    "duration": 20,
    "start_time": "2022-11-18T18:45:42.275Z"
   },
   {
    "duration": 26,
    "start_time": "2022-11-18T18:45:42.297Z"
   },
   {
    "duration": 17,
    "start_time": "2022-11-18T18:45:42.324Z"
   },
   {
    "duration": 18,
    "start_time": "2022-11-18T18:45:42.342Z"
   },
   {
    "duration": 16,
    "start_time": "2022-11-18T18:45:42.362Z"
   },
   {
    "duration": 41,
    "start_time": "2022-11-18T18:45:42.381Z"
   },
   {
    "duration": 3,
    "start_time": "2022-11-18T18:45:42.423Z"
   },
   {
    "duration": 12,
    "start_time": "2022-11-18T18:45:42.427Z"
   },
   {
    "duration": 8,
    "start_time": "2022-11-18T18:45:42.441Z"
   },
   {
    "duration": 7,
    "start_time": "2022-11-18T18:45:42.450Z"
   },
   {
    "duration": 22,
    "start_time": "2022-11-18T18:45:42.458Z"
   },
   {
    "duration": 8,
    "start_time": "2022-11-18T18:45:42.481Z"
   },
   {
    "duration": 47,
    "start_time": "2022-11-18T18:45:42.491Z"
   },
   {
    "duration": 38,
    "start_time": "2022-11-18T18:45:42.540Z"
   },
   {
    "duration": 5,
    "start_time": "2022-11-18T18:45:42.580Z"
   },
   {
    "duration": 15,
    "start_time": "2022-11-18T18:45:42.586Z"
   },
   {
    "duration": 2,
    "start_time": "2022-11-18T18:45:42.603Z"
   },
   {
    "duration": 4,
    "start_time": "2022-11-18T18:45:42.622Z"
   },
   {
    "duration": 25,
    "start_time": "2022-11-18T18:45:42.627Z"
   },
   {
    "duration": 12,
    "start_time": "2022-11-18T18:45:42.654Z"
   },
   {
    "duration": 221,
    "start_time": "2022-11-18T18:45:42.668Z"
   },
   {
    "duration": 247,
    "start_time": "2022-11-18T18:45:42.891Z"
   },
   {
    "duration": 189,
    "start_time": "2022-11-18T18:45:43.140Z"
   },
   {
    "duration": 173,
    "start_time": "2022-11-18T18:45:43.333Z"
   },
   {
    "duration": 168,
    "start_time": "2022-11-18T18:45:43.508Z"
   },
   {
    "duration": 176,
    "start_time": "2022-11-18T18:45:43.678Z"
   },
   {
    "duration": 167,
    "start_time": "2022-11-18T18:45:43.856Z"
   },
   {
    "duration": 229,
    "start_time": "2022-11-18T18:45:44.024Z"
   },
   {
    "duration": 6,
    "start_time": "2022-11-18T18:45:44.254Z"
   },
   {
    "duration": 148,
    "start_time": "2022-11-18T18:45:44.261Z"
   },
   {
    "duration": 125,
    "start_time": "2022-11-18T18:45:44.411Z"
   },
   {
    "duration": 128,
    "start_time": "2022-11-18T18:45:44.538Z"
   },
   {
    "duration": 112,
    "start_time": "2022-11-18T18:45:44.667Z"
   },
   {
    "duration": 117,
    "start_time": "2022-11-18T18:45:44.781Z"
   },
   {
    "duration": 132,
    "start_time": "2022-11-18T18:45:44.900Z"
   },
   {
    "duration": 128,
    "start_time": "2022-11-18T18:45:45.033Z"
   },
   {
    "duration": 153,
    "start_time": "2022-11-18T18:45:45.162Z"
   },
   {
    "duration": 160,
    "start_time": "2022-11-18T18:45:45.317Z"
   },
   {
    "duration": 128,
    "start_time": "2022-11-18T18:45:45.479Z"
   },
   {
    "duration": 132,
    "start_time": "2022-11-18T18:45:45.609Z"
   },
   {
    "duration": 2,
    "start_time": "2022-11-18T18:45:45.743Z"
   },
   {
    "duration": 348,
    "start_time": "2022-11-18T18:45:45.747Z"
   },
   {
    "duration": 29,
    "start_time": "2022-11-18T18:45:46.097Z"
   },
   {
    "duration": 265,
    "start_time": "2022-11-18T18:45:46.128Z"
   },
   {
    "duration": 260,
    "start_time": "2022-11-18T18:45:46.395Z"
   },
   {
    "duration": 244,
    "start_time": "2022-11-18T18:45:46.656Z"
   },
   {
    "duration": 246,
    "start_time": "2022-11-18T18:45:46.902Z"
   },
   {
    "duration": 248,
    "start_time": "2022-11-18T18:45:47.150Z"
   },
   {
    "duration": 253,
    "start_time": "2022-11-18T18:45:47.399Z"
   },
   {
    "duration": 202,
    "start_time": "2022-11-18T18:45:47.654Z"
   },
   {
    "duration": 11,
    "start_time": "2022-11-18T18:45:47.857Z"
   },
   {
    "duration": 302,
    "start_time": "2022-11-18T18:45:47.869Z"
   },
   {
    "duration": 10,
    "start_time": "2022-11-18T18:45:48.173Z"
   },
   {
    "duration": 16,
    "start_time": "2022-11-18T18:45:48.185Z"
   },
   {
    "duration": 37,
    "start_time": "2022-11-18T18:45:48.203Z"
   },
   {
    "duration": 20,
    "start_time": "2022-11-18T18:45:48.242Z"
   },
   {
    "duration": 844,
    "start_time": "2022-11-18T18:45:48.264Z"
   },
   {
    "duration": 0,
    "start_time": "2022-11-18T18:45:49.109Z"
   },
   {
    "duration": 0,
    "start_time": "2022-11-18T18:45:49.111Z"
   },
   {
    "duration": 0,
    "start_time": "2022-11-18T18:45:49.112Z"
   },
   {
    "duration": 0,
    "start_time": "2022-11-18T18:45:49.113Z"
   },
   {
    "duration": 0,
    "start_time": "2022-11-18T18:45:49.115Z"
   },
   {
    "duration": 0,
    "start_time": "2022-11-18T18:45:49.116Z"
   },
   {
    "duration": 0,
    "start_time": "2022-11-18T18:45:49.117Z"
   },
   {
    "duration": 0,
    "start_time": "2022-11-18T18:45:49.118Z"
   },
   {
    "duration": 0,
    "start_time": "2022-11-18T18:45:49.120Z"
   },
   {
    "duration": 1094,
    "start_time": "2022-11-18T18:46:58.996Z"
   },
   {
    "duration": 49,
    "start_time": "2022-11-18T18:47:00.092Z"
   },
   {
    "duration": 48,
    "start_time": "2022-11-18T18:47:00.145Z"
   },
   {
    "duration": 35,
    "start_time": "2022-11-18T18:47:00.195Z"
   },
   {
    "duration": 29,
    "start_time": "2022-11-18T18:47:00.232Z"
   },
   {
    "duration": 13,
    "start_time": "2022-11-18T18:47:00.263Z"
   },
   {
    "duration": 17,
    "start_time": "2022-11-18T18:47:00.277Z"
   },
   {
    "duration": 26,
    "start_time": "2022-11-18T18:47:00.295Z"
   },
   {
    "duration": 11,
    "start_time": "2022-11-18T18:47:00.323Z"
   },
   {
    "duration": 32,
    "start_time": "2022-11-18T18:47:00.335Z"
   },
   {
    "duration": 3,
    "start_time": "2022-11-18T18:47:00.368Z"
   },
   {
    "duration": 30,
    "start_time": "2022-11-18T18:47:00.372Z"
   },
   {
    "duration": 18,
    "start_time": "2022-11-18T18:47:00.403Z"
   },
   {
    "duration": 32,
    "start_time": "2022-11-18T18:47:00.423Z"
   },
   {
    "duration": 56,
    "start_time": "2022-11-18T18:47:00.457Z"
   },
   {
    "duration": 25,
    "start_time": "2022-11-18T18:47:00.514Z"
   },
   {
    "duration": 46,
    "start_time": "2022-11-18T18:47:00.541Z"
   },
   {
    "duration": 45,
    "start_time": "2022-11-18T18:47:00.588Z"
   },
   {
    "duration": 16,
    "start_time": "2022-11-18T18:47:00.634Z"
   },
   {
    "duration": 33,
    "start_time": "2022-11-18T18:47:00.652Z"
   },
   {
    "duration": 29,
    "start_time": "2022-11-18T18:47:00.687Z"
   },
   {
    "duration": 21,
    "start_time": "2022-11-18T18:47:00.717Z"
   },
   {
    "duration": 54,
    "start_time": "2022-11-18T18:47:00.739Z"
   },
   {
    "duration": 41,
    "start_time": "2022-11-18T18:47:00.795Z"
   },
   {
    "duration": 219,
    "start_time": "2022-11-18T18:47:00.838Z"
   },
   {
    "duration": 263,
    "start_time": "2022-11-18T18:47:01.058Z"
   },
   {
    "duration": 187,
    "start_time": "2022-11-18T18:47:01.324Z"
   },
   {
    "duration": 186,
    "start_time": "2022-11-18T18:47:01.512Z"
   },
   {
    "duration": 171,
    "start_time": "2022-11-18T18:47:01.700Z"
   },
   {
    "duration": 183,
    "start_time": "2022-11-18T18:47:01.872Z"
   },
   {
    "duration": 166,
    "start_time": "2022-11-18T18:47:02.056Z"
   },
   {
    "duration": 229,
    "start_time": "2022-11-18T18:47:02.224Z"
   },
   {
    "duration": 7,
    "start_time": "2022-11-18T18:47:02.454Z"
   },
   {
    "duration": 161,
    "start_time": "2022-11-18T18:47:02.462Z"
   },
   {
    "duration": 125,
    "start_time": "2022-11-18T18:47:02.625Z"
   },
   {
    "duration": 140,
    "start_time": "2022-11-18T18:47:02.752Z"
   },
   {
    "duration": 113,
    "start_time": "2022-11-18T18:47:02.893Z"
   },
   {
    "duration": 121,
    "start_time": "2022-11-18T18:47:03.007Z"
   },
   {
    "duration": 128,
    "start_time": "2022-11-18T18:47:03.130Z"
   },
   {
    "duration": 124,
    "start_time": "2022-11-18T18:47:03.259Z"
   },
   {
    "duration": 123,
    "start_time": "2022-11-18T18:47:03.384Z"
   },
   {
    "duration": 134,
    "start_time": "2022-11-18T18:47:03.509Z"
   },
   {
    "duration": 127,
    "start_time": "2022-11-18T18:47:03.645Z"
   },
   {
    "duration": 118,
    "start_time": "2022-11-18T18:47:03.774Z"
   },
   {
    "duration": 3,
    "start_time": "2022-11-18T18:47:03.894Z"
   },
   {
    "duration": 367,
    "start_time": "2022-11-18T18:47:03.898Z"
   },
   {
    "duration": 24,
    "start_time": "2022-11-18T18:47:04.267Z"
   },
   {
    "duration": 264,
    "start_time": "2022-11-18T18:47:04.292Z"
   },
   {
    "duration": 305,
    "start_time": "2022-11-18T18:47:04.558Z"
   },
   {
    "duration": 323,
    "start_time": "2022-11-18T18:47:04.865Z"
   },
   {
    "duration": 366,
    "start_time": "2022-11-18T18:47:05.190Z"
   },
   {
    "duration": 253,
    "start_time": "2022-11-18T18:47:05.558Z"
   },
   {
    "duration": 247,
    "start_time": "2022-11-18T18:47:05.812Z"
   },
   {
    "duration": 202,
    "start_time": "2022-11-18T18:47:06.061Z"
   },
   {
    "duration": 11,
    "start_time": "2022-11-18T18:47:06.264Z"
   },
   {
    "duration": 315,
    "start_time": "2022-11-18T18:47:06.276Z"
   },
   {
    "duration": 9,
    "start_time": "2022-11-18T18:47:06.593Z"
   },
   {
    "duration": 18,
    "start_time": "2022-11-18T18:47:06.603Z"
   },
   {
    "duration": 10,
    "start_time": "2022-11-18T18:47:06.622Z"
   },
   {
    "duration": 11,
    "start_time": "2022-11-18T18:47:06.633Z"
   },
   {
    "duration": 110,
    "start_time": "2022-11-18T18:47:06.646Z"
   },
   {
    "duration": 209,
    "start_time": "2022-11-18T18:47:06.757Z"
   },
   {
    "duration": 21,
    "start_time": "2022-11-18T18:47:06.968Z"
   },
   {
    "duration": 37,
    "start_time": "2022-11-18T18:47:06.990Z"
   },
   {
    "duration": 19,
    "start_time": "2022-11-18T18:47:07.028Z"
   },
   {
    "duration": 18,
    "start_time": "2022-11-18T18:47:07.049Z"
   },
   {
    "duration": 259,
    "start_time": "2022-11-18T18:47:07.068Z"
   },
   {
    "duration": 175,
    "start_time": "2022-11-18T18:47:07.329Z"
   },
   {
    "duration": 9,
    "start_time": "2022-11-18T18:47:07.505Z"
   },
   {
    "duration": 9,
    "start_time": "2022-11-18T18:47:07.521Z"
   },
   {
    "duration": 18,
    "start_time": "2022-11-18T18:48:53.314Z"
   },
   {
    "duration": 936,
    "start_time": "2022-11-18T18:48:54.717Z"
   },
   {
    "duration": 196,
    "start_time": "2022-11-18T18:49:34.595Z"
   },
   {
    "duration": 11,
    "start_time": "2022-11-18T18:50:02.390Z"
   },
   {
    "duration": 11,
    "start_time": "2022-11-18T18:50:25.018Z"
   },
   {
    "duration": 23,
    "start_time": "2022-11-18T18:50:53.377Z"
   },
   {
    "duration": 26,
    "start_time": "2022-11-18T18:51:25.412Z"
   },
   {
    "duration": 18,
    "start_time": "2022-11-18T18:51:36.891Z"
   },
   {
    "duration": 1149,
    "start_time": "2022-11-18T18:51:46.074Z"
   },
   {
    "duration": 51,
    "start_time": "2022-11-18T18:51:47.225Z"
   },
   {
    "duration": 50,
    "start_time": "2022-11-18T18:51:47.277Z"
   },
   {
    "duration": 18,
    "start_time": "2022-11-18T18:51:47.329Z"
   },
   {
    "duration": 19,
    "start_time": "2022-11-18T18:51:47.348Z"
   },
   {
    "duration": 13,
    "start_time": "2022-11-18T18:51:47.368Z"
   },
   {
    "duration": 14,
    "start_time": "2022-11-18T18:51:47.382Z"
   },
   {
    "duration": 35,
    "start_time": "2022-11-18T18:51:47.397Z"
   },
   {
    "duration": 12,
    "start_time": "2022-11-18T18:51:47.433Z"
   },
   {
    "duration": 19,
    "start_time": "2022-11-18T18:51:47.447Z"
   },
   {
    "duration": 2,
    "start_time": "2022-11-18T18:51:47.467Z"
   },
   {
    "duration": 10,
    "start_time": "2022-11-18T18:51:47.471Z"
   },
   {
    "duration": 7,
    "start_time": "2022-11-18T18:51:47.483Z"
   },
   {
    "duration": 34,
    "start_time": "2022-11-18T18:51:47.491Z"
   },
   {
    "duration": 20,
    "start_time": "2022-11-18T18:51:47.526Z"
   },
   {
    "duration": 8,
    "start_time": "2022-11-18T18:51:47.547Z"
   },
   {
    "duration": 18,
    "start_time": "2022-11-18T18:51:47.556Z"
   },
   {
    "duration": 50,
    "start_time": "2022-11-18T18:51:47.575Z"
   },
   {
    "duration": 6,
    "start_time": "2022-11-18T18:51:47.626Z"
   },
   {
    "duration": 13,
    "start_time": "2022-11-18T18:51:47.634Z"
   },
   {
    "duration": 3,
    "start_time": "2022-11-18T18:51:47.648Z"
   },
   {
    "duration": 7,
    "start_time": "2022-11-18T18:51:47.652Z"
   },
   {
    "duration": 22,
    "start_time": "2022-11-18T18:51:47.660Z"
   },
   {
    "duration": 13,
    "start_time": "2022-11-18T18:51:47.683Z"
   },
   {
    "duration": 206,
    "start_time": "2022-11-18T18:51:47.697Z"
   },
   {
    "duration": 248,
    "start_time": "2022-11-18T18:51:47.904Z"
   },
   {
    "duration": 167,
    "start_time": "2022-11-18T18:51:48.154Z"
   },
   {
    "duration": 170,
    "start_time": "2022-11-18T18:51:48.325Z"
   },
   {
    "duration": 170,
    "start_time": "2022-11-18T18:51:48.496Z"
   },
   {
    "duration": 175,
    "start_time": "2022-11-18T18:51:48.668Z"
   },
   {
    "duration": 163,
    "start_time": "2022-11-18T18:51:48.845Z"
   },
   {
    "duration": 250,
    "start_time": "2022-11-18T18:51:49.010Z"
   },
   {
    "duration": 6,
    "start_time": "2022-11-18T18:51:49.262Z"
   },
   {
    "duration": 152,
    "start_time": "2022-11-18T18:51:49.269Z"
   },
   {
    "duration": 122,
    "start_time": "2022-11-18T18:51:49.423Z"
   },
   {
    "duration": 129,
    "start_time": "2022-11-18T18:51:49.547Z"
   },
   {
    "duration": 114,
    "start_time": "2022-11-18T18:51:49.678Z"
   },
   {
    "duration": 114,
    "start_time": "2022-11-18T18:51:49.794Z"
   },
   {
    "duration": 125,
    "start_time": "2022-11-18T18:51:49.910Z"
   },
   {
    "duration": 124,
    "start_time": "2022-11-18T18:51:50.037Z"
   },
   {
    "duration": 121,
    "start_time": "2022-11-18T18:51:50.162Z"
   },
   {
    "duration": 122,
    "start_time": "2022-11-18T18:51:50.285Z"
   },
   {
    "duration": 135,
    "start_time": "2022-11-18T18:51:50.409Z"
   },
   {
    "duration": 132,
    "start_time": "2022-11-18T18:51:50.545Z"
   },
   {
    "duration": 3,
    "start_time": "2022-11-18T18:51:50.678Z"
   },
   {
    "duration": 351,
    "start_time": "2022-11-18T18:51:50.683Z"
   },
   {
    "duration": 22,
    "start_time": "2022-11-18T18:51:51.036Z"
   },
   {
    "duration": 272,
    "start_time": "2022-11-18T18:51:51.059Z"
   },
   {
    "duration": 280,
    "start_time": "2022-11-18T18:51:51.333Z"
   },
   {
    "duration": 250,
    "start_time": "2022-11-18T18:51:51.620Z"
   },
   {
    "duration": 256,
    "start_time": "2022-11-18T18:51:51.871Z"
   },
   {
    "duration": 258,
    "start_time": "2022-11-18T18:51:52.129Z"
   },
   {
    "duration": 293,
    "start_time": "2022-11-18T18:51:52.388Z"
   },
   {
    "duration": 229,
    "start_time": "2022-11-18T18:51:52.683Z"
   },
   {
    "duration": 25,
    "start_time": "2022-11-18T18:51:52.913Z"
   },
   {
    "duration": 12,
    "start_time": "2022-11-18T18:51:52.939Z"
   },
   {
    "duration": 15,
    "start_time": "2022-11-18T18:51:52.952Z"
   },
   {
    "duration": 11,
    "start_time": "2022-11-18T18:51:52.968Z"
   },
   {
    "duration": 13,
    "start_time": "2022-11-18T18:51:52.981Z"
   },
   {
    "duration": 32,
    "start_time": "2022-11-18T18:51:52.995Z"
   },
   {
    "duration": 219,
    "start_time": "2022-11-18T18:51:53.029Z"
   },
   {
    "duration": 21,
    "start_time": "2022-11-18T18:51:53.250Z"
   },
   {
    "duration": 19,
    "start_time": "2022-11-18T18:51:53.273Z"
   },
   {
    "duration": 45,
    "start_time": "2022-11-18T18:51:53.294Z"
   },
   {
    "duration": 21,
    "start_time": "2022-11-18T18:51:53.341Z"
   },
   {
    "duration": 262,
    "start_time": "2022-11-18T18:51:53.363Z"
   },
   {
    "duration": 175,
    "start_time": "2022-11-18T18:51:53.626Z"
   },
   {
    "duration": 10,
    "start_time": "2022-11-18T18:51:53.803Z"
   },
   {
    "duration": 10,
    "start_time": "2022-11-18T18:51:53.821Z"
   },
   {
    "duration": 18,
    "start_time": "2022-11-18T18:52:18.693Z"
   },
   {
    "duration": 12,
    "start_time": "2022-11-18T18:52:23.494Z"
   },
   {
    "duration": 12,
    "start_time": "2022-11-18T18:52:26.253Z"
   },
   {
    "duration": 13,
    "start_time": "2022-11-18T18:52:29.231Z"
   },
   {
    "duration": 96,
    "start_time": "2022-11-18T18:52:42.575Z"
   },
   {
    "duration": 750,
    "start_time": "2022-11-18T18:52:48.014Z"
   },
   {
    "duration": 9,
    "start_time": "2022-11-18T18:53:01.910Z"
   },
   {
    "duration": 740,
    "start_time": "2022-11-18T18:53:14.128Z"
   },
   {
    "duration": 758,
    "start_time": "2022-11-18T18:53:21.084Z"
   },
   {
    "duration": 12,
    "start_time": "2022-11-18T18:53:42.050Z"
   },
   {
    "duration": 9,
    "start_time": "2022-11-18T18:53:43.065Z"
   },
   {
    "duration": 10,
    "start_time": "2022-11-18T18:53:43.457Z"
   },
   {
    "duration": 9,
    "start_time": "2022-11-18T18:53:43.638Z"
   },
   {
    "duration": 9,
    "start_time": "2022-11-18T18:53:43.751Z"
   },
   {
    "duration": 5,
    "start_time": "2022-11-18T18:59:34.608Z"
   },
   {
    "duration": 13,
    "start_time": "2022-11-18T18:59:53.586Z"
   },
   {
    "duration": 13,
    "start_time": "2022-11-18T19:00:12.419Z"
   },
   {
    "duration": 98,
    "start_time": "2022-11-18T19:00:29.529Z"
   },
   {
    "duration": 12,
    "start_time": "2022-11-18T19:00:54.203Z"
   },
   {
    "duration": 10,
    "start_time": "2022-11-18T19:00:54.650Z"
   },
   {
    "duration": 10,
    "start_time": "2022-11-18T19:00:55.510Z"
   },
   {
    "duration": 9,
    "start_time": "2022-11-18T19:00:57.495Z"
   },
   {
    "duration": 10,
    "start_time": "2022-11-18T19:00:57.940Z"
   },
   {
    "duration": 11,
    "start_time": "2022-11-18T19:01:08.200Z"
   },
   {
    "duration": 9,
    "start_time": "2022-11-18T19:01:42.519Z"
   },
   {
    "duration": 11,
    "start_time": "2022-11-18T19:01:49.278Z"
   },
   {
    "duration": 11,
    "start_time": "2022-11-18T19:02:31.318Z"
   },
   {
    "duration": 10,
    "start_time": "2022-11-18T19:02:36.618Z"
   },
   {
    "duration": 17,
    "start_time": "2022-11-18T19:02:56.725Z"
   },
   {
    "duration": 12,
    "start_time": "2022-11-18T19:03:02.084Z"
   },
   {
    "duration": 10,
    "start_time": "2022-11-18T19:03:02.862Z"
   },
   {
    "duration": 10,
    "start_time": "2022-11-18T19:03:03.554Z"
   },
   {
    "duration": 8,
    "start_time": "2022-11-18T19:06:03.277Z"
   },
   {
    "duration": 6,
    "start_time": "2022-11-18T19:06:06.992Z"
   },
   {
    "duration": 11,
    "start_time": "2022-11-18T19:07:36.155Z"
   },
   {
    "duration": 8,
    "start_time": "2022-11-18T19:07:41.124Z"
   },
   {
    "duration": 10,
    "start_time": "2022-11-18T19:07:56.614Z"
   },
   {
    "duration": 9,
    "start_time": "2022-11-18T19:07:57.191Z"
   },
   {
    "duration": 9,
    "start_time": "2022-11-18T19:10:01.992Z"
   },
   {
    "duration": 21,
    "start_time": "2022-11-18T19:10:07.087Z"
   },
   {
    "duration": 9,
    "start_time": "2022-11-18T19:11:08.218Z"
   },
   {
    "duration": 13,
    "start_time": "2022-11-18T19:11:13.584Z"
   },
   {
    "duration": 56,
    "start_time": "2022-11-18T19:11:20.033Z"
   },
   {
    "duration": 13,
    "start_time": "2022-11-18T19:11:23.155Z"
   },
   {
    "duration": 79,
    "start_time": "2022-11-18T19:11:36.181Z"
   },
   {
    "duration": 3,
    "start_time": "2022-11-18T19:12:42.946Z"
   },
   {
    "duration": 4,
    "start_time": "2022-11-18T19:13:03.664Z"
   },
   {
    "duration": 4,
    "start_time": "2022-11-18T19:13:06.372Z"
   },
   {
    "duration": 6,
    "start_time": "2022-11-18T19:13:35.425Z"
   },
   {
    "duration": 8,
    "start_time": "2022-11-18T19:14:09.503Z"
   },
   {
    "duration": 4,
    "start_time": "2022-11-18T19:14:12.451Z"
   },
   {
    "duration": 4,
    "start_time": "2022-11-18T19:14:16.047Z"
   },
   {
    "duration": 13,
    "start_time": "2022-11-18T19:15:48.382Z"
   },
   {
    "duration": 15,
    "start_time": "2022-11-18T19:15:55.470Z"
   },
   {
    "duration": 256,
    "start_time": "2022-11-18T19:16:02.128Z"
   },
   {
    "duration": 104,
    "start_time": "2022-11-18T19:17:08.793Z"
   },
   {
    "duration": 22,
    "start_time": "2022-11-18T19:20:41.139Z"
   },
   {
    "duration": 13,
    "start_time": "2022-11-18T19:20:48.230Z"
   },
   {
    "duration": 22,
    "start_time": "2022-11-18T19:21:15.307Z"
   },
   {
    "duration": 14,
    "start_time": "2022-11-18T19:21:26.537Z"
   },
   {
    "duration": 14,
    "start_time": "2022-11-18T19:21:44.990Z"
   },
   {
    "duration": 14,
    "start_time": "2022-11-18T19:21:50.394Z"
   },
   {
    "duration": 14,
    "start_time": "2022-11-18T19:22:06.138Z"
   },
   {
    "duration": 16,
    "start_time": "2022-11-18T19:22:14.242Z"
   },
   {
    "duration": 13,
    "start_time": "2022-11-18T19:22:19.102Z"
   },
   {
    "duration": 13,
    "start_time": "2022-11-18T19:22:58.795Z"
   },
   {
    "duration": 9,
    "start_time": "2022-11-18T19:25:14.885Z"
   },
   {
    "duration": 8,
    "start_time": "2022-11-18T19:25:17.775Z"
   },
   {
    "duration": 4,
    "start_time": "2022-11-18T19:25:32.654Z"
   },
   {
    "duration": 14,
    "start_time": "2022-11-18T19:25:57.936Z"
   },
   {
    "duration": 8,
    "start_time": "2022-11-18T19:31:39.851Z"
   },
   {
    "duration": 10,
    "start_time": "2022-11-18T19:31:45.583Z"
   },
   {
    "duration": 28,
    "start_time": "2022-11-18T19:32:23.491Z"
   },
   {
    "duration": 10,
    "start_time": "2022-11-18T19:32:29.399Z"
   },
   {
    "duration": 9,
    "start_time": "2022-11-18T19:32:42.639Z"
   },
   {
    "duration": 19,
    "start_time": "2022-11-18T19:34:51.731Z"
   },
   {
    "duration": 7,
    "start_time": "2022-11-18T19:35:12.536Z"
   },
   {
    "duration": 6,
    "start_time": "2022-11-18T19:35:35.188Z"
   },
   {
    "duration": 6,
    "start_time": "2022-11-18T19:35:40.813Z"
   },
   {
    "duration": 5,
    "start_time": "2022-11-18T19:37:10.217Z"
   },
   {
    "duration": 13,
    "start_time": "2022-11-18T19:39:08.169Z"
   },
   {
    "duration": 21,
    "start_time": "2022-11-18T19:39:45.473Z"
   },
   {
    "duration": 6,
    "start_time": "2022-11-18T19:40:31.626Z"
   },
   {
    "duration": 11,
    "start_time": "2022-11-18T19:40:36.272Z"
   },
   {
    "duration": 251,
    "start_time": "2022-11-18T19:40:45.538Z"
   },
   {
    "duration": 100,
    "start_time": "2022-11-18T19:41:26.796Z"
   },
   {
    "duration": 305,
    "start_time": "2022-11-18T19:41:30.423Z"
   },
   {
    "duration": 298,
    "start_time": "2022-11-18T19:41:58.802Z"
   },
   {
    "duration": 6,
    "start_time": "2022-11-18T19:42:13.719Z"
   },
   {
    "duration": 359,
    "start_time": "2022-11-18T19:42:46.070Z"
   },
   {
    "duration": 293,
    "start_time": "2022-11-18T19:42:51.128Z"
   },
   {
    "duration": 492,
    "start_time": "2022-11-18T19:42:53.797Z"
   },
   {
    "duration": 963,
    "start_time": "2022-11-18T19:43:01.745Z"
   },
   {
    "duration": 287,
    "start_time": "2022-11-18T19:43:10.224Z"
   },
   {
    "duration": 12,
    "start_time": "2022-11-18T19:43:59.492Z"
   },
   {
    "duration": 10,
    "start_time": "2022-11-18T19:44:52.966Z"
   },
   {
    "duration": 4,
    "start_time": "2022-11-18T19:44:58.715Z"
   },
   {
    "duration": 6,
    "start_time": "2022-11-18T19:45:03.392Z"
   },
   {
    "duration": 11,
    "start_time": "2022-11-18T19:45:12.594Z"
   },
   {
    "duration": 4,
    "start_time": "2022-11-18T19:45:20.675Z"
   },
   {
    "duration": 186,
    "start_time": "2022-11-18T19:45:55.135Z"
   },
   {
    "duration": 173,
    "start_time": "2022-11-18T19:46:36.296Z"
   },
   {
    "duration": 170,
    "start_time": "2022-11-18T19:47:11.850Z"
   },
   {
    "duration": 184,
    "start_time": "2022-11-18T19:47:38.991Z"
   },
   {
    "duration": 161,
    "start_time": "2022-11-18T19:47:45.589Z"
   },
   {
    "duration": 171,
    "start_time": "2022-11-18T19:47:59.796Z"
   },
   {
    "duration": 236,
    "start_time": "2022-11-18T19:48:09.245Z"
   },
   {
    "duration": 164,
    "start_time": "2022-11-18T19:48:23.475Z"
   },
   {
    "duration": 73,
    "start_time": "2022-11-18T19:48:26.040Z"
   },
   {
    "duration": 10,
    "start_time": "2022-11-18T19:49:05.810Z"
   },
   {
    "duration": 12,
    "start_time": "2022-11-18T19:49:16.305Z"
   },
   {
    "duration": 99,
    "start_time": "2022-11-18T19:49:21.483Z"
   },
   {
    "duration": 7,
    "start_time": "2022-11-18T19:56:22.630Z"
   },
   {
    "duration": 4,
    "start_time": "2022-11-18T19:58:50.221Z"
   },
   {
    "duration": 6,
    "start_time": "2022-11-18T19:58:57.977Z"
   },
   {
    "duration": 6,
    "start_time": "2022-11-18T19:59:52.775Z"
   },
   {
    "duration": 8,
    "start_time": "2022-11-18T20:00:24.863Z"
   },
   {
    "duration": 10,
    "start_time": "2022-11-18T20:00:30.381Z"
   },
   {
    "duration": 6,
    "start_time": "2022-11-18T20:00:34.273Z"
   },
   {
    "duration": 10,
    "start_time": "2022-11-18T20:01:40.832Z"
   },
   {
    "duration": 8,
    "start_time": "2022-11-18T20:01:46.813Z"
   },
   {
    "duration": 8,
    "start_time": "2022-11-18T20:01:49.947Z"
   },
   {
    "duration": 9,
    "start_time": "2022-11-18T20:01:58.456Z"
   },
   {
    "duration": 7,
    "start_time": "2022-11-18T20:02:08.486Z"
   },
   {
    "duration": 242,
    "start_time": "2022-11-18T20:02:55.017Z"
   },
   {
    "duration": 11,
    "start_time": "2022-11-18T20:03:05.773Z"
   },
   {
    "duration": 741,
    "start_time": "2022-11-18T20:03:32.037Z"
   },
   {
    "duration": 804,
    "start_time": "2022-11-18T20:05:06.314Z"
   },
   {
    "duration": 221,
    "start_time": "2022-11-18T20:05:14.097Z"
   },
   {
    "duration": 850,
    "start_time": "2022-11-18T20:05:45.074Z"
   },
   {
    "duration": 217,
    "start_time": "2022-11-18T20:05:55.884Z"
   },
   {
    "duration": 219,
    "start_time": "2022-11-18T20:06:19.243Z"
   },
   {
    "duration": 1138,
    "start_time": "2022-11-18T20:07:14.406Z"
   },
   {
    "duration": 50,
    "start_time": "2022-11-18T20:07:15.546Z"
   },
   {
    "duration": 61,
    "start_time": "2022-11-18T20:07:15.597Z"
   },
   {
    "duration": 27,
    "start_time": "2022-11-18T20:07:15.661Z"
   },
   {
    "duration": 14,
    "start_time": "2022-11-18T20:07:15.690Z"
   },
   {
    "duration": 24,
    "start_time": "2022-11-18T20:07:15.706Z"
   },
   {
    "duration": 12,
    "start_time": "2022-11-18T20:07:15.731Z"
   },
   {
    "duration": 18,
    "start_time": "2022-11-18T20:07:15.744Z"
   },
   {
    "duration": 10,
    "start_time": "2022-11-18T20:07:15.763Z"
   },
   {
    "duration": 45,
    "start_time": "2022-11-18T20:07:15.776Z"
   },
   {
    "duration": 2,
    "start_time": "2022-11-18T20:07:15.823Z"
   },
   {
    "duration": 14,
    "start_time": "2022-11-18T20:07:15.826Z"
   },
   {
    "duration": 11,
    "start_time": "2022-11-18T20:07:15.841Z"
   },
   {
    "duration": 8,
    "start_time": "2022-11-18T20:07:15.853Z"
   },
   {
    "duration": 20,
    "start_time": "2022-11-18T20:07:15.862Z"
   },
   {
    "duration": 9,
    "start_time": "2022-11-18T20:07:15.884Z"
   },
   {
    "duration": 41,
    "start_time": "2022-11-18T20:07:15.894Z"
   },
   {
    "duration": 23,
    "start_time": "2022-11-18T20:07:15.937Z"
   },
   {
    "duration": 5,
    "start_time": "2022-11-18T20:07:15.962Z"
   },
   {
    "duration": 13,
    "start_time": "2022-11-18T20:07:15.968Z"
   },
   {
    "duration": 3,
    "start_time": "2022-11-18T20:07:15.982Z"
   },
   {
    "duration": 16,
    "start_time": "2022-11-18T20:07:15.987Z"
   },
   {
    "duration": 21,
    "start_time": "2022-11-18T20:07:16.022Z"
   },
   {
    "duration": 18,
    "start_time": "2022-11-18T20:07:16.045Z"
   },
   {
    "duration": 192,
    "start_time": "2022-11-18T20:07:16.065Z"
   },
   {
    "duration": 239,
    "start_time": "2022-11-18T20:07:16.258Z"
   },
   {
    "duration": 182,
    "start_time": "2022-11-18T20:07:16.498Z"
   },
   {
    "duration": 172,
    "start_time": "2022-11-18T20:07:16.684Z"
   },
   {
    "duration": 170,
    "start_time": "2022-11-18T20:07:16.857Z"
   },
   {
    "duration": 167,
    "start_time": "2022-11-18T20:07:17.028Z"
   },
   {
    "duration": 157,
    "start_time": "2022-11-18T20:07:17.197Z"
   },
   {
    "duration": 224,
    "start_time": "2022-11-18T20:07:17.355Z"
   },
   {
    "duration": 5,
    "start_time": "2022-11-18T20:07:17.581Z"
   },
   {
    "duration": 153,
    "start_time": "2022-11-18T20:07:17.587Z"
   },
   {
    "duration": 125,
    "start_time": "2022-11-18T20:07:17.742Z"
   },
   {
    "duration": 115,
    "start_time": "2022-11-18T20:07:17.868Z"
   },
   {
    "duration": 111,
    "start_time": "2022-11-18T20:07:17.984Z"
   },
   {
    "duration": 125,
    "start_time": "2022-11-18T20:07:18.097Z"
   },
   {
    "duration": 126,
    "start_time": "2022-11-18T20:07:18.224Z"
   },
   {
    "duration": 111,
    "start_time": "2022-11-18T20:07:18.352Z"
   },
   {
    "duration": 124,
    "start_time": "2022-11-18T20:07:18.464Z"
   },
   {
    "duration": 121,
    "start_time": "2022-11-18T20:07:18.589Z"
   },
   {
    "duration": 130,
    "start_time": "2022-11-18T20:07:18.712Z"
   },
   {
    "duration": 117,
    "start_time": "2022-11-18T20:07:18.844Z"
   },
   {
    "duration": 3,
    "start_time": "2022-11-18T20:07:18.963Z"
   },
   {
    "duration": 379,
    "start_time": "2022-11-18T20:07:18.968Z"
   },
   {
    "duration": 23,
    "start_time": "2022-11-18T20:07:19.349Z"
   },
   {
    "duration": 276,
    "start_time": "2022-11-18T20:07:19.374Z"
   },
   {
    "duration": 293,
    "start_time": "2022-11-18T20:07:19.652Z"
   },
   {
    "duration": 258,
    "start_time": "2022-11-18T20:07:19.947Z"
   },
   {
    "duration": 267,
    "start_time": "2022-11-18T20:07:20.206Z"
   },
   {
    "duration": 262,
    "start_time": "2022-11-18T20:07:20.474Z"
   },
   {
    "duration": 267,
    "start_time": "2022-11-18T20:07:20.738Z"
   },
   {
    "duration": 215,
    "start_time": "2022-11-18T20:07:21.007Z"
   },
   {
    "duration": 6,
    "start_time": "2022-11-18T20:07:21.224Z"
   },
   {
    "duration": 194,
    "start_time": "2022-11-18T20:07:21.231Z"
   },
   {
    "duration": 237,
    "start_time": "2022-11-18T20:07:21.426Z"
   },
   {
    "duration": 272,
    "start_time": "2022-11-18T20:07:21.665Z"
   },
   {
    "duration": 246,
    "start_time": "2022-11-18T20:07:21.939Z"
   },
   {
    "duration": 236,
    "start_time": "2022-11-18T20:07:22.186Z"
   },
   {
    "duration": 267,
    "start_time": "2022-11-18T20:07:22.424Z"
   },
   {
    "duration": 313,
    "start_time": "2022-11-18T20:07:22.692Z"
   },
   {
    "duration": 15,
    "start_time": "2022-11-18T20:07:23.006Z"
   },
   {
    "duration": 14,
    "start_time": "2022-11-18T20:07:23.023Z"
   },
   {
    "duration": 151,
    "start_time": "2022-11-18T20:08:13.572Z"
   },
   {
    "duration": 186,
    "start_time": "2022-11-18T20:08:57.977Z"
   },
   {
    "duration": 213,
    "start_time": "2022-11-18T20:09:07.680Z"
   },
   {
    "duration": 8,
    "start_time": "2022-11-18T20:09:14.660Z"
   },
   {
    "duration": 10,
    "start_time": "2022-11-18T20:09:28.065Z"
   },
   {
    "duration": 219,
    "start_time": "2022-11-18T20:09:38.757Z"
   },
   {
    "duration": 225,
    "start_time": "2022-11-18T20:09:41.918Z"
   },
   {
    "duration": 241,
    "start_time": "2022-11-18T20:09:42.617Z"
   },
   {
    "duration": 8,
    "start_time": "2022-11-18T20:12:10.913Z"
   },
   {
    "duration": 8,
    "start_time": "2022-11-18T20:12:19.625Z"
   },
   {
    "duration": 10,
    "start_time": "2022-11-18T20:12:22.772Z"
   },
   {
    "duration": 1266,
    "start_time": "2022-11-19T11:30:56.276Z"
   },
   {
    "duration": 194,
    "start_time": "2022-11-19T11:30:57.544Z"
   },
   {
    "duration": 52,
    "start_time": "2022-11-19T11:30:57.739Z"
   },
   {
    "duration": 20,
    "start_time": "2022-11-19T11:30:57.792Z"
   },
   {
    "duration": 18,
    "start_time": "2022-11-19T11:30:57.815Z"
   },
   {
    "duration": 29,
    "start_time": "2022-11-19T11:30:57.834Z"
   },
   {
    "duration": 21,
    "start_time": "2022-11-19T11:30:57.865Z"
   },
   {
    "duration": 19,
    "start_time": "2022-11-19T11:30:57.888Z"
   },
   {
    "duration": 12,
    "start_time": "2022-11-19T11:30:57.909Z"
   },
   {
    "duration": 42,
    "start_time": "2022-11-19T11:30:57.923Z"
   },
   {
    "duration": 3,
    "start_time": "2022-11-19T11:30:57.967Z"
   },
   {
    "duration": 10,
    "start_time": "2022-11-19T11:30:57.971Z"
   },
   {
    "duration": 8,
    "start_time": "2022-11-19T11:30:57.982Z"
   },
   {
    "duration": 9,
    "start_time": "2022-11-19T11:30:57.992Z"
   },
   {
    "duration": 51,
    "start_time": "2022-11-19T11:30:58.003Z"
   },
   {
    "duration": 9,
    "start_time": "2022-11-19T11:30:58.055Z"
   },
   {
    "duration": 21,
    "start_time": "2022-11-19T11:30:58.065Z"
   },
   {
    "duration": 25,
    "start_time": "2022-11-19T11:30:58.087Z"
   },
   {
    "duration": 6,
    "start_time": "2022-11-19T11:30:58.114Z"
   },
   {
    "duration": 13,
    "start_time": "2022-11-19T11:30:58.153Z"
   },
   {
    "duration": 4,
    "start_time": "2022-11-19T11:30:58.168Z"
   },
   {
    "duration": 19,
    "start_time": "2022-11-19T11:30:58.173Z"
   },
   {
    "duration": 21,
    "start_time": "2022-11-19T11:30:58.194Z"
   },
   {
    "duration": 13,
    "start_time": "2022-11-19T11:30:58.217Z"
   },
   {
    "duration": 213,
    "start_time": "2022-11-19T11:30:58.232Z"
   },
   {
    "duration": 254,
    "start_time": "2022-11-19T11:30:58.447Z"
   },
   {
    "duration": 178,
    "start_time": "2022-11-19T11:30:58.703Z"
   },
   {
    "duration": 178,
    "start_time": "2022-11-19T11:30:58.883Z"
   },
   {
    "duration": 176,
    "start_time": "2022-11-19T11:30:59.063Z"
   },
   {
    "duration": 172,
    "start_time": "2022-11-19T11:30:59.241Z"
   },
   {
    "duration": 174,
    "start_time": "2022-11-19T11:30:59.415Z"
   },
   {
    "duration": 225,
    "start_time": "2022-11-19T11:30:59.591Z"
   },
   {
    "duration": 5,
    "start_time": "2022-11-19T11:30:59.818Z"
   },
   {
    "duration": 154,
    "start_time": "2022-11-19T11:30:59.825Z"
   },
   {
    "duration": 130,
    "start_time": "2022-11-19T11:30:59.980Z"
   },
   {
    "duration": 165,
    "start_time": "2022-11-19T11:31:00.111Z"
   },
   {
    "duration": 136,
    "start_time": "2022-11-19T11:31:00.277Z"
   },
   {
    "duration": 124,
    "start_time": "2022-11-19T11:31:00.414Z"
   },
   {
    "duration": 142,
    "start_time": "2022-11-19T11:31:00.540Z"
   },
   {
    "duration": 121,
    "start_time": "2022-11-19T11:31:00.683Z"
   },
   {
    "duration": 127,
    "start_time": "2022-11-19T11:31:00.808Z"
   },
   {
    "duration": 134,
    "start_time": "2022-11-19T11:31:00.936Z"
   },
   {
    "duration": 127,
    "start_time": "2022-11-19T11:31:01.072Z"
   },
   {
    "duration": 126,
    "start_time": "2022-11-19T11:31:01.200Z"
   },
   {
    "duration": 3,
    "start_time": "2022-11-19T11:31:01.327Z"
   },
   {
    "duration": 360,
    "start_time": "2022-11-19T11:31:01.331Z"
   },
   {
    "duration": 24,
    "start_time": "2022-11-19T11:31:01.693Z"
   },
   {
    "duration": 272,
    "start_time": "2022-11-19T11:31:01.718Z"
   },
   {
    "duration": 280,
    "start_time": "2022-11-19T11:31:01.991Z"
   },
   {
    "duration": 334,
    "start_time": "2022-11-19T11:31:02.272Z"
   },
   {
    "duration": 301,
    "start_time": "2022-11-19T11:31:02.608Z"
   },
   {
    "duration": 300,
    "start_time": "2022-11-19T11:31:02.911Z"
   },
   {
    "duration": 304,
    "start_time": "2022-11-19T11:31:03.212Z"
   },
   {
    "duration": 248,
    "start_time": "2022-11-19T11:31:03.518Z"
   },
   {
    "duration": 5,
    "start_time": "2022-11-19T11:31:03.767Z"
   },
   {
    "duration": 195,
    "start_time": "2022-11-19T11:31:03.774Z"
   },
   {
    "duration": 234,
    "start_time": "2022-11-19T11:31:03.971Z"
   },
   {
    "duration": 286,
    "start_time": "2022-11-19T11:31:04.207Z"
   },
   {
    "duration": 9,
    "start_time": "2022-11-19T11:31:04.495Z"
   },
   {
    "duration": 278,
    "start_time": "2022-11-19T11:31:04.506Z"
   },
   {
    "duration": 10,
    "start_time": "2022-11-19T11:31:04.786Z"
   },
   {
    "duration": 276,
    "start_time": "2022-11-19T11:31:04.797Z"
   },
   {
    "duration": 9,
    "start_time": "2022-11-19T11:31:05.075Z"
   },
   {
    "duration": 276,
    "start_time": "2022-11-19T11:31:05.085Z"
   },
   {
    "duration": 292,
    "start_time": "2022-11-19T11:31:05.363Z"
   },
   {
    "duration": 10,
    "start_time": "2022-11-19T11:31:05.656Z"
   },
   {
    "duration": 10,
    "start_time": "2022-11-19T11:31:05.667Z"
   },
   {
    "duration": 5,
    "start_time": "2022-11-19T11:41:54.565Z"
   },
   {
    "duration": 5,
    "start_time": "2022-11-19T12:01:22.330Z"
   },
   {
    "duration": 4,
    "start_time": "2022-11-19T12:02:13.176Z"
   },
   {
    "duration": 52,
    "start_time": "2022-11-19T12:53:46.691Z"
   },
   {
    "duration": 1313,
    "start_time": "2022-11-19T12:53:52.280Z"
   },
   {
    "duration": 105,
    "start_time": "2022-11-19T12:53:53.595Z"
   },
   {
    "duration": 78,
    "start_time": "2022-11-19T12:53:53.702Z"
   },
   {
    "duration": 30,
    "start_time": "2022-11-19T12:53:53.783Z"
   },
   {
    "duration": 40,
    "start_time": "2022-11-19T12:53:53.820Z"
   },
   {
    "duration": 29,
    "start_time": "2022-11-19T12:53:53.862Z"
   },
   {
    "duration": 17,
    "start_time": "2022-11-19T12:53:53.893Z"
   },
   {
    "duration": 29,
    "start_time": "2022-11-19T12:53:53.912Z"
   },
   {
    "duration": 35,
    "start_time": "2022-11-19T12:53:53.943Z"
   },
   {
    "duration": 25,
    "start_time": "2022-11-19T12:53:53.981Z"
   },
   {
    "duration": 5,
    "start_time": "2022-11-19T12:53:54.008Z"
   },
   {
    "duration": 20,
    "start_time": "2022-11-19T12:53:54.015Z"
   },
   {
    "duration": 8,
    "start_time": "2022-11-19T12:53:54.037Z"
   },
   {
    "duration": 9,
    "start_time": "2022-11-19T12:53:54.047Z"
   },
   {
    "duration": 44,
    "start_time": "2022-11-19T12:53:54.058Z"
   },
   {
    "duration": 11,
    "start_time": "2022-11-19T12:53:54.104Z"
   },
   {
    "duration": 33,
    "start_time": "2022-11-19T12:53:54.117Z"
   },
   {
    "duration": 45,
    "start_time": "2022-11-19T12:53:54.152Z"
   },
   {
    "duration": 25,
    "start_time": "2022-11-19T12:53:54.199Z"
   },
   {
    "duration": 30,
    "start_time": "2022-11-19T12:53:54.225Z"
   },
   {
    "duration": 4,
    "start_time": "2022-11-19T12:53:54.257Z"
   },
   {
    "duration": 10,
    "start_time": "2022-11-19T12:53:54.263Z"
   },
   {
    "duration": 32,
    "start_time": "2022-11-19T12:53:54.274Z"
   },
   {
    "duration": 24,
    "start_time": "2022-11-19T12:53:54.308Z"
   },
   {
    "duration": 199,
    "start_time": "2022-11-19T12:53:54.334Z"
   },
   {
    "duration": 323,
    "start_time": "2022-11-19T12:53:54.535Z"
   },
   {
    "duration": 260,
    "start_time": "2022-11-19T12:53:54.861Z"
   },
   {
    "duration": 216,
    "start_time": "2022-11-19T12:53:55.126Z"
   },
   {
    "duration": 252,
    "start_time": "2022-11-19T12:53:55.344Z"
   },
   {
    "duration": 220,
    "start_time": "2022-11-19T12:53:55.599Z"
   },
   {
    "duration": 192,
    "start_time": "2022-11-19T12:53:55.820Z"
   },
   {
    "duration": 279,
    "start_time": "2022-11-19T12:53:56.015Z"
   },
   {
    "duration": 8,
    "start_time": "2022-11-19T12:53:56.296Z"
   },
   {
    "duration": 163,
    "start_time": "2022-11-19T12:53:56.305Z"
   },
   {
    "duration": 133,
    "start_time": "2022-11-19T12:53:56.471Z"
   },
   {
    "duration": 130,
    "start_time": "2022-11-19T12:53:56.605Z"
   },
   {
    "duration": 123,
    "start_time": "2022-11-19T12:53:56.737Z"
   },
   {
    "duration": 155,
    "start_time": "2022-11-19T12:53:56.862Z"
   },
   {
    "duration": 185,
    "start_time": "2022-11-19T12:53:57.019Z"
   },
   {
    "duration": 139,
    "start_time": "2022-11-19T12:53:57.206Z"
   },
   {
    "duration": 148,
    "start_time": "2022-11-19T12:53:57.346Z"
   },
   {
    "duration": 155,
    "start_time": "2022-11-19T12:53:57.496Z"
   },
   {
    "duration": 151,
    "start_time": "2022-11-19T12:53:57.653Z"
   },
   {
    "duration": 129,
    "start_time": "2022-11-19T12:53:57.806Z"
   },
   {
    "duration": 3,
    "start_time": "2022-11-19T12:53:57.936Z"
   },
   {
    "duration": 348,
    "start_time": "2022-11-19T12:53:57.941Z"
   },
   {
    "duration": 24,
    "start_time": "2022-11-19T12:53:58.290Z"
   },
   {
    "duration": 295,
    "start_time": "2022-11-19T12:53:58.316Z"
   },
   {
    "duration": 296,
    "start_time": "2022-11-19T12:53:58.613Z"
   },
   {
    "duration": 283,
    "start_time": "2022-11-19T12:53:58.911Z"
   },
   {
    "duration": 269,
    "start_time": "2022-11-19T12:53:59.196Z"
   },
   {
    "duration": 287,
    "start_time": "2022-11-19T12:53:59.467Z"
   },
   {
    "duration": 292,
    "start_time": "2022-11-19T12:53:59.756Z"
   },
   {
    "duration": 257,
    "start_time": "2022-11-19T12:54:00.050Z"
   },
   {
    "duration": 6,
    "start_time": "2022-11-19T12:54:00.309Z"
   },
   {
    "duration": 200,
    "start_time": "2022-11-19T12:54:00.317Z"
   },
   {
    "duration": 244,
    "start_time": "2022-11-19T12:54:00.520Z"
   },
   {
    "duration": 253,
    "start_time": "2022-11-19T12:54:00.765Z"
   },
   {
    "duration": 9,
    "start_time": "2022-11-19T12:54:01.019Z"
   },
   {
    "duration": 281,
    "start_time": "2022-11-19T12:54:01.030Z"
   },
   {
    "duration": 13,
    "start_time": "2022-11-19T12:54:01.313Z"
   },
   {
    "duration": 41,
    "start_time": "2022-11-19T12:54:01.328Z"
   },
   {
    "duration": 0,
    "start_time": "2022-11-19T12:54:01.370Z"
   },
   {
    "duration": 0,
    "start_time": "2022-11-19T12:54:01.372Z"
   },
   {
    "duration": 0,
    "start_time": "2022-11-19T12:54:01.373Z"
   },
   {
    "duration": 0,
    "start_time": "2022-11-19T12:54:01.374Z"
   },
   {
    "duration": 0,
    "start_time": "2022-11-19T12:54:01.375Z"
   },
   {
    "duration": 44,
    "start_time": "2022-11-19T12:54:26.649Z"
   },
   {
    "duration": 276,
    "start_time": "2022-11-19T12:54:34.501Z"
   },
   {
    "duration": 1174,
    "start_time": "2022-11-19T12:54:44.433Z"
   },
   {
    "duration": 51,
    "start_time": "2022-11-19T12:54:45.608Z"
   },
   {
    "duration": 53,
    "start_time": "2022-11-19T12:54:45.661Z"
   },
   {
    "duration": 20,
    "start_time": "2022-11-19T12:54:45.716Z"
   },
   {
    "duration": 34,
    "start_time": "2022-11-19T12:54:45.737Z"
   },
   {
    "duration": 22,
    "start_time": "2022-11-19T12:54:45.776Z"
   },
   {
    "duration": 42,
    "start_time": "2022-11-19T12:54:45.799Z"
   },
   {
    "duration": 20,
    "start_time": "2022-11-19T12:54:45.842Z"
   },
   {
    "duration": 32,
    "start_time": "2022-11-19T12:54:45.863Z"
   },
   {
    "duration": 34,
    "start_time": "2022-11-19T12:54:45.898Z"
   },
   {
    "duration": 2,
    "start_time": "2022-11-19T12:54:45.933Z"
   },
   {
    "duration": 38,
    "start_time": "2022-11-19T12:54:45.937Z"
   },
   {
    "duration": 8,
    "start_time": "2022-11-19T12:54:45.976Z"
   },
   {
    "duration": 13,
    "start_time": "2022-11-19T12:54:45.985Z"
   },
   {
    "duration": 47,
    "start_time": "2022-11-19T12:54:46.000Z"
   },
   {
    "duration": 12,
    "start_time": "2022-11-19T12:54:46.048Z"
   },
   {
    "duration": 40,
    "start_time": "2022-11-19T12:54:46.062Z"
   },
   {
    "duration": 40,
    "start_time": "2022-11-19T12:54:46.105Z"
   },
   {
    "duration": 19,
    "start_time": "2022-11-19T12:54:46.147Z"
   },
   {
    "duration": 60,
    "start_time": "2022-11-19T12:54:46.168Z"
   },
   {
    "duration": 10,
    "start_time": "2022-11-19T12:54:46.230Z"
   },
   {
    "duration": 28,
    "start_time": "2022-11-19T12:54:46.242Z"
   },
   {
    "duration": 50,
    "start_time": "2022-11-19T12:54:46.272Z"
   },
   {
    "duration": 14,
    "start_time": "2022-11-19T12:54:46.324Z"
   },
   {
    "duration": 232,
    "start_time": "2022-11-19T12:54:46.340Z"
   },
   {
    "duration": 301,
    "start_time": "2022-11-19T12:54:46.576Z"
   },
   {
    "duration": 178,
    "start_time": "2022-11-19T12:54:46.879Z"
   },
   {
    "duration": 170,
    "start_time": "2022-11-19T12:54:47.060Z"
   },
   {
    "duration": 178,
    "start_time": "2022-11-19T12:54:47.231Z"
   },
   {
    "duration": 183,
    "start_time": "2022-11-19T12:54:47.411Z"
   },
   {
    "duration": 213,
    "start_time": "2022-11-19T12:54:47.595Z"
   },
   {
    "duration": 234,
    "start_time": "2022-11-19T12:54:47.810Z"
   },
   {
    "duration": 6,
    "start_time": "2022-11-19T12:54:48.046Z"
   },
   {
    "duration": 173,
    "start_time": "2022-11-19T12:54:48.053Z"
   },
   {
    "duration": 128,
    "start_time": "2022-11-19T12:54:48.228Z"
   },
   {
    "duration": 136,
    "start_time": "2022-11-19T12:54:48.358Z"
   },
   {
    "duration": 121,
    "start_time": "2022-11-19T12:54:48.496Z"
   },
   {
    "duration": 127,
    "start_time": "2022-11-19T12:54:48.619Z"
   },
   {
    "duration": 133,
    "start_time": "2022-11-19T12:54:48.747Z"
   },
   {
    "duration": 132,
    "start_time": "2022-11-19T12:54:48.882Z"
   },
   {
    "duration": 133,
    "start_time": "2022-11-19T12:54:49.016Z"
   },
   {
    "duration": 154,
    "start_time": "2022-11-19T12:54:49.151Z"
   },
   {
    "duration": 172,
    "start_time": "2022-11-19T12:54:49.307Z"
   },
   {
    "duration": 133,
    "start_time": "2022-11-19T12:54:49.481Z"
   },
   {
    "duration": 3,
    "start_time": "2022-11-19T12:54:49.616Z"
   },
   {
    "duration": 357,
    "start_time": "2022-11-19T12:54:49.621Z"
   },
   {
    "duration": 30,
    "start_time": "2022-11-19T12:54:49.980Z"
   },
   {
    "duration": 292,
    "start_time": "2022-11-19T12:54:50.012Z"
   },
   {
    "duration": 277,
    "start_time": "2022-11-19T12:54:50.306Z"
   },
   {
    "duration": 279,
    "start_time": "2022-11-19T12:54:50.586Z"
   },
   {
    "duration": 246,
    "start_time": "2022-11-19T12:54:50.867Z"
   },
   {
    "duration": 277,
    "start_time": "2022-11-19T12:54:51.115Z"
   },
   {
    "duration": 267,
    "start_time": "2022-11-19T12:54:51.393Z"
   },
   {
    "duration": 222,
    "start_time": "2022-11-19T12:54:51.661Z"
   },
   {
    "duration": 4,
    "start_time": "2022-11-19T12:54:51.885Z"
   },
   {
    "duration": 173,
    "start_time": "2022-11-19T12:54:51.891Z"
   },
   {
    "duration": 209,
    "start_time": "2022-11-19T12:54:52.065Z"
   },
   {
    "duration": 233,
    "start_time": "2022-11-19T12:54:52.276Z"
   },
   {
    "duration": 8,
    "start_time": "2022-11-19T12:54:52.510Z"
   },
   {
    "duration": 247,
    "start_time": "2022-11-19T12:54:52.520Z"
   },
   {
    "duration": 9,
    "start_time": "2022-11-19T12:54:52.776Z"
   },
   {
    "duration": 239,
    "start_time": "2022-11-19T12:54:52.787Z"
   },
   {
    "duration": 9,
    "start_time": "2022-11-19T12:54:53.028Z"
   },
   {
    "duration": 289,
    "start_time": "2022-11-19T12:54:53.038Z"
   },
   {
    "duration": 295,
    "start_time": "2022-11-19T12:54:53.329Z"
   },
   {
    "duration": 9,
    "start_time": "2022-11-19T12:54:53.626Z"
   },
   {
    "duration": 13,
    "start_time": "2022-11-19T12:54:53.637Z"
   },
   {
    "duration": 256,
    "start_time": "2022-11-19T13:21:20.376Z"
   },
   {
    "duration": 12,
    "start_time": "2022-11-19T13:21:21.632Z"
   },
   {
    "duration": 28,
    "start_time": "2022-11-19T13:29:37.064Z"
   },
   {
    "duration": 107,
    "start_time": "2022-11-19T13:33:59.954Z"
   },
   {
    "duration": 8,
    "start_time": "2022-11-19T13:34:24.474Z"
   },
   {
    "duration": 5,
    "start_time": "2022-11-19T13:34:27.601Z"
   },
   {
    "duration": 4,
    "start_time": "2022-11-19T13:35:36.136Z"
   },
   {
    "duration": 7,
    "start_time": "2022-11-19T13:35:38.609Z"
   },
   {
    "duration": 6,
    "start_time": "2022-11-19T13:36:54.146Z"
   },
   {
    "duration": 14,
    "start_time": "2022-11-19T13:37:13.492Z"
   },
   {
    "duration": 1178,
    "start_time": "2022-11-19T13:37:41.111Z"
   },
   {
    "duration": 52,
    "start_time": "2022-11-19T13:37:42.292Z"
   },
   {
    "duration": 58,
    "start_time": "2022-11-19T13:37:42.346Z"
   },
   {
    "duration": 19,
    "start_time": "2022-11-19T13:37:42.406Z"
   },
   {
    "duration": 15,
    "start_time": "2022-11-19T13:37:42.427Z"
   },
   {
    "duration": 11,
    "start_time": "2022-11-19T13:37:42.444Z"
   },
   {
    "duration": 18,
    "start_time": "2022-11-19T13:37:42.477Z"
   },
   {
    "duration": 18,
    "start_time": "2022-11-19T13:37:42.497Z"
   },
   {
    "duration": 13,
    "start_time": "2022-11-19T13:37:42.517Z"
   },
   {
    "duration": 18,
    "start_time": "2022-11-19T13:37:42.532Z"
   },
   {
    "duration": 4,
    "start_time": "2022-11-19T13:37:42.575Z"
   },
   {
    "duration": 22,
    "start_time": "2022-11-19T13:37:42.580Z"
   },
   {
    "duration": 9,
    "start_time": "2022-11-19T13:37:42.603Z"
   },
   {
    "duration": 16,
    "start_time": "2022-11-19T13:37:42.613Z"
   },
   {
    "duration": 20,
    "start_time": "2022-11-19T13:37:42.630Z"
   },
   {
    "duration": 17,
    "start_time": "2022-11-19T13:37:42.651Z"
   },
   {
    "duration": 27,
    "start_time": "2022-11-19T13:37:42.670Z"
   },
   {
    "duration": 22,
    "start_time": "2022-11-19T13:37:42.699Z"
   },
   {
    "duration": 5,
    "start_time": "2022-11-19T13:37:42.722Z"
   },
   {
    "duration": 14,
    "start_time": "2022-11-19T13:37:42.728Z"
   },
   {
    "duration": 5,
    "start_time": "2022-11-19T13:37:42.744Z"
   },
   {
    "duration": 32,
    "start_time": "2022-11-19T13:37:42.751Z"
   },
   {
    "duration": 28,
    "start_time": "2022-11-19T13:37:42.785Z"
   },
   {
    "duration": 14,
    "start_time": "2022-11-19T13:37:42.814Z"
   },
   {
    "duration": 214,
    "start_time": "2022-11-19T13:37:42.830Z"
   },
   {
    "duration": 283,
    "start_time": "2022-11-19T13:37:43.045Z"
   },
   {
    "duration": 195,
    "start_time": "2022-11-19T13:37:43.330Z"
   },
   {
    "duration": 201,
    "start_time": "2022-11-19T13:37:43.530Z"
   },
   {
    "duration": 195,
    "start_time": "2022-11-19T13:37:43.733Z"
   },
   {
    "duration": 187,
    "start_time": "2022-11-19T13:37:43.929Z"
   },
   {
    "duration": 169,
    "start_time": "2022-11-19T13:37:44.117Z"
   },
   {
    "duration": 231,
    "start_time": "2022-11-19T13:37:44.288Z"
   },
   {
    "duration": 5,
    "start_time": "2022-11-19T13:37:44.521Z"
   },
   {
    "duration": 167,
    "start_time": "2022-11-19T13:37:44.527Z"
   },
   {
    "duration": 132,
    "start_time": "2022-11-19T13:37:44.696Z"
   },
   {
    "duration": 142,
    "start_time": "2022-11-19T13:37:44.829Z"
   },
   {
    "duration": 151,
    "start_time": "2022-11-19T13:37:44.977Z"
   },
   {
    "duration": 177,
    "start_time": "2022-11-19T13:37:45.129Z"
   },
   {
    "duration": 148,
    "start_time": "2022-11-19T13:37:45.308Z"
   },
   {
    "duration": 145,
    "start_time": "2022-11-19T13:37:45.458Z"
   },
   {
    "duration": 134,
    "start_time": "2022-11-19T13:37:45.605Z"
   },
   {
    "duration": 128,
    "start_time": "2022-11-19T13:37:45.741Z"
   },
   {
    "duration": 140,
    "start_time": "2022-11-19T13:37:45.875Z"
   },
   {
    "duration": 137,
    "start_time": "2022-11-19T13:37:46.016Z"
   },
   {
    "duration": 3,
    "start_time": "2022-11-19T13:37:46.154Z"
   },
   {
    "duration": 387,
    "start_time": "2022-11-19T13:37:46.158Z"
   },
   {
    "duration": 32,
    "start_time": "2022-11-19T13:37:46.546Z"
   },
   {
    "duration": 283,
    "start_time": "2022-11-19T13:37:46.580Z"
   },
   {
    "duration": 282,
    "start_time": "2022-11-19T13:37:46.864Z"
   },
   {
    "duration": 272,
    "start_time": "2022-11-19T13:37:47.148Z"
   },
   {
    "duration": 281,
    "start_time": "2022-11-19T13:37:47.422Z"
   },
   {
    "duration": 271,
    "start_time": "2022-11-19T13:37:47.705Z"
   },
   {
    "duration": 273,
    "start_time": "2022-11-19T13:37:47.979Z"
   },
   {
    "duration": 219,
    "start_time": "2022-11-19T13:37:48.253Z"
   },
   {
    "duration": 7,
    "start_time": "2022-11-19T13:37:48.476Z"
   },
   {
    "duration": 188,
    "start_time": "2022-11-19T13:37:48.485Z"
   },
   {
    "duration": 239,
    "start_time": "2022-11-19T13:37:48.674Z"
   },
   {
    "duration": 118,
    "start_time": "2022-11-19T13:37:48.915Z"
   },
   {
    "duration": 0,
    "start_time": "2022-11-19T13:37:49.035Z"
   },
   {
    "duration": 0,
    "start_time": "2022-11-19T13:37:49.036Z"
   },
   {
    "duration": 0,
    "start_time": "2022-11-19T13:37:49.037Z"
   },
   {
    "duration": 0,
    "start_time": "2022-11-19T13:37:49.039Z"
   },
   {
    "duration": 0,
    "start_time": "2022-11-19T13:37:49.040Z"
   },
   {
    "duration": 0,
    "start_time": "2022-11-19T13:37:49.041Z"
   },
   {
    "duration": 12,
    "start_time": "2022-11-19T13:37:59.446Z"
   },
   {
    "duration": 46,
    "start_time": "2022-11-19T13:38:12.992Z"
   },
   {
    "duration": 13,
    "start_time": "2022-11-19T13:38:15.191Z"
   },
   {
    "duration": 25,
    "start_time": "2022-11-19T13:38:21.070Z"
   },
   {
    "duration": 7,
    "start_time": "2022-11-19T13:38:41.426Z"
   },
   {
    "duration": 13,
    "start_time": "2022-11-19T13:38:56.801Z"
   },
   {
    "duration": 27,
    "start_time": "2022-11-19T13:39:02.827Z"
   },
   {
    "duration": 7,
    "start_time": "2022-11-19T13:39:22.470Z"
   },
   {
    "duration": 6,
    "start_time": "2022-11-19T13:40:30.399Z"
   },
   {
    "duration": 22,
    "start_time": "2022-11-19T13:40:37.136Z"
   },
   {
    "duration": 11,
    "start_time": "2022-11-19T13:42:13.768Z"
   },
   {
    "duration": 15,
    "start_time": "2022-11-19T13:43:59.189Z"
   },
   {
    "duration": 1228,
    "start_time": "2022-11-19T13:44:04.122Z"
   },
   {
    "duration": 65,
    "start_time": "2022-11-19T13:44:05.352Z"
   },
   {
    "duration": 55,
    "start_time": "2022-11-19T13:44:05.419Z"
   },
   {
    "duration": 28,
    "start_time": "2022-11-19T13:44:05.477Z"
   },
   {
    "duration": 28,
    "start_time": "2022-11-19T13:44:05.507Z"
   },
   {
    "duration": 15,
    "start_time": "2022-11-19T13:44:05.537Z"
   },
   {
    "duration": 35,
    "start_time": "2022-11-19T13:44:05.554Z"
   },
   {
    "duration": 22,
    "start_time": "2022-11-19T13:44:05.591Z"
   },
   {
    "duration": 13,
    "start_time": "2022-11-19T13:44:05.615Z"
   },
   {
    "duration": 27,
    "start_time": "2022-11-19T13:44:05.630Z"
   },
   {
    "duration": 3,
    "start_time": "2022-11-19T13:44:05.679Z"
   },
   {
    "duration": 35,
    "start_time": "2022-11-19T13:44:05.685Z"
   },
   {
    "duration": 21,
    "start_time": "2022-11-19T13:44:05.721Z"
   },
   {
    "duration": 18,
    "start_time": "2022-11-19T13:44:05.744Z"
   },
   {
    "duration": 36,
    "start_time": "2022-11-19T13:44:05.764Z"
   },
   {
    "duration": 10,
    "start_time": "2022-11-19T13:44:05.802Z"
   },
   {
    "duration": 31,
    "start_time": "2022-11-19T13:44:05.814Z"
   },
   {
    "duration": 54,
    "start_time": "2022-11-19T13:44:05.847Z"
   },
   {
    "duration": 7,
    "start_time": "2022-11-19T13:44:05.904Z"
   },
   {
    "duration": 36,
    "start_time": "2022-11-19T13:44:05.913Z"
   },
   {
    "duration": 4,
    "start_time": "2022-11-19T13:44:05.951Z"
   },
   {
    "duration": 24,
    "start_time": "2022-11-19T13:44:05.957Z"
   },
   {
    "duration": 33,
    "start_time": "2022-11-19T13:44:05.983Z"
   },
   {
    "duration": 15,
    "start_time": "2022-11-19T13:44:06.018Z"
   },
   {
    "duration": 213,
    "start_time": "2022-11-19T13:44:06.035Z"
   },
   {
    "duration": 300,
    "start_time": "2022-11-19T13:44:06.249Z"
   },
   {
    "duration": 207,
    "start_time": "2022-11-19T13:44:06.551Z"
   },
   {
    "duration": 202,
    "start_time": "2022-11-19T13:44:06.762Z"
   },
   {
    "duration": 227,
    "start_time": "2022-11-19T13:44:06.965Z"
   },
   {
    "duration": 201,
    "start_time": "2022-11-19T13:44:07.194Z"
   },
   {
    "duration": 183,
    "start_time": "2022-11-19T13:44:07.396Z"
   },
   {
    "duration": 253,
    "start_time": "2022-11-19T13:44:07.581Z"
   },
   {
    "duration": 6,
    "start_time": "2022-11-19T13:44:07.835Z"
   },
   {
    "duration": 167,
    "start_time": "2022-11-19T13:44:07.842Z"
   },
   {
    "duration": 135,
    "start_time": "2022-11-19T13:44:08.010Z"
   },
   {
    "duration": 143,
    "start_time": "2022-11-19T13:44:08.146Z"
   },
   {
    "duration": 128,
    "start_time": "2022-11-19T13:44:08.292Z"
   },
   {
    "duration": 131,
    "start_time": "2022-11-19T13:44:08.421Z"
   },
   {
    "duration": 145,
    "start_time": "2022-11-19T13:44:08.553Z"
   },
   {
    "duration": 126,
    "start_time": "2022-11-19T13:44:08.699Z"
   },
   {
    "duration": 138,
    "start_time": "2022-11-19T13:44:08.827Z"
   },
   {
    "duration": 145,
    "start_time": "2022-11-19T13:44:08.966Z"
   },
   {
    "duration": 146,
    "start_time": "2022-11-19T13:44:09.113Z"
   },
   {
    "duration": 137,
    "start_time": "2022-11-19T13:44:09.261Z"
   },
   {
    "duration": 2,
    "start_time": "2022-11-19T13:44:09.400Z"
   },
   {
    "duration": 399,
    "start_time": "2022-11-19T13:44:09.404Z"
   },
   {
    "duration": 23,
    "start_time": "2022-11-19T13:44:09.805Z"
   },
   {
    "duration": 317,
    "start_time": "2022-11-19T13:44:09.830Z"
   },
   {
    "duration": 319,
    "start_time": "2022-11-19T13:44:10.148Z"
   },
   {
    "duration": 282,
    "start_time": "2022-11-19T13:44:10.475Z"
   },
   {
    "duration": 287,
    "start_time": "2022-11-19T13:44:10.758Z"
   },
   {
    "duration": 301,
    "start_time": "2022-11-19T13:44:11.047Z"
   },
   {
    "duration": 298,
    "start_time": "2022-11-19T13:44:11.350Z"
   },
   {
    "duration": 220,
    "start_time": "2022-11-19T13:44:11.649Z"
   },
   {
    "duration": 10,
    "start_time": "2022-11-19T13:44:11.875Z"
   },
   {
    "duration": 181,
    "start_time": "2022-11-19T13:44:11.887Z"
   },
   {
    "duration": 20,
    "start_time": "2022-11-19T13:44:12.070Z"
   },
   {
    "duration": 21,
    "start_time": "2022-11-19T13:44:12.093Z"
   },
   {
    "duration": 250,
    "start_time": "2022-11-19T13:44:12.116Z"
   },
   {
    "duration": 266,
    "start_time": "2022-11-19T13:44:12.368Z"
   },
   {
    "duration": 278,
    "start_time": "2022-11-19T13:44:12.636Z"
   },
   {
    "duration": 216,
    "start_time": "2022-11-19T13:44:12.915Z"
   },
   {
    "duration": 11,
    "start_time": "2022-11-19T13:44:13.133Z"
   },
   {
    "duration": 16,
    "start_time": "2022-11-19T13:44:13.146Z"
   },
   {
    "duration": 11,
    "start_time": "2022-11-19T13:45:30.911Z"
   },
   {
    "duration": 20,
    "start_time": "2022-11-19T13:45:31.059Z"
   },
   {
    "duration": 9,
    "start_time": "2022-11-19T13:46:09.004Z"
   },
   {
    "duration": 8,
    "start_time": "2022-11-19T13:46:09.823Z"
   },
   {
    "duration": 6,
    "start_time": "2022-11-19T13:46:27.124Z"
   },
   {
    "duration": 7,
    "start_time": "2022-11-19T13:46:27.547Z"
   },
   {
    "duration": 110,
    "start_time": "2022-11-19T13:47:01.123Z"
   },
   {
    "duration": 227,
    "start_time": "2022-11-19T13:47:59.691Z"
   },
   {
    "duration": 110,
    "start_time": "2022-11-19T13:48:54.357Z"
   },
   {
    "duration": 304,
    "start_time": "2022-11-19T13:49:01.249Z"
   },
   {
    "duration": 101,
    "start_time": "2022-11-19T13:49:21.909Z"
   },
   {
    "duration": 119,
    "start_time": "2022-11-19T13:49:28.871Z"
   },
   {
    "duration": 98,
    "start_time": "2022-11-19T13:53:28.363Z"
   },
   {
    "duration": 124,
    "start_time": "2022-11-19T13:53:43.668Z"
   },
   {
    "duration": 108,
    "start_time": "2022-11-19T13:54:10.924Z"
   },
   {
    "duration": 11,
    "start_time": "2022-11-19T13:56:58.127Z"
   },
   {
    "duration": 93,
    "start_time": "2022-11-19T13:57:11.566Z"
   },
   {
    "duration": 14,
    "start_time": "2022-11-19T13:57:35.241Z"
   },
   {
    "duration": 9,
    "start_time": "2022-11-19T13:57:38.419Z"
   },
   {
    "duration": 9,
    "start_time": "2022-11-19T13:57:42.254Z"
   },
   {
    "duration": 132,
    "start_time": "2022-11-19T13:57:44.817Z"
   },
   {
    "duration": 97,
    "start_time": "2022-11-19T13:57:51.897Z"
   },
   {
    "duration": 8,
    "start_time": "2022-11-19T13:58:26.377Z"
   },
   {
    "duration": 103,
    "start_time": "2022-11-19T13:58:27.416Z"
   },
   {
    "duration": 166,
    "start_time": "2022-11-19T14:01:42.789Z"
   },
   {
    "duration": 6,
    "start_time": "2022-11-19T14:02:07.503Z"
   },
   {
    "duration": 5,
    "start_time": "2022-11-19T14:02:41.141Z"
   },
   {
    "duration": 5,
    "start_time": "2022-11-19T14:02:45.957Z"
   },
   {
    "duration": 6,
    "start_time": "2022-11-19T14:02:51.529Z"
   },
   {
    "duration": 1193,
    "start_time": "2022-11-19T14:02:55.519Z"
   },
   {
    "duration": 57,
    "start_time": "2022-11-19T14:02:56.715Z"
   },
   {
    "duration": 63,
    "start_time": "2022-11-19T14:02:56.774Z"
   },
   {
    "duration": 50,
    "start_time": "2022-11-19T14:02:56.840Z"
   },
   {
    "duration": 19,
    "start_time": "2022-11-19T14:02:56.892Z"
   },
   {
    "duration": 18,
    "start_time": "2022-11-19T14:02:56.913Z"
   },
   {
    "duration": 22,
    "start_time": "2022-11-19T14:02:56.933Z"
   },
   {
    "duration": 45,
    "start_time": "2022-11-19T14:02:56.957Z"
   },
   {
    "duration": 15,
    "start_time": "2022-11-19T14:02:57.004Z"
   },
   {
    "duration": 27,
    "start_time": "2022-11-19T14:02:57.023Z"
   },
   {
    "duration": 3,
    "start_time": "2022-11-19T14:02:57.052Z"
   },
   {
    "duration": 18,
    "start_time": "2022-11-19T14:02:57.076Z"
   },
   {
    "duration": 36,
    "start_time": "2022-11-19T14:02:57.096Z"
   },
   {
    "duration": 34,
    "start_time": "2022-11-19T14:02:57.134Z"
   },
   {
    "duration": 49,
    "start_time": "2022-11-19T14:02:57.169Z"
   },
   {
    "duration": 11,
    "start_time": "2022-11-19T14:02:57.220Z"
   },
   {
    "duration": 24,
    "start_time": "2022-11-19T14:02:57.233Z"
   },
   {
    "duration": 34,
    "start_time": "2022-11-19T14:02:57.259Z"
   },
   {
    "duration": 7,
    "start_time": "2022-11-19T14:02:57.296Z"
   },
   {
    "duration": 16,
    "start_time": "2022-11-19T14:02:57.305Z"
   },
   {
    "duration": 4,
    "start_time": "2022-11-19T14:02:57.323Z"
   },
   {
    "duration": 13,
    "start_time": "2022-11-19T14:02:57.328Z"
   },
   {
    "duration": 53,
    "start_time": "2022-11-19T14:02:57.343Z"
   },
   {
    "duration": 15,
    "start_time": "2022-11-19T14:02:57.398Z"
   },
   {
    "duration": 243,
    "start_time": "2022-11-19T14:02:57.414Z"
   },
   {
    "duration": 297,
    "start_time": "2022-11-19T14:02:57.659Z"
   },
   {
    "duration": 232,
    "start_time": "2022-11-19T14:02:57.958Z"
   },
   {
    "duration": 196,
    "start_time": "2022-11-19T14:02:58.195Z"
   },
   {
    "duration": 206,
    "start_time": "2022-11-19T14:02:58.393Z"
   },
   {
    "duration": 202,
    "start_time": "2022-11-19T14:02:58.601Z"
   },
   {
    "duration": 199,
    "start_time": "2022-11-19T14:02:58.805Z"
   },
   {
    "duration": 266,
    "start_time": "2022-11-19T14:02:59.005Z"
   },
   {
    "duration": 17,
    "start_time": "2022-11-19T14:02:59.276Z"
   },
   {
    "duration": 169,
    "start_time": "2022-11-19T14:02:59.295Z"
   },
   {
    "duration": 161,
    "start_time": "2022-11-19T14:02:59.466Z"
   },
   {
    "duration": 136,
    "start_time": "2022-11-19T14:02:59.629Z"
   },
   {
    "duration": 139,
    "start_time": "2022-11-19T14:02:59.767Z"
   },
   {
    "duration": 141,
    "start_time": "2022-11-19T14:02:59.907Z"
   },
   {
    "duration": 156,
    "start_time": "2022-11-19T14:03:00.050Z"
   },
   {
    "duration": 148,
    "start_time": "2022-11-19T14:03:00.208Z"
   },
   {
    "duration": 154,
    "start_time": "2022-11-19T14:03:00.357Z"
   },
   {
    "duration": 144,
    "start_time": "2022-11-19T14:03:00.513Z"
   },
   {
    "duration": 149,
    "start_time": "2022-11-19T14:03:00.658Z"
   },
   {
    "duration": 144,
    "start_time": "2022-11-19T14:03:00.809Z"
   },
   {
    "duration": 3,
    "start_time": "2022-11-19T14:03:00.954Z"
   },
   {
    "duration": 413,
    "start_time": "2022-11-19T14:03:00.958Z"
   },
   {
    "duration": 28,
    "start_time": "2022-11-19T14:03:01.381Z"
   },
   {
    "duration": 309,
    "start_time": "2022-11-19T14:03:01.411Z"
   },
   {
    "duration": 306,
    "start_time": "2022-11-19T14:03:01.721Z"
   },
   {
    "duration": 295,
    "start_time": "2022-11-19T14:03:02.028Z"
   },
   {
    "duration": 296,
    "start_time": "2022-11-19T14:03:02.324Z"
   },
   {
    "duration": 306,
    "start_time": "2022-11-19T14:03:02.622Z"
   },
   {
    "duration": 310,
    "start_time": "2022-11-19T14:03:02.929Z"
   },
   {
    "duration": 251,
    "start_time": "2022-11-19T14:03:03.241Z"
   },
   {
    "duration": 6,
    "start_time": "2022-11-19T14:03:03.493Z"
   },
   {
    "duration": 219,
    "start_time": "2022-11-19T14:03:03.500Z"
   },
   {
    "duration": 11,
    "start_time": "2022-11-19T14:03:03.721Z"
   },
   {
    "duration": 11,
    "start_time": "2022-11-19T14:03:03.734Z"
   },
   {
    "duration": 125,
    "start_time": "2022-11-19T14:03:03.747Z"
   },
   {
    "duration": 120,
    "start_time": "2022-11-19T14:03:03.889Z"
   },
   {
    "duration": 312,
    "start_time": "2022-11-19T14:03:04.012Z"
   },
   {
    "duration": 208,
    "start_time": "2022-11-19T14:03:04.326Z"
   },
   {
    "duration": 11,
    "start_time": "2022-11-19T14:03:04.537Z"
   },
   {
    "duration": 34,
    "start_time": "2022-11-19T14:03:04.550Z"
   },
   {
    "duration": 6,
    "start_time": "2022-11-19T14:03:09.843Z"
   },
   {
    "duration": 263,
    "start_time": "2022-11-19T14:03:23.053Z"
   },
   {
    "duration": 6,
    "start_time": "2022-11-19T14:03:25.993Z"
   },
   {
    "duration": 208,
    "start_time": "2022-11-19T14:03:38.840Z"
   },
   {
    "duration": 5,
    "start_time": "2022-11-19T14:03:41.308Z"
   },
   {
    "duration": 4,
    "start_time": "2022-11-19T14:07:01.945Z"
   },
   {
    "duration": 6,
    "start_time": "2022-11-19T14:10:14.825Z"
   },
   {
    "duration": 19,
    "start_time": "2022-11-19T14:11:18.673Z"
   },
   {
    "duration": 8,
    "start_time": "2022-11-19T14:11:31.486Z"
   },
   {
    "duration": 6,
    "start_time": "2022-11-19T14:14:50.944Z"
   },
   {
    "duration": 1198,
    "start_time": "2022-11-19T14:15:16.474Z"
   },
   {
    "duration": 6,
    "start_time": "2022-11-19T14:15:24.219Z"
   },
   {
    "duration": 4,
    "start_time": "2022-11-19T14:15:59.438Z"
   },
   {
    "duration": 4,
    "start_time": "2022-11-19T14:16:31.496Z"
   },
   {
    "duration": 4,
    "start_time": "2022-11-19T14:16:41.968Z"
   },
   {
    "duration": 4,
    "start_time": "2022-11-19T14:17:06.386Z"
   },
   {
    "duration": 824,
    "start_time": "2022-11-19T14:17:31.092Z"
   },
   {
    "duration": 0,
    "start_time": "2022-11-19T14:17:31.917Z"
   },
   {
    "duration": 3,
    "start_time": "2022-11-19T14:17:51.015Z"
   },
   {
    "duration": 4,
    "start_time": "2022-11-19T14:18:41.486Z"
   },
   {
    "duration": 4,
    "start_time": "2022-11-19T14:18:43.059Z"
   },
   {
    "duration": 7,
    "start_time": "2022-11-19T14:18:52.893Z"
   },
   {
    "duration": 6,
    "start_time": "2022-11-19T14:19:11.034Z"
   },
   {
    "duration": 5,
    "start_time": "2022-11-19T14:19:18.795Z"
   },
   {
    "duration": 4,
    "start_time": "2022-11-19T14:19:26.596Z"
   },
   {
    "duration": 3,
    "start_time": "2022-11-19T14:19:34.140Z"
   },
   {
    "duration": 6,
    "start_time": "2022-11-19T14:19:34.410Z"
   },
   {
    "duration": 5,
    "start_time": "2022-11-19T14:19:34.732Z"
   },
   {
    "duration": 16,
    "start_time": "2022-11-19T14:19:44.750Z"
   },
   {
    "duration": 6,
    "start_time": "2022-11-19T14:19:53.294Z"
   },
   {
    "duration": 870,
    "start_time": "2022-11-19T14:20:11.494Z"
   },
   {
    "duration": 203,
    "start_time": "2022-11-19T14:20:59.750Z"
   },
   {
    "duration": 13,
    "start_time": "2022-11-19T14:21:33.377Z"
   },
   {
    "duration": 145,
    "start_time": "2022-11-19T14:21:43.126Z"
   },
   {
    "duration": 13,
    "start_time": "2022-11-19T14:22:01.490Z"
   },
   {
    "duration": 85,
    "start_time": "2022-11-19T14:22:09.009Z"
   },
   {
    "duration": 76,
    "start_time": "2022-11-19T14:22:26.593Z"
   },
   {
    "duration": 89,
    "start_time": "2022-11-19T14:23:17.836Z"
   },
   {
    "duration": 5,
    "start_time": "2022-11-19T14:24:36.389Z"
   },
   {
    "duration": 122,
    "start_time": "2022-11-19T14:26:02.370Z"
   },
   {
    "duration": 142,
    "start_time": "2022-11-19T14:26:15.197Z"
   },
   {
    "duration": 94,
    "start_time": "2022-11-19T14:26:18.442Z"
   },
   {
    "duration": 107,
    "start_time": "2022-11-19T14:26:27.704Z"
   },
   {
    "duration": 64,
    "start_time": "2022-11-19T14:26:32.370Z"
   },
   {
    "duration": 92,
    "start_time": "2022-11-19T14:26:37.402Z"
   },
   {
    "duration": 5,
    "start_time": "2022-11-19T14:26:58.036Z"
   },
   {
    "duration": 94,
    "start_time": "2022-11-19T14:27:32.520Z"
   },
   {
    "duration": 3,
    "start_time": "2022-11-19T14:27:44.130Z"
   },
   {
    "duration": 9,
    "start_time": "2022-11-19T14:27:49.580Z"
   },
   {
    "duration": 99,
    "start_time": "2022-11-19T14:28:12.310Z"
   },
   {
    "duration": 1686,
    "start_time": "2022-11-20T08:39:22.264Z"
   },
   {
    "duration": 198,
    "start_time": "2022-11-20T08:39:23.953Z"
   },
   {
    "duration": 57,
    "start_time": "2022-11-20T08:39:24.153Z"
   },
   {
    "duration": 20,
    "start_time": "2022-11-20T08:39:24.212Z"
   },
   {
    "duration": 16,
    "start_time": "2022-11-20T08:39:24.252Z"
   },
   {
    "duration": 12,
    "start_time": "2022-11-20T08:39:24.270Z"
   },
   {
    "duration": 14,
    "start_time": "2022-11-20T08:39:24.284Z"
   },
   {
    "duration": 20,
    "start_time": "2022-11-20T08:39:24.300Z"
   },
   {
    "duration": 36,
    "start_time": "2022-11-20T08:39:24.322Z"
   },
   {
    "duration": 21,
    "start_time": "2022-11-20T08:39:24.360Z"
   },
   {
    "duration": 3,
    "start_time": "2022-11-20T08:39:24.383Z"
   },
   {
    "duration": 11,
    "start_time": "2022-11-20T08:39:24.387Z"
   },
   {
    "duration": 7,
    "start_time": "2022-11-20T08:39:24.400Z"
   },
   {
    "duration": 42,
    "start_time": "2022-11-20T08:39:24.410Z"
   },
   {
    "duration": 21,
    "start_time": "2022-11-20T08:39:24.454Z"
   },
   {
    "duration": 9,
    "start_time": "2022-11-20T08:39:24.476Z"
   },
   {
    "duration": 20,
    "start_time": "2022-11-20T08:39:24.487Z"
   },
   {
    "duration": 52,
    "start_time": "2022-11-20T08:39:24.508Z"
   },
   {
    "duration": 6,
    "start_time": "2022-11-20T08:39:24.562Z"
   },
   {
    "duration": 13,
    "start_time": "2022-11-20T08:39:24.569Z"
   },
   {
    "duration": 3,
    "start_time": "2022-11-20T08:39:24.584Z"
   },
   {
    "duration": 6,
    "start_time": "2022-11-20T08:39:24.589Z"
   },
   {
    "duration": 22,
    "start_time": "2022-11-20T08:39:24.597Z"
   },
   {
    "duration": 13,
    "start_time": "2022-11-20T08:39:24.651Z"
   },
   {
    "duration": 206,
    "start_time": "2022-11-20T08:39:24.666Z"
   },
   {
    "duration": 266,
    "start_time": "2022-11-20T08:39:24.874Z"
   },
   {
    "duration": 185,
    "start_time": "2022-11-20T08:39:25.142Z"
   },
   {
    "duration": 183,
    "start_time": "2022-11-20T08:39:25.328Z"
   },
   {
    "duration": 179,
    "start_time": "2022-11-20T08:39:25.512Z"
   },
   {
    "duration": 184,
    "start_time": "2022-11-20T08:39:25.692Z"
   },
   {
    "duration": 184,
    "start_time": "2022-11-20T08:39:25.878Z"
   },
   {
    "duration": 232,
    "start_time": "2022-11-20T08:39:26.064Z"
   },
   {
    "duration": 5,
    "start_time": "2022-11-20T08:39:26.298Z"
   },
   {
    "duration": 162,
    "start_time": "2022-11-20T08:39:26.304Z"
   },
   {
    "duration": 138,
    "start_time": "2022-11-20T08:39:26.468Z"
   },
   {
    "duration": 136,
    "start_time": "2022-11-20T08:39:26.608Z"
   },
   {
    "duration": 139,
    "start_time": "2022-11-20T08:39:26.751Z"
   },
   {
    "duration": 133,
    "start_time": "2022-11-20T08:39:26.892Z"
   },
   {
    "duration": 141,
    "start_time": "2022-11-20T08:39:27.026Z"
   },
   {
    "duration": 126,
    "start_time": "2022-11-20T08:39:27.169Z"
   },
   {
    "duration": 130,
    "start_time": "2022-11-20T08:39:27.298Z"
   },
   {
    "duration": 147,
    "start_time": "2022-11-20T08:39:27.429Z"
   },
   {
    "duration": 140,
    "start_time": "2022-11-20T08:39:27.578Z"
   },
   {
    "duration": 133,
    "start_time": "2022-11-20T08:39:27.719Z"
   },
   {
    "duration": 3,
    "start_time": "2022-11-20T08:39:27.854Z"
   },
   {
    "duration": 389,
    "start_time": "2022-11-20T08:39:27.858Z"
   },
   {
    "duration": 24,
    "start_time": "2022-11-20T08:39:28.249Z"
   },
   {
    "duration": 289,
    "start_time": "2022-11-20T08:39:28.275Z"
   },
   {
    "duration": 294,
    "start_time": "2022-11-20T08:39:28.566Z"
   },
   {
    "duration": 286,
    "start_time": "2022-11-20T08:39:28.861Z"
   },
   {
    "duration": 288,
    "start_time": "2022-11-20T08:39:29.151Z"
   },
   {
    "duration": 320,
    "start_time": "2022-11-20T08:39:29.441Z"
   },
   {
    "duration": 294,
    "start_time": "2022-11-20T08:39:29.763Z"
   },
   {
    "duration": 246,
    "start_time": "2022-11-20T08:39:30.059Z"
   },
   {
    "duration": 6,
    "start_time": "2022-11-20T08:39:30.307Z"
   },
   {
    "duration": 192,
    "start_time": "2022-11-20T08:39:30.314Z"
   },
   {
    "duration": 8,
    "start_time": "2022-11-20T08:39:30.508Z"
   },
   {
    "duration": 133,
    "start_time": "2022-11-20T08:39:30.517Z"
   },
   {
    "duration": 126,
    "start_time": "2022-11-20T08:39:30.652Z"
   },
   {
    "duration": 115,
    "start_time": "2022-11-20T08:39:30.780Z"
   },
   {
    "duration": 298,
    "start_time": "2022-11-20T08:39:30.897Z"
   },
   {
    "duration": 200,
    "start_time": "2022-11-20T08:39:31.197Z"
   },
   {
    "duration": 10,
    "start_time": "2022-11-20T08:39:31.398Z"
   },
   {
    "duration": 12,
    "start_time": "2022-11-20T08:39:31.410Z"
   },
   {
    "duration": 5,
    "start_time": "2022-11-20T08:45:21.521Z"
   },
   {
    "duration": 4,
    "start_time": "2022-11-20T08:45:33.830Z"
   },
   {
    "duration": 5,
    "start_time": "2022-11-20T08:45:42.544Z"
   },
   {
    "duration": 668,
    "start_time": "2022-11-20T08:46:13.128Z"
   },
   {
    "duration": 151,
    "start_time": "2022-11-20T08:46:19.617Z"
   },
   {
    "duration": 256,
    "start_time": "2022-11-20T08:46:56.464Z"
   },
   {
    "duration": 5,
    "start_time": "2022-11-20T08:52:17.965Z"
   },
   {
    "duration": 142,
    "start_time": "2022-11-20T08:59:02.617Z"
   },
   {
    "duration": 1686,
    "start_time": "2022-11-20T09:00:15.025Z"
   },
   {
    "duration": 56,
    "start_time": "2022-11-20T09:00:16.713Z"
   },
   {
    "duration": 57,
    "start_time": "2022-11-20T09:00:16.770Z"
   },
   {
    "duration": 34,
    "start_time": "2022-11-20T09:00:16.829Z"
   },
   {
    "duration": 19,
    "start_time": "2022-11-20T09:00:16.865Z"
   },
   {
    "duration": 15,
    "start_time": "2022-11-20T09:00:16.885Z"
   },
   {
    "duration": 16,
    "start_time": "2022-11-20T09:00:16.901Z"
   },
   {
    "duration": 49,
    "start_time": "2022-11-20T09:00:16.918Z"
   },
   {
    "duration": 14,
    "start_time": "2022-11-20T09:00:16.968Z"
   },
   {
    "duration": 23,
    "start_time": "2022-11-20T09:00:16.985Z"
   },
   {
    "duration": 3,
    "start_time": "2022-11-20T09:00:17.010Z"
   },
   {
    "duration": 37,
    "start_time": "2022-11-20T09:00:17.015Z"
   },
   {
    "duration": 9,
    "start_time": "2022-11-20T09:00:17.054Z"
   },
   {
    "duration": 9,
    "start_time": "2022-11-20T09:00:17.065Z"
   },
   {
    "duration": 23,
    "start_time": "2022-11-20T09:00:17.076Z"
   },
   {
    "duration": 11,
    "start_time": "2022-11-20T09:00:17.101Z"
   },
   {
    "duration": 54,
    "start_time": "2022-11-20T09:00:17.114Z"
   },
   {
    "duration": 28,
    "start_time": "2022-11-20T09:00:17.170Z"
   },
   {
    "duration": 7,
    "start_time": "2022-11-20T09:00:17.200Z"
   },
   {
    "duration": 45,
    "start_time": "2022-11-20T09:00:17.209Z"
   },
   {
    "duration": 5,
    "start_time": "2022-11-20T09:00:17.256Z"
   },
   {
    "duration": 8,
    "start_time": "2022-11-20T09:00:17.262Z"
   },
   {
    "duration": 24,
    "start_time": "2022-11-20T09:00:17.272Z"
   },
   {
    "duration": 15,
    "start_time": "2022-11-20T09:00:17.298Z"
   },
   {
    "duration": 258,
    "start_time": "2022-11-20T09:00:17.315Z"
   },
   {
    "duration": 302,
    "start_time": "2022-11-20T09:00:17.575Z"
   },
   {
    "duration": 207,
    "start_time": "2022-11-20T09:00:17.879Z"
   },
   {
    "duration": 205,
    "start_time": "2022-11-20T09:00:18.091Z"
   },
   {
    "duration": 205,
    "start_time": "2022-11-20T09:00:18.299Z"
   },
   {
    "duration": 208,
    "start_time": "2022-11-20T09:00:18.507Z"
   },
   {
    "duration": 194,
    "start_time": "2022-11-20T09:00:18.717Z"
   },
   {
    "duration": 278,
    "start_time": "2022-11-20T09:00:18.912Z"
   },
   {
    "duration": 8,
    "start_time": "2022-11-20T09:00:19.192Z"
   },
   {
    "duration": 191,
    "start_time": "2022-11-20T09:00:19.202Z"
   },
   {
    "duration": 147,
    "start_time": "2022-11-20T09:00:19.395Z"
   },
   {
    "duration": 188,
    "start_time": "2022-11-20T09:00:19.544Z"
   },
   {
    "duration": 167,
    "start_time": "2022-11-20T09:00:19.734Z"
   },
   {
    "duration": 143,
    "start_time": "2022-11-20T09:00:19.902Z"
   },
   {
    "duration": 159,
    "start_time": "2022-11-20T09:00:20.051Z"
   },
   {
    "duration": 144,
    "start_time": "2022-11-20T09:00:20.212Z"
   },
   {
    "duration": 151,
    "start_time": "2022-11-20T09:00:20.357Z"
   },
   {
    "duration": 162,
    "start_time": "2022-11-20T09:00:20.510Z"
   },
   {
    "duration": 157,
    "start_time": "2022-11-20T09:00:20.674Z"
   },
   {
    "duration": 145,
    "start_time": "2022-11-20T09:00:20.833Z"
   },
   {
    "duration": 2,
    "start_time": "2022-11-20T09:00:20.980Z"
   },
   {
    "duration": 400,
    "start_time": "2022-11-20T09:00:20.984Z"
   },
   {
    "duration": 26,
    "start_time": "2022-11-20T09:00:21.386Z"
   },
   {
    "duration": 309,
    "start_time": "2022-11-20T09:00:21.414Z"
   },
   {
    "duration": 304,
    "start_time": "2022-11-20T09:00:21.725Z"
   },
   {
    "duration": 289,
    "start_time": "2022-11-20T09:00:22.031Z"
   },
   {
    "duration": 284,
    "start_time": "2022-11-20T09:00:22.322Z"
   },
   {
    "duration": 292,
    "start_time": "2022-11-20T09:00:22.608Z"
   },
   {
    "duration": 287,
    "start_time": "2022-11-20T09:00:22.901Z"
   },
   {
    "duration": 232,
    "start_time": "2022-11-20T09:00:23.190Z"
   },
   {
    "duration": 4,
    "start_time": "2022-11-20T09:00:23.424Z"
   },
   {
    "duration": 192,
    "start_time": "2022-11-20T09:00:23.430Z"
   },
   {
    "duration": 6,
    "start_time": "2022-11-20T09:00:23.624Z"
   },
   {
    "duration": 118,
    "start_time": "2022-11-20T09:00:23.632Z"
   },
   {
    "duration": 110,
    "start_time": "2022-11-20T09:00:23.752Z"
   },
   {
    "duration": 113,
    "start_time": "2022-11-20T09:00:23.863Z"
   },
   {
    "duration": 289,
    "start_time": "2022-11-20T09:00:23.978Z"
   },
   {
    "duration": 202,
    "start_time": "2022-11-20T09:00:24.269Z"
   },
   {
    "duration": 10,
    "start_time": "2022-11-20T09:00:24.473Z"
   },
   {
    "duration": 10,
    "start_time": "2022-11-20T09:00:24.484Z"
   },
   {
    "duration": 1093,
    "start_time": "2023-02-18T22:40:38.336Z"
   },
   {
    "duration": 201,
    "start_time": "2023-02-18T22:40:39.431Z"
   },
   {
    "duration": 48,
    "start_time": "2023-02-18T22:40:39.633Z"
   },
   {
    "duration": 18,
    "start_time": "2023-02-18T22:40:39.684Z"
   },
   {
    "duration": 17,
    "start_time": "2023-02-18T22:40:39.703Z"
   },
   {
    "duration": 31,
    "start_time": "2023-02-18T22:40:39.721Z"
   },
   {
    "duration": 14,
    "start_time": "2023-02-18T22:40:39.754Z"
   },
   {
    "duration": 16,
    "start_time": "2023-02-18T22:40:39.770Z"
   },
   {
    "duration": 11,
    "start_time": "2023-02-18T22:40:39.788Z"
   },
   {
    "duration": 19,
    "start_time": "2023-02-18T22:40:39.801Z"
   },
   {
    "duration": 28,
    "start_time": "2023-02-18T22:40:39.821Z"
   },
   {
    "duration": 13,
    "start_time": "2023-02-18T22:40:39.851Z"
   },
   {
    "duration": 10,
    "start_time": "2023-02-18T22:40:39.866Z"
   },
   {
    "duration": 17,
    "start_time": "2023-02-18T22:40:39.877Z"
   },
   {
    "duration": 25,
    "start_time": "2023-02-18T22:40:39.896Z"
   },
   {
    "duration": 27,
    "start_time": "2023-02-18T22:40:39.922Z"
   },
   {
    "duration": 21,
    "start_time": "2023-02-18T22:40:39.951Z"
   },
   {
    "duration": 30,
    "start_time": "2023-02-18T22:40:39.974Z"
   },
   {
    "duration": 6,
    "start_time": "2023-02-18T22:40:40.006Z"
   },
   {
    "duration": 40,
    "start_time": "2023-02-18T22:40:40.013Z"
   },
   {
    "duration": 3,
    "start_time": "2023-02-18T22:40:40.055Z"
   },
   {
    "duration": 12,
    "start_time": "2023-02-18T22:40:40.060Z"
   },
   {
    "duration": 21,
    "start_time": "2023-02-18T22:40:40.074Z"
   },
   {
    "duration": 14,
    "start_time": "2023-02-18T22:40:40.096Z"
   },
   {
    "duration": 202,
    "start_time": "2023-02-18T22:40:40.111Z"
   },
   {
    "duration": 248,
    "start_time": "2023-02-18T22:40:40.314Z"
   },
   {
    "duration": 164,
    "start_time": "2023-02-18T22:40:40.564Z"
   },
   {
    "duration": 173,
    "start_time": "2023-02-18T22:40:40.732Z"
   },
   {
    "duration": 169,
    "start_time": "2023-02-18T22:40:40.907Z"
   },
   {
    "duration": 159,
    "start_time": "2023-02-18T22:40:41.078Z"
   },
   {
    "duration": 154,
    "start_time": "2023-02-18T22:40:41.239Z"
   },
   {
    "duration": 224,
    "start_time": "2023-02-18T22:40:41.395Z"
   },
   {
    "duration": 5,
    "start_time": "2023-02-18T22:40:41.620Z"
   },
   {
    "duration": 145,
    "start_time": "2023-02-18T22:40:41.627Z"
   },
   {
    "duration": 123,
    "start_time": "2023-02-18T22:40:41.773Z"
   },
   {
    "duration": 129,
    "start_time": "2023-02-18T22:40:41.897Z"
   },
   {
    "duration": 122,
    "start_time": "2023-02-18T22:40:42.027Z"
   },
   {
    "duration": 125,
    "start_time": "2023-02-18T22:40:42.151Z"
   },
   {
    "duration": 128,
    "start_time": "2023-02-18T22:40:42.278Z"
   },
   {
    "duration": 114,
    "start_time": "2023-02-18T22:40:42.408Z"
   },
   {
    "duration": 115,
    "start_time": "2023-02-18T22:40:42.523Z"
   },
   {
    "duration": 124,
    "start_time": "2023-02-18T22:40:42.647Z"
   },
   {
    "duration": 134,
    "start_time": "2023-02-18T22:40:42.773Z"
   },
   {
    "duration": 119,
    "start_time": "2023-02-18T22:40:42.909Z"
   },
   {
    "duration": 3,
    "start_time": "2023-02-18T22:40:43.030Z"
   },
   {
    "duration": 356,
    "start_time": "2023-02-18T22:40:43.034Z"
   },
   {
    "duration": 24,
    "start_time": "2023-02-18T22:40:43.391Z"
   },
   {
    "duration": 284,
    "start_time": "2023-02-18T22:40:43.417Z"
   },
   {
    "duration": 263,
    "start_time": "2023-02-18T22:40:43.703Z"
   },
   {
    "duration": 249,
    "start_time": "2023-02-18T22:40:43.968Z"
   },
   {
    "duration": 245,
    "start_time": "2023-02-18T22:40:44.221Z"
   },
   {
    "duration": 239,
    "start_time": "2023-02-18T22:40:44.468Z"
   },
   {
    "duration": 246,
    "start_time": "2023-02-18T22:40:44.708Z"
   },
   {
    "duration": 205,
    "start_time": "2023-02-18T22:40:44.956Z"
   },
   {
    "duration": 6,
    "start_time": "2023-02-18T22:40:45.163Z"
   },
   {
    "duration": 219,
    "start_time": "2023-02-18T22:40:45.170Z"
   },
   {
    "duration": 9,
    "start_time": "2023-02-18T22:40:45.391Z"
   },
   {
    "duration": 111,
    "start_time": "2023-02-18T22:40:45.402Z"
   },
   {
    "duration": 106,
    "start_time": "2023-02-18T22:40:45.515Z"
   },
   {
    "duration": 93,
    "start_time": "2023-02-18T22:40:45.622Z"
   },
   {
    "duration": 256,
    "start_time": "2023-02-18T22:40:45.717Z"
   },
   {
    "duration": 178,
    "start_time": "2023-02-18T22:40:45.974Z"
   },
   {
    "duration": 10,
    "start_time": "2023-02-18T22:40:46.154Z"
   },
   {
    "duration": 14,
    "start_time": "2023-02-18T22:40:46.165Z"
   },
   {
    "duration": 1106,
    "start_time": "2023-02-18T22:49:47.027Z"
   },
   {
    "duration": 50,
    "start_time": "2023-02-18T22:49:48.135Z"
   },
   {
    "duration": 50,
    "start_time": "2023-02-18T22:49:48.186Z"
   },
   {
    "duration": 21,
    "start_time": "2023-02-18T22:49:48.238Z"
   },
   {
    "duration": 15,
    "start_time": "2023-02-18T22:49:48.260Z"
   },
   {
    "duration": 13,
    "start_time": "2023-02-18T22:49:48.276Z"
   },
   {
    "duration": 12,
    "start_time": "2023-02-18T22:49:48.290Z"
   },
   {
    "duration": 45,
    "start_time": "2023-02-18T22:49:48.304Z"
   },
   {
    "duration": 10,
    "start_time": "2023-02-18T22:49:48.351Z"
   },
   {
    "duration": 19,
    "start_time": "2023-02-18T22:49:48.364Z"
   },
   {
    "duration": 3,
    "start_time": "2023-02-18T22:49:48.384Z"
   },
   {
    "duration": 8,
    "start_time": "2023-02-18T22:49:48.389Z"
   },
   {
    "duration": 8,
    "start_time": "2023-02-18T22:49:48.399Z"
   },
   {
    "duration": 8,
    "start_time": "2023-02-18T22:49:48.409Z"
   },
   {
    "duration": 18,
    "start_time": "2023-02-18T22:49:48.448Z"
   },
   {
    "duration": 8,
    "start_time": "2023-02-18T22:49:48.467Z"
   },
   {
    "duration": 19,
    "start_time": "2023-02-18T22:49:48.476Z"
   },
   {
    "duration": 22,
    "start_time": "2023-02-18T22:49:48.496Z"
   },
   {
    "duration": 32,
    "start_time": "2023-02-18T22:49:48.519Z"
   },
   {
    "duration": 13,
    "start_time": "2023-02-18T22:49:48.552Z"
   },
   {
    "duration": 3,
    "start_time": "2023-02-18T22:49:48.566Z"
   },
   {
    "duration": 6,
    "start_time": "2023-02-18T22:49:48.571Z"
   },
   {
    "duration": 21,
    "start_time": "2023-02-18T22:49:48.578Z"
   },
   {
    "duration": 14,
    "start_time": "2023-02-18T22:49:48.600Z"
   },
   {
    "duration": 202,
    "start_time": "2023-02-18T22:49:48.615Z"
   },
   {
    "duration": 239,
    "start_time": "2023-02-18T22:49:48.818Z"
   },
   {
    "duration": 171,
    "start_time": "2023-02-18T22:49:49.059Z"
   },
   {
    "duration": 166,
    "start_time": "2023-02-18T22:49:49.233Z"
   },
   {
    "duration": 165,
    "start_time": "2023-02-18T22:49:49.400Z"
   },
   {
    "duration": 161,
    "start_time": "2023-02-18T22:49:49.567Z"
   },
   {
    "duration": 170,
    "start_time": "2023-02-18T22:49:49.730Z"
   },
   {
    "duration": 217,
    "start_time": "2023-02-18T22:49:49.903Z"
   },
   {
    "duration": 5,
    "start_time": "2023-02-18T22:49:50.121Z"
   },
   {
    "duration": 144,
    "start_time": "2023-02-18T22:49:50.128Z"
   },
   {
    "duration": 121,
    "start_time": "2023-02-18T22:49:50.273Z"
   },
   {
    "duration": 126,
    "start_time": "2023-02-18T22:49:50.396Z"
   },
   {
    "duration": 107,
    "start_time": "2023-02-18T22:49:50.523Z"
   },
   {
    "duration": 122,
    "start_time": "2023-02-18T22:49:50.632Z"
   },
   {
    "duration": 123,
    "start_time": "2023-02-18T22:49:50.755Z"
   },
   {
    "duration": 117,
    "start_time": "2023-02-18T22:49:50.880Z"
   },
   {
    "duration": 121,
    "start_time": "2023-02-18T22:49:50.998Z"
   },
   {
    "duration": 120,
    "start_time": "2023-02-18T22:49:51.121Z"
   },
   {
    "duration": 120,
    "start_time": "2023-02-18T22:49:51.247Z"
   },
   {
    "duration": 117,
    "start_time": "2023-02-18T22:49:51.369Z"
   },
   {
    "duration": 2,
    "start_time": "2023-02-18T22:49:51.488Z"
   },
   {
    "duration": 341,
    "start_time": "2023-02-18T22:49:51.491Z"
   },
   {
    "duration": 32,
    "start_time": "2023-02-18T22:49:51.834Z"
   },
   {
    "duration": 261,
    "start_time": "2023-02-18T22:49:51.867Z"
   },
   {
    "duration": 271,
    "start_time": "2023-02-18T22:49:52.130Z"
   },
   {
    "duration": 251,
    "start_time": "2023-02-18T22:49:52.403Z"
   },
   {
    "duration": 253,
    "start_time": "2023-02-18T22:49:52.655Z"
   },
   {
    "duration": 258,
    "start_time": "2023-02-18T22:49:52.910Z"
   },
   {
    "duration": 243,
    "start_time": "2023-02-18T22:49:53.170Z"
   },
   {
    "duration": 206,
    "start_time": "2023-02-18T22:49:53.415Z"
   },
   {
    "duration": 5,
    "start_time": "2023-02-18T22:49:53.622Z"
   },
   {
    "duration": 165,
    "start_time": "2023-02-18T22:49:53.629Z"
   },
   {
    "duration": 7,
    "start_time": "2023-02-18T22:49:53.795Z"
   },
   {
    "duration": 111,
    "start_time": "2023-02-18T22:49:53.803Z"
   },
   {
    "duration": 102,
    "start_time": "2023-02-18T22:49:53.917Z"
   },
   {
    "duration": 98,
    "start_time": "2023-02-18T22:49:54.021Z"
   },
   {
    "duration": 258,
    "start_time": "2023-02-18T22:49:54.121Z"
   },
   {
    "duration": 182,
    "start_time": "2023-02-18T22:49:54.380Z"
   },
   {
    "duration": 9,
    "start_time": "2023-02-18T22:49:54.563Z"
   },
   {
    "duration": 9,
    "start_time": "2023-02-18T22:49:54.573Z"
   }
  ],
  "kernelspec": {
   "display_name": "Python 3 (ipykernel)",
   "language": "python",
   "name": "python3"
  },
  "language_info": {
   "codemirror_mode": {
    "name": "ipython",
    "version": 3
   },
   "file_extension": ".py",
   "mimetype": "text/x-python",
   "name": "python",
   "nbconvert_exporter": "python",
   "pygments_lexer": "ipython3",
   "version": "3.9.5"
  },
  "toc": {
   "base_numbering": 1,
   "nav_menu": {},
   "number_sections": true,
   "sideBar": true,
   "skip_h1_title": true,
   "title_cell": "Table of Contents",
   "title_sidebar": "Contents",
   "toc_cell": false,
   "toc_position": {},
   "toc_section_display": true,
   "toc_window_display": false
  }
 },
 "nbformat": 4,
 "nbformat_minor": 2
}
